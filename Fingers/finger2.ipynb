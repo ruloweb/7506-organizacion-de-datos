{
 "cells": [
  {
   "cell_type": "markdown",
   "metadata": {},
   "source": [
    "# Finger 2\n",
    "\n",
    "## Enunciados\n",
    "\n",
    "1) Encontrar los 5 anuncios cuya tasa de conversión (postulaciones al anuncio sobre visitas totales al anuncio) es la más alta.\n",
    "  * **Nota:** Tener en cuenta que es posible que por ejemplo un anuncio con una visita y una postulación quede primero. Para evitar este inconveniente, tomar únicamente los avisos que poseen al menos un 25% de las visitas promedio que poseen los avisos. Por ejemplo, si el promedio de visitas de los avisos es 100, tomar solo los avisos que tengan al menos 25 visitas.\n",
    "  * **Nota2:** Tener en cuenta también que los datos de vistas están incompletos. Solo podrá obtenerse la tasa de conversión para el período donde se tengan ambas informaciones (postulaciones y vistas).\n",
    "\n",
    "2) Indicar la distribución de la edad de los postulantes\n",
    "\n",
    "3) Realizar una visualización que nos permita analizar la evolución de cantidad de visitas por día y el nivel de estudio alcanzado por el postulante. El tipo de visualización será propuesto por el alumno.\n",
    "  * **Nota:** Tener en cuenta que el nivel educativo del postulante dependerá de si el mismo fue completado, abandonado etc, por lo que para definir un nivel de estudio alcanzado hay que considerar tanto el nivel de estudios como el estado en el que se encuentra para el postulante: (Por ejemplo “Universitario En Curso” o “Universitario Abandonado” son casos válidos).\n"
   ]
  },
  {
   "cell_type": "code",
   "execution_count": 1,
   "metadata": {},
   "outputs": [],
   "source": [
    "import findspark\n",
    "findspark.init()\n",
    "import pyspark\n",
    "import os\n",
    "\n",
    "# make sure pyspark tells workers to use python3 not 2 if both are installed\n",
    "os.environ['PYSPARK_PYTHON'] = '/usr/bin/python3.6'"
   ]
  },
  {
   "cell_type": "code",
   "execution_count": 65,
   "metadata": {},
   "outputs": [],
   "source": [
    "import numpy as np\n",
    "import matplotlib.pyplot as plt\n",
    "from dateutil import parser\n",
    "from datetime import date"
   ]
  },
  {
   "cell_type": "code",
   "execution_count": 3,
   "metadata": {},
   "outputs": [],
   "source": [
    "sc = pyspark.SparkContext(appName=\"Finger2\")"
   ]
  },
  {
   "cell_type": "code",
   "execution_count": 4,
   "metadata": {},
   "outputs": [],
   "source": [
    "# Load CSVs.\n",
    "postulantes_educacion = sc.textFile(\"file:///data/fiuba_1_postulantes_educacion.csv\")\n",
    "postulantes_genero_y_edad = sc.textFile(\"file:///data/fiuba_2_postulantes_genero_y_edad.csv\")\n",
    "visitas = sc.textFile(\"file:///data/fiuba_3_vistas.csv\")\n",
    "postulaciones = sc.textFile(\"file:///data/fiuba_4_postulaciones.csv\")"
   ]
  },
  {
   "cell_type": "code",
   "execution_count": 5,
   "metadata": {},
   "outputs": [],
   "source": [
    "# Split columns.\n",
    "postulantes_educacion = postulantes_educacion.map(lambda x: x.split(','))\n",
    "postulantes_genero_y_edad = postulantes_genero_y_edad.map(lambda x: x.split(','))\n",
    "visitas = visitas.map(lambda x: x.split(','))\n",
    "postulaciones = postulaciones.map(lambda x: x.split(','))"
   ]
  },
  {
   "cell_type": "code",
   "execution_count": 6,
   "metadata": {},
   "outputs": [
    {
     "name": "stdout",
     "output_type": "stream",
     "text": [
      "298232\n"
     ]
    },
    {
     "data": {
      "text/plain": [
       "[['idpostulante', 'nombre', 'estado'],\n",
       " ['NdJl', 'Posgrado', 'En Curso'],\n",
       " ['8BkL', 'Universitario', 'En Curso'],\n",
       " ['1d2B', 'Universitario', 'En Curso'],\n",
       " ['NPBx', 'Universitario', 'En Curso']]"
      ]
     },
     "execution_count": 6,
     "metadata": {},
     "output_type": "execute_result"
    }
   ],
   "source": [
    "print(postulantes_educacion.count())\n",
    "postulantes_educacion.take(5)"
   ]
  },
  {
   "cell_type": "code",
   "execution_count": 7,
   "metadata": {},
   "outputs": [
    {
     "name": "stdout",
     "output_type": "stream",
     "text": [
      "200889\n"
     ]
    },
    {
     "data": {
      "text/plain": [
       "[['idpostulante', 'fechanacimiento', 'sexo'],\n",
       " ['NM5M', '1970-12-03', 'FEM'],\n",
       " ['5awk', '1962-12-04', 'FEM'],\n",
       " ['ZaO5', '1978-08-10', 'FEM'],\n",
       " ['NdJl', '1969-05-09', 'MASC']]"
      ]
     },
     "execution_count": 7,
     "metadata": {},
     "output_type": "execute_result"
    }
   ],
   "source": [
    "print(postulantes_genero_y_edad.count())\n",
    "postulantes_genero_y_edad.take(5)"
   ]
  },
  {
   "cell_type": "code",
   "execution_count": 8,
   "metadata": {},
   "outputs": [
    {
     "name": "stdout",
     "output_type": "stream",
     "text": [
      "961898\n"
     ]
    },
    {
     "data": {
      "text/plain": [
       "[['idAviso', 'timestamp', 'idpostulante'],\n",
       " ['9240880', '2018-02-28T22:18:28.107-0500', '8MPVQeD'],\n",
       " ['5791240', '2018-02-25T09:53:33.747-0500', 'NzrEmqx'],\n",
       " ['3006520', '2018-02-27T18:26:44.163-0500', 'ZXQG65'],\n",
       " ['2613010', '2018-02-28T12:31:59.425-0500', '8MBzNE3']]"
      ]
     },
     "execution_count": 8,
     "metadata": {},
     "output_type": "execute_result"
    }
   ],
   "source": [
    "print(visitas.count())\n",
    "visitas.top(5)"
   ]
  },
  {
   "cell_type": "code",
   "execution_count": 9,
   "metadata": {},
   "outputs": [
    {
     "name": "stdout",
     "output_type": "stream",
     "text": [
      "3401624\n"
     ]
    },
    {
     "data": {
      "text/plain": [
       "[['idaviso', 'idpostulante', 'fechapostulacion'],\n",
       " ['1112257047', 'NM5M', '2018-01-15 16:22:34'],\n",
       " ['1111920714', 'NM5M', '2018-02-06 09:04:50'],\n",
       " ['1112346945', 'NM5M', '2018-02-22 09:04:47'],\n",
       " ['1112345547', 'NM5M', '2018-02-22 09:04:59']]"
      ]
     },
     "execution_count": 9,
     "metadata": {},
     "output_type": "execute_result"
    }
   ],
   "source": [
    "print(postulaciones.count())\n",
    "postulaciones.take(5)"
   ]
  },
  {
   "cell_type": "code",
   "execution_count": 10,
   "metadata": {},
   "outputs": [],
   "source": [
    "# Remove headers.\n",
    "postulantes_educacion = postulantes_educacion.filter(lambda x: not x[0].startswith('idpostulante'))\n",
    "postulantes_genero_y_edad = postulantes_genero_y_edad.filter(lambda x: not x[0].startswith('idpostulante'))\n",
    "visitas = visitas.filter(lambda x: not x[0].startswith('idAviso'))\n",
    "postulaciones = postulaciones.filter(lambda x: not x[0].startswith('idaviso'))"
   ]
  },
  {
   "cell_type": "markdown",
   "metadata": {},
   "source": [
    "## Ejercicio 1\n",
    "\n",
    "**TODO:** utilizar unicamente los registros de los dias donde existen ambos datos, visitas y postulaciones. De otra forma tendremos muchas mas postulaciones que visitas, devolviendo resultados no esperados."
   ]
  },
  {
   "cell_type": "code",
   "execution_count": 11,
   "metadata": {},
   "outputs": [
    {
     "name": "stdout",
     "output_type": "stream",
     "text": [
      "Number of visitas: 961897\n",
      "Number of avisos: 7458\n",
      "Visitas mean: 129\n",
      "Number of avisos filtered (visitas >= 25% of the visitas mean): 3888\n"
     ]
    },
    {
     "data": {
      "image/png": "[encoded data removed]",
      "text/plain": [
       "<matplotlib.figure.Figure at 0x7f9dc4ef3198>"
      ]
     },
     "metadata": {},
     "output_type": "display_data"
    },
    {
     "data": {
      "text/plain": [
       "[('1112327963', 136),\n",
       " ('1112318643', 270),\n",
       " ('1112346704', 817),\n",
       " ('1112282610', 260),\n",
       " ('1112342544', 661)]"
      ]
     },
     "execution_count": 11,
     "metadata": {},
     "output_type": "execute_result"
    }
   ],
   "source": [
    "# ('1112327963', 136)\n",
    "visitas_rdd_count = visitas.map(lambda x: (x[0], 1)).reduceByKey(lambda x, y: x + y)\n",
    "# Returns number of visitas and number of unique avisos.\n",
    "visitas_rdd_mean = visitas_rdd_count.map(lambda x: (x[1], 1)).reduce(lambda x, y: (x[0] + y[0], x[1] + y[1]))\n",
    "visitas_mean = round(visitas_rdd_mean[0] / visitas_rdd_mean[1])\n",
    "\n",
    "print(\"Number of visitas: %d\" % visitas_rdd_mean[0])\n",
    "print(\"Number of avisos: %d\" % visitas_rdd_mean[1])\n",
    "print(\"Visitas mean: %d\" % visitas_mean)\n",
    "\n",
    "# Filter by the 25% of the visitas mean.\n",
    "visitas_rdd_filtered = visitas_rdd_count.filter(lambda x: x[1] >= visitas_mean / 4)\n",
    "print(\"Number of avisos filtered (visitas >= 25%% of the visitas mean): %d\" % visitas_rdd_filtered.count())\n",
    "\n",
    "# Histogram.\n",
    "plt.figure(figsize=(15, 5))\n",
    "plt.hist(visitas_rdd_count.map(lambda x: x[1]).collect(), bins=200)\n",
    "plt.title('Visitas')\n",
    "plt.xlabel('# of visitas')\n",
    "plt.ylabel('# of avisos')\n",
    "plt.show()\n",
    "\n",
    "visitas_rdd_filtered.take(5)"
   ]
  },
  {
   "cell_type": "code",
   "execution_count": 12,
   "metadata": {},
   "outputs": [
    {
     "name": "stdout",
     "output_type": "stream",
     "text": [
      "Number of postulaciones: 3401623\n",
      "Number of avisos: 12692\n",
      "Postulaciones mean: 268\n"
     ]
    },
    {
     "data": {
      "image/png": "[encoded data removed]",
      "text/plain": [
       "<matplotlib.figure.Figure at 0x7f9dc404b5f8>"
      ]
     },
     "metadata": {},
     "output_type": "display_data"
    },
    {
     "data": {
      "text/plain": [
       "[('1112237522', 168),\n",
       " ('1112277633', 671),\n",
       " ('1112315393', 233),\n",
       " ('1112346738', 228),\n",
       " ('1112288401', 2058)]"
      ]
     },
     "execution_count": 12,
     "metadata": {},
     "output_type": "execute_result"
    }
   ],
   "source": [
    "# ('1112327963', 136)\n",
    "postulaciones_rdd_count = postulaciones.map(lambda x: (x[0], 1)).reduceByKey(lambda x, y: x + y)\n",
    "# Returns number of postulaciones and number of unique avisos.\n",
    "postulaciones_rdd_mean = postulaciones_rdd_count.map(lambda x: (x[1], 1)).reduce(lambda x, y: (x[0] + y[0], x[1] + y[1]))\n",
    "postulaciones_mean = round(postulaciones_rdd_mean[0] / postulaciones_rdd_mean[1])\n",
    "\n",
    "print(\"Number of postulaciones: %d\" % postulaciones_rdd_mean[0])\n",
    "print(\"Number of avisos: %d\" % postulaciones_rdd_mean[1])\n",
    "print(\"Postulaciones mean: %d\" % postulaciones_mean)\n",
    "\n",
    "# Histogram.\n",
    "plt.figure(figsize=(15, 5))\n",
    "plt.hist(postulaciones_rdd_count.map(lambda x: x[1]).collect(), bins=200)\n",
    "plt.title('Postulaciones')\n",
    "plt.xlabel('# of postulaciones')\n",
    "plt.ylabel('# of avisos')\n",
    "plt.show()\n",
    "\n",
    "postulaciones_rdd_count.take(5)"
   ]
  },
  {
   "cell_type": "code",
   "execution_count": 13,
   "metadata": {},
   "outputs": [
    {
     "data": {
      "text/plain": [
       "[('1112318643', (270, 683)),\n",
       " ('1112339122', (408, 2098)),\n",
       " ('1112357825', (643, 553)),\n",
       " ('1112288401', (60, 2058)),\n",
       " ('1112321767', (119, 424))]"
      ]
     },
     "execution_count": 13,
     "metadata": {},
     "output_type": "execute_result"
    }
   ],
   "source": [
    "# Join both RDD, visitas and postulaciones\n",
    "visitas_rdd_count_join = visitas_rdd_filtered.join(postulaciones_rdd_count)\n",
    "visitas_rdd_count_join.take(5)"
   ]
  },
  {
   "cell_type": "code",
   "execution_count": 14,
   "metadata": {},
   "outputs": [
    {
     "data": {
      "text/plain": [
       "[('1111753681', 140.16666666666666),\n",
       " ('1112285953', 125.22222222222223),\n",
       " ('1112285529', 91.975),\n",
       " ('1112285124', 90.1951219512195),\n",
       " ('1112282268', 71.45238095238095)]"
      ]
     },
     "execution_count": 14,
     "metadata": {},
     "output_type": "execute_result"
    }
   ],
   "source": [
    "# Compute postulaciones / visitas, take the top 5\n",
    "coversion_rate = visitas_rdd_count_join.map(lambda x: (x[0], x[1][1] / x[1][0])).sortBy(lambda x: x[1], ascending=False)\n",
    "coversion_rate.take(5)"
   ]
  },
  {
   "cell_type": "markdown",
   "metadata": {},
   "source": [
    "## Ejercicio 2"
   ]
  },
  {
   "cell_type": "code",
   "execution_count": 34,
   "metadata": {},
   "outputs": [],
   "source": [
    "# Filter empty and wrong dates.\n",
    "postulantes_genero_y_edad = postulantes_genero_y_edad.filter(lambda x: x[1].startswith('19') or x[1].startswith('20'))"
   ]
  },
  {
   "cell_type": "code",
   "execution_count": 59,
   "metadata": {},
   "outputs": [],
   "source": [
    "# TODO: do not use parse library, try a faster method.\n",
    "def calculate_age(x):\n",
    "    born = parser.parse(x[1])\n",
    "    today = date.today()\n",
    "    age = today.year - born.year - ((today.month, today.day) < (born.month, born.day))\n",
    "    return (age, 1)"
   ]
  },
  {
   "cell_type": "code",
   "execution_count": 80,
   "metadata": {},
   "outputs": [
    {
     "data": {
      "text/plain": [
       "[(48, 1128),\n",
       " (42, 2389),\n",
       " (54, 591),\n",
       " (40, 3081),\n",
       " (44, 1708),\n",
       " (46, 1519),\n",
       " (52, 666),\n",
       " (50, 885),\n",
       " (30, 8363),\n",
       " (38, 3968)]"
      ]
     },
     "execution_count": 80,
     "metadata": {},
     "output_type": "execute_result"
    }
   ],
   "source": [
    "# Get data summarized\n",
    "hist = postulantes_genero_y_edad.map(calculate_age).reduceByKey(lambda x, y: x + y).collect()\n",
    "hist[:10]"
   ]
  },
  {
   "cell_type": "code",
   "execution_count": 78,
   "metadata": {},
   "outputs": [],
   "source": [
    "# Make a numpy array for easier manipulation\n",
    "hist = np.array(hist)"
   ]
  },
  {
   "cell_type": "code",
   "execution_count": 79,
   "metadata": {},
   "outputs": [
    {
     "data": {
      "image/png": "[encoded data removed]",
      "text/plain": [
       "<matplotlib.figure.Figure at 0x7f9dbc365c18>"
      ]
     },
     "metadata": {},
     "output_type": "display_data"
    }
   ],
   "source": [
    "plt.figure(figsize=(15, 5))\n",
    "plt.bar(hist[:, 0], hist[:, 1])\n",
    "plt.title('Distribucion de edades')\n",
    "plt.ylabel('Cantidad')\n",
    "plt.xlabel('Edad')\n",
    "plt.show()"
   ]
  },
  {
   "cell_type": "code",
   "execution_count": 6,
   "metadata": {},
   "outputs": [],
   "source": [
    "sc.stop()"
   ]
  }
 ],
 "metadata": {
  "kernelspec": {
   "display_name": "Python 3",
   "language": "python",
   "name": "python3"
  },
  "language_info": {
   "codemirror_mode": {
    "name": "ipython",
    "version": 3
   },
   "file_extension": ".py",
   "mimetype": "text/x-python",
   "name": "python",
   "nbconvert_exporter": "python",
   "pygments_lexer": "ipython3",
   "version": "3.6.0"
  }
 },
 "nbformat": 4,
 "nbformat_minor": 2
}
