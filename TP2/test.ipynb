{
 "cells": [
  {
   "cell_type": "code",
   "execution_count": 9,
   "metadata": {},
   "outputs": [],
   "source": [
    "import pandas as pd\n",
    "from sklearn.externals import joblib\n",
    "\n",
    "from sklearn.base import BaseEstimator, TransformerMixin"
   ]
  },
  {
   "cell_type": "code",
   "execution_count": 10,
   "metadata": {},
   "outputs": [],
   "source": [
    "class ItemSelector(BaseEstimator, TransformerMixin):\n",
    "    # See http://scikit-learn.org/stable/auto_examples/hetero_feature_union.html#example-hetero-feature-union-py\n",
    "\n",
    "    def __init__(self, key):\n",
    "        self.key = key\n",
    "\n",
    "    def fit(self, x, y=None):\n",
    "        return self\n",
    "\n",
    "    def transform(self, data_dict):\n",
    "        return data_dict[self.key]\n",
    "\n",
    "class FillNaN(BaseEstimator, TransformerMixin):\n",
    "\n",
    "    def __init__(self, replace=0):\n",
    "        self.replace = replace\n",
    "\n",
    "    def fit(self, x, y=None):\n",
    "        return self\n",
    "\n",
    "    def transform(self, serie):\n",
    "        return serie.fillna(self.replace)\n",
    "\n",
    "class Pass(BaseEstimator, TransformerMixin):\n",
    "\n",
    "    def fit(self, X, y=None):\n",
    "        return self\n",
    "\n",
    "    def transform(self, X):\n",
    "        return X\n"
   ]
  },
  {
   "cell_type": "code",
   "execution_count": 11,
   "metadata": {},
   "outputs": [],
   "source": [
    "pipeline = joblib.load('pipeline.gz')\n",
    "model = joblib.load('model.gz')"
   ]
  },
  {
   "cell_type": "code",
   "execution_count": 12,
   "metadata": {},
   "outputs": [],
   "source": [
    "df_test = pd.read_csv(\"../test_final_100k.csv\")\n",
    "avisos = pd.read_pickle(\"avisos.pkl\")\n",
    "postulantes = pd.read_pickle(\"postulantes.pkl\")\n",
    "visitas_test = pd.read_pickle(\"visitas_test.pkl\")"
   ]
  },
  {
   "cell_type": "markdown",
   "metadata": {},
   "source": [
    "Hacemos merge con dataset de visitas. Podria suceder que hayan postulaciones sin visitas, como en el dataset de train, lo cual seria un error, pero asumimos que si hay un valor nulo en visita, es porque realmente no existio una visita de ese postulante para ese anuncio."
   ]
  },
  {
   "cell_type": "code",
   "execution_count": 13,
   "metadata": {},
   "outputs": [],
   "source": [
    "df_test = pd.merge(df_test, visitas_test, how=\"left\", on=['idaviso', 'idpostulante'])\n",
    "df_test.loc[df_test['visita_cantidad'].isnull(), 'visita_cantidad'] = 0"
   ]
  },
  {
   "cell_type": "code",
   "execution_count": 14,
   "metadata": {},
   "outputs": [],
   "source": [
    "df_test = pd.merge(df_test, avisos, how='left', on='idaviso')\n",
    "df_test = pd.merge(df_test, postulantes, how='left', on='idpostulante')"
   ]
  },
  {
   "cell_type": "code",
   "execution_count": 15,
   "metadata": {},
   "outputs": [
    {
     "data": {
      "text/html": [
       "<div>\n",
       "<style>\n",
       "    .dataframe thead tr:only-child th {\n",
       "        text-align: right;\n",
       "    }\n",
       "\n",
       "    .dataframe thead th {\n",
       "        text-align: left;\n",
       "    }\n",
       "\n",
       "    .dataframe tbody tr th {\n",
       "        vertical-align: top;\n",
       "    }\n",
       "</style>\n",
       "<table border=\"1\" class=\"dataframe\">\n",
       "  <thead>\n",
       "    <tr style=\"text-align: right;\">\n",
       "      <th></th>\n",
       "      <th>id</th>\n",
       "      <th>idaviso</th>\n",
       "      <th>idpostulante</th>\n",
       "      <th>visita_cantidad</th>\n",
       "      <th>titulo</th>\n",
       "      <th>descripcion</th>\n",
       "      <th>nombre_zona</th>\n",
       "      <th>tipo_de_trabajo</th>\n",
       "      <th>nivel_laboral</th>\n",
       "      <th>nombre_area</th>\n",
       "      <th>denominacion_empresa</th>\n",
       "      <th>sexo</th>\n",
       "      <th>edad</th>\n",
       "      <th>educacion_nivel</th>\n",
       "      <th>educacion_estado</th>\n",
       "      <th>educacion</th>\n",
       "    </tr>\n",
       "  </thead>\n",
       "  <tbody>\n",
       "    <tr>\n",
       "      <th>62677</th>\n",
       "      <td>62677</td>\n",
       "      <td>1112456289</td>\n",
       "      <td>X9lxR6K</td>\n",
       "      <td>4.0</td>\n",
       "      <td>Técnico en Seguridad</td>\n",
       "      <td>&lt;p&gt;Buscamos sumar a nuestro equipo de trabajo ...</td>\n",
       "      <td>Gran Buenos Aires</td>\n",
       "      <td>Full-time</td>\n",
       "      <td>Senior / Semi-Senior</td>\n",
       "      <td>Seguridad e Higiene</td>\n",
       "      <td>Benito Roggio ambiental</td>\n",
       "      <td>True</td>\n",
       "      <td>25.0</td>\n",
       "      <td>Universitario</td>\n",
       "      <td>En Curso</td>\n",
       "      <td>10.0</td>\n",
       "    </tr>\n",
       "    <tr>\n",
       "      <th>54541</th>\n",
       "      <td>54541</td>\n",
       "      <td>1112446707</td>\n",
       "      <td>1lbEBO</td>\n",
       "      <td>0.0</td>\n",
       "      <td>Vendedor en relacion a Inyeccion Diesel</td>\n",
       "      <td>&lt;p style=\"\"&gt;La empresa se dedica a la reparaci...</td>\n",
       "      <td>Capital Federal</td>\n",
       "      <td>Full-time</td>\n",
       "      <td>Otro</td>\n",
       "      <td>Ventas</td>\n",
       "      <td>Diagno Truck</td>\n",
       "      <td>True</td>\n",
       "      <td>53.0</td>\n",
       "      <td>Universitario</td>\n",
       "      <td>Graduado</td>\n",
       "      <td>11.0</td>\n",
       "    </tr>\n",
       "    <tr>\n",
       "      <th>81684</th>\n",
       "      <td>81684</td>\n",
       "      <td>1112466106</td>\n",
       "      <td>N5WQGJ</td>\n",
       "      <td>1.0</td>\n",
       "      <td>Asistente de Cuentas ( zona PALERMO - CABA ) U...</td>\n",
       "      <td>&lt;p&gt;En KaizenRH buscamos &lt;strong&gt;Asistente de C...</td>\n",
       "      <td>Gran Buenos Aires</td>\n",
       "      <td>Full-time</td>\n",
       "      <td>Senior / Semi-Senior</td>\n",
       "      <td>Desarrollo de Negocios</td>\n",
       "      <td>Kaizen Recursos Humanos</td>\n",
       "      <td>True</td>\n",
       "      <td>28.0</td>\n",
       "      <td>Universitario</td>\n",
       "      <td>En Curso</td>\n",
       "      <td>10.0</td>\n",
       "    </tr>\n",
       "    <tr>\n",
       "      <th>73257</th>\n",
       "      <td>73257</td>\n",
       "      <td>1112463356</td>\n",
       "      <td>KBrVLOq</td>\n",
       "      <td>2.0</td>\n",
       "      <td>Cajera/o</td>\n",
       "      <td>&lt;p&gt;Si soñás con pertenecer a una compañía insp...</td>\n",
       "      <td>Gran Buenos Aires</td>\n",
       "      <td>Part-time</td>\n",
       "      <td>Otro</td>\n",
       "      <td>Tesorería</td>\n",
       "      <td>PRÜNE</td>\n",
       "      <td>False</td>\n",
       "      <td>25.0</td>\n",
       "      <td>Universitario</td>\n",
       "      <td>En Curso</td>\n",
       "      <td>10.0</td>\n",
       "    </tr>\n",
       "    <tr>\n",
       "      <th>26112</th>\n",
       "      <td>26112</td>\n",
       "      <td>1112337868</td>\n",
       "      <td>5Y2Bqp</td>\n",
       "      <td>0.0</td>\n",
       "      <td>Secretaria para centro medico</td>\n",
       "      <td>&lt;p&gt;Importante Centro Medico esta solicitando u...</td>\n",
       "      <td>Gran Buenos Aires</td>\n",
       "      <td>Full-time</td>\n",
       "      <td>Senior / Semi-Senior</td>\n",
       "      <td>Secretaria</td>\n",
       "      <td>Estrategia Laboral S.A.</td>\n",
       "      <td>True</td>\n",
       "      <td>43.0</td>\n",
       "      <td>NaN</td>\n",
       "      <td>NaN</td>\n",
       "      <td>NaN</td>\n",
       "    </tr>\n",
       "  </tbody>\n",
       "</table>\n",
       "</div>"
      ],
      "text/plain": [
       "          id     idaviso idpostulante  visita_cantidad  \\\n",
       "62677  62677  1112456289      X9lxR6K              4.0   \n",
       "54541  54541  1112446707       1lbEBO              0.0   \n",
       "81684  81684  1112466106       N5WQGJ              1.0   \n",
       "73257  73257  1112463356      KBrVLOq              2.0   \n",
       "26112  26112  1112337868       5Y2Bqp              0.0   \n",
       "\n",
       "                                                  titulo  \\\n",
       "62677                               Técnico en Seguridad   \n",
       "54541            Vendedor en relacion a Inyeccion Diesel   \n",
       "81684  Asistente de Cuentas ( zona PALERMO - CABA ) U...   \n",
       "73257                                          Cajera/o    \n",
       "26112                      Secretaria para centro medico   \n",
       "\n",
       "                                             descripcion        nombre_zona  \\\n",
       "62677  <p>Buscamos sumar a nuestro equipo de trabajo ...  Gran Buenos Aires   \n",
       "54541  <p style=\"\">La empresa se dedica a la reparaci...    Capital Federal   \n",
       "81684  <p>En KaizenRH buscamos <strong>Asistente de C...  Gran Buenos Aires   \n",
       "73257  <p>Si soñás con pertenecer a una compañía insp...  Gran Buenos Aires   \n",
       "26112  <p>Importante Centro Medico esta solicitando u...  Gran Buenos Aires   \n",
       "\n",
       "      tipo_de_trabajo         nivel_laboral             nombre_area  \\\n",
       "62677       Full-time  Senior / Semi-Senior     Seguridad e Higiene   \n",
       "54541       Full-time                  Otro                  Ventas   \n",
       "81684       Full-time  Senior / Semi-Senior  Desarrollo de Negocios   \n",
       "73257       Part-time                  Otro               Tesorería   \n",
       "26112       Full-time  Senior / Semi-Senior              Secretaria   \n",
       "\n",
       "          denominacion_empresa   sexo  edad educacion_nivel educacion_estado  \\\n",
       "62677  Benito Roggio ambiental   True  25.0   Universitario         En Curso   \n",
       "54541             Diagno Truck   True  53.0   Universitario         Graduado   \n",
       "81684  Kaizen Recursos Humanos   True  28.0   Universitario         En Curso   \n",
       "73257                    PRÜNE  False  25.0   Universitario         En Curso   \n",
       "26112  Estrategia Laboral S.A.   True  43.0             NaN              NaN   \n",
       "\n",
       "       educacion  \n",
       "62677       10.0  \n",
       "54541       11.0  \n",
       "81684       10.0  \n",
       "73257       10.0  \n",
       "26112        NaN  "
      ]
     },
     "execution_count": 15,
     "metadata": {},
     "output_type": "execute_result"
    }
   ],
   "source": [
    "df_test.sample(5)"
   ]
  },
  {
   "cell_type": "code",
   "execution_count": 16,
   "metadata": {},
   "outputs": [],
   "source": [
    "X_test = pipeline.transform(df_test)"
   ]
  },
  {
   "cell_type": "code",
   "execution_count": 17,
   "metadata": {},
   "outputs": [],
   "source": [
    "y_pred = model.predict_proba(X_test)"
   ]
  },
  {
   "cell_type": "code",
   "execution_count": 18,
   "metadata": {},
   "outputs": [],
   "source": [
    "df_test['sepostulo'] = y_pred[:, 1]"
   ]
  },
  {
   "cell_type": "code",
   "execution_count": 19,
   "metadata": {},
   "outputs": [],
   "source": [
    "df_test[['id', 'sepostulo']].to_csv('submit04.csv', index=False)"
   ]
  }
 ],
 "metadata": {
  "kernelspec": {
   "display_name": "Python 3",
   "language": "python",
   "name": "python3"
  },
  "language_info": {
   "codemirror_mode": {
    "name": "ipython",
    "version": 3
   },
   "file_extension": ".py",
   "mimetype": "text/x-python",
   "name": "python",
   "nbconvert_exporter": "python",
   "pygments_lexer": "ipython3",
   "version": "3.6.0"
  }
 },
 "nbformat": 4,
 "nbformat_minor": 2
}
