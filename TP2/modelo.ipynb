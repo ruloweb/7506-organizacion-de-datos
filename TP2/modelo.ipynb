{
 "cells": [
  {
   "cell_type": "code",
   "execution_count": 41,
   "metadata": {},
   "outputs": [],
   "source": [
    "import numpy as np\n",
    "import pandas as pd\n",
    "from sklearn.externals import joblib\n",
    "\n",
    "from sklearn.model_selection import train_test_split\n",
    "\n",
    "# http://contrib.scikit-learn.org/categorical-encoding/\n",
    "# pip install category_encoders\n",
    "from category_encoders import OneHotEncoder\n",
    "\n",
    "from sklearn.metrics import accuracy_score, confusion_matrix, classification_report\n",
    "\n",
    "from sklearn.preprocessing import Imputer\n",
    "\n",
    "from sklearn.pipeline import make_union, make_pipeline\n",
    "\n",
    "from sklearn.linear_model import LogisticRegression\n",
    "from sklearn.ensemble import RandomForestClassifier\n",
    "\n",
    "from sklearn.base import BaseEstimator, TransformerMixin"
   ]
  },
  {
   "cell_type": "code",
   "execution_count": 4,
   "metadata": {},
   "outputs": [],
   "source": [
    "df = pd.read_pickle(\"postulaciones_visitas_train.pkl\")\n",
    "avisos = pd.read_pickle(\"avisos.pkl\")\n",
    "postulantes = pd.read_pickle(\"postulantes.pkl\")\n",
    "visitas_train = pd.read_pickle(\"visitas_train.pkl\")\n",
    "visitas_test = pd.read_pickle(\"visitas_test.pkl\")"
   ]
  },
  {
   "cell_type": "code",
   "execution_count": 5,
   "metadata": {},
   "outputs": [
    {
     "data": {
      "text/html": [
       "<div>\n",
       "<style>\n",
       "    .dataframe thead tr:only-child th {\n",
       "        text-align: right;\n",
       "    }\n",
       "\n",
       "    .dataframe thead th {\n",
       "        text-align: left;\n",
       "    }\n",
       "\n",
       "    .dataframe tbody tr th {\n",
       "        vertical-align: top;\n",
       "    }\n",
       "</style>\n",
       "<table border=\"1\" class=\"dataframe\">\n",
       "  <thead>\n",
       "    <tr style=\"text-align: right;\">\n",
       "      <th></th>\n",
       "      <th>idaviso</th>\n",
       "      <th>idpostulante</th>\n",
       "      <th>target</th>\n",
       "      <th>visita_cantidad</th>\n",
       "    </tr>\n",
       "  </thead>\n",
       "  <tbody>\n",
       "    <tr>\n",
       "      <th>1137844</th>\n",
       "      <td>1112257621</td>\n",
       "      <td>5YzOM</td>\n",
       "      <td>False</td>\n",
       "      <td>0.0</td>\n",
       "    </tr>\n",
       "    <tr>\n",
       "      <th>1475604</th>\n",
       "      <td>1112349430</td>\n",
       "      <td>wVkrbZe</td>\n",
       "      <td>False</td>\n",
       "      <td>0.0</td>\n",
       "    </tr>\n",
       "    <tr>\n",
       "      <th>805525</th>\n",
       "      <td>1112427118</td>\n",
       "      <td>NwzLoV</td>\n",
       "      <td>True</td>\n",
       "      <td>1.0</td>\n",
       "    </tr>\n",
       "    <tr>\n",
       "      <th>2452063</th>\n",
       "      <td>1112438787</td>\n",
       "      <td>eBGqj8</td>\n",
       "      <td>True</td>\n",
       "      <td>1.0</td>\n",
       "    </tr>\n",
       "    <tr>\n",
       "      <th>1706601</th>\n",
       "      <td>1112296054</td>\n",
       "      <td>8Z1MML</td>\n",
       "      <td>False</td>\n",
       "      <td>0.0</td>\n",
       "    </tr>\n",
       "  </tbody>\n",
       "</table>\n",
       "</div>"
      ],
      "text/plain": [
       "            idaviso idpostulante  target  visita_cantidad\n",
       "1137844  1112257621        5YzOM   False              0.0\n",
       "1475604  1112349430      wVkrbZe   False              0.0\n",
       "805525   1112427118       NwzLoV    True              1.0\n",
       "2452063  1112438787       eBGqj8    True              1.0\n",
       "1706601  1112296054       8Z1MML   False              0.0"
      ]
     },
     "execution_count": 5,
     "metadata": {},
     "output_type": "execute_result"
    }
   ],
   "source": [
    "df.sample(5)"
   ]
  },
  {
   "cell_type": "code",
   "execution_count": 6,
   "metadata": {},
   "outputs": [],
   "source": [
    "class ItemSelector(BaseEstimator, TransformerMixin):\n",
    "    # See http://scikit-learn.org/stable/auto_examples/hetero_feature_union.html#example-hetero-feature-union-py\n",
    "\n",
    "    def __init__(self, key):\n",
    "        self.key = key\n",
    "\n",
    "    def fit(self, x, y=None):\n",
    "        return self\n",
    "\n",
    "    def transform(self, data_dict):\n",
    "        return data_dict[self.key]\n",
    "\n",
    "class FillNaN(BaseEstimator, TransformerMixin):\n",
    "\n",
    "    def __init__(self, replace=0):\n",
    "        self.replace = replace\n",
    "\n",
    "    def fit(self, x, y=None):\n",
    "        return self\n",
    "\n",
    "    def transform(self, serie):\n",
    "        return serie.fillna(self.replace)\n",
    "\n",
    "class Pass(BaseEstimator, TransformerMixin):\n",
    "\n",
    "    def fit(self, X, y=None):\n",
    "        return self\n",
    "\n",
    "    def transform(self, X):\n",
    "        return X\n"
   ]
  },
  {
   "cell_type": "code",
   "execution_count": 8,
   "metadata": {},
   "outputs": [],
   "source": [
    "df = pd.merge(df, avisos, how='left', on='idaviso')\n",
    "df = pd.merge(df, postulantes, how='left', on='idpostulante')"
   ]
  },
  {
   "cell_type": "code",
   "execution_count": 9,
   "metadata": {},
   "outputs": [
    {
     "data": {
      "text/html": [
       "<div>\n",
       "<style>\n",
       "    .dataframe thead tr:only-child th {\n",
       "        text-align: right;\n",
       "    }\n",
       "\n",
       "    .dataframe thead th {\n",
       "        text-align: left;\n",
       "    }\n",
       "\n",
       "    .dataframe tbody tr th {\n",
       "        vertical-align: top;\n",
       "    }\n",
       "</style>\n",
       "<table border=\"1\" class=\"dataframe\">\n",
       "  <thead>\n",
       "    <tr style=\"text-align: right;\">\n",
       "      <th></th>\n",
       "      <th>idaviso</th>\n",
       "      <th>idpostulante</th>\n",
       "      <th>target</th>\n",
       "      <th>visita_cantidad</th>\n",
       "      <th>titulo</th>\n",
       "      <th>descripcion</th>\n",
       "      <th>nombre_zona</th>\n",
       "      <th>tipo_de_trabajo</th>\n",
       "      <th>nivel_laboral</th>\n",
       "      <th>nombre_area</th>\n",
       "      <th>denominacion_empresa</th>\n",
       "      <th>sexo</th>\n",
       "      <th>edad</th>\n",
       "      <th>educacion_nivel</th>\n",
       "      <th>educacion_estado</th>\n",
       "      <th>educacion</th>\n",
       "    </tr>\n",
       "  </thead>\n",
       "  <tbody>\n",
       "    <tr>\n",
       "      <th>1414262</th>\n",
       "      <td>1112451640</td>\n",
       "      <td>PmGQd2v</td>\n",
       "      <td>True</td>\n",
       "      <td>1.0</td>\n",
       "      <td>Diseñadora/r Gráfica/o para Importante Estudio...</td>\n",
       "      <td>&lt;p&gt;La búsqueda se orienta a candidatos recibid...</td>\n",
       "      <td>Gran Buenos Aires</td>\n",
       "      <td>Full-time</td>\n",
       "      <td>Senior / Semi-Senior</td>\n",
       "      <td>Diseño</td>\n",
       "      <td>Manpower</td>\n",
       "      <td>False</td>\n",
       "      <td>29.0</td>\n",
       "      <td>Universitario</td>\n",
       "      <td>Graduado</td>\n",
       "      <td>11.0</td>\n",
       "    </tr>\n",
       "    <tr>\n",
       "      <th>1548694</th>\n",
       "      <td>1112303484</td>\n",
       "      <td>96MEpKa</td>\n",
       "      <td>False</td>\n",
       "      <td>0.0</td>\n",
       "      <td>Responsable del Departamento de Sistemas Infor...</td>\n",
       "      <td>&lt;p style=\"\"&gt;&lt;span style=\"\"&gt;Esta persona será r...</td>\n",
       "      <td>Gran Buenos Aires</td>\n",
       "      <td>Full-time</td>\n",
       "      <td>Senior / Semi-Senior</td>\n",
       "      <td>Tecnologia / Sistemas</td>\n",
       "      <td>FUNDACION INSTITUTO DE TECNOLOGIAS NUCLEARES P...</td>\n",
       "      <td>False</td>\n",
       "      <td>26.0</td>\n",
       "      <td>Otro</td>\n",
       "      <td>En Curso</td>\n",
       "      <td>4.0</td>\n",
       "    </tr>\n",
       "    <tr>\n",
       "      <th>969151</th>\n",
       "      <td>1112438897</td>\n",
       "      <td>MVrMkZp</td>\n",
       "      <td>False</td>\n",
       "      <td>0.0</td>\n",
       "      <td>Administrador de Red y Comunicaciones</td>\n",
       "      <td>&lt;p style=\"\"&gt;&lt;span style=\"\"&gt;En Iké Asistencia A...</td>\n",
       "      <td>Gran Buenos Aires</td>\n",
       "      <td>Full-time</td>\n",
       "      <td>Senior / Semi-Senior</td>\n",
       "      <td>Redes</td>\n",
       "      <td>Iké Asistencia Argentina</td>\n",
       "      <td>True</td>\n",
       "      <td>59.0</td>\n",
       "      <td>Secundario</td>\n",
       "      <td>Graduado</td>\n",
       "      <td>2.0</td>\n",
       "    </tr>\n",
       "    <tr>\n",
       "      <th>1266474</th>\n",
       "      <td>1112423910</td>\n",
       "      <td>bOjQRo0</td>\n",
       "      <td>False</td>\n",
       "      <td>0.0</td>\n",
       "      <td>Coordinador de Servicios de Limpieza</td>\n",
       "      <td>&lt;p&gt;Importante empresa de servicios, ubicada en...</td>\n",
       "      <td>Gran Buenos Aires</td>\n",
       "      <td>Full-time</td>\n",
       "      <td>Jefe / Supervisor / Responsable</td>\n",
       "      <td>Planeamiento comercial</td>\n",
       "      <td>DECIDE SRL</td>\n",
       "      <td>True</td>\n",
       "      <td>27.0</td>\n",
       "      <td>Secundario</td>\n",
       "      <td>Graduado</td>\n",
       "      <td>2.0</td>\n",
       "    </tr>\n",
       "    <tr>\n",
       "      <th>1264196</th>\n",
       "      <td>1111806483</td>\n",
       "      <td>bO435R0</td>\n",
       "      <td>False</td>\n",
       "      <td>0.0</td>\n",
       "      <td>MUSIMUNDO sucursal Escobar Jumbo busca VENDEDORES</td>\n",
       "      <td>&lt;p&gt;Para nuestra sucursal de Escobar Jumbo sele...</td>\n",
       "      <td>Gran Buenos Aires</td>\n",
       "      <td>Full-time</td>\n",
       "      <td>Senior / Semi-Senior</td>\n",
       "      <td>Ventas</td>\n",
       "      <td>Musimundo  SA</td>\n",
       "      <td>True</td>\n",
       "      <td>33.0</td>\n",
       "      <td>Otro</td>\n",
       "      <td>Graduado</td>\n",
       "      <td>5.0</td>\n",
       "    </tr>\n",
       "  </tbody>\n",
       "</table>\n",
       "</div>"
      ],
      "text/plain": [
       "            idaviso idpostulante  target  visita_cantidad  \\\n",
       "1414262  1112451640      PmGQd2v    True              1.0   \n",
       "1548694  1112303484      96MEpKa   False              0.0   \n",
       "969151   1112438897      MVrMkZp   False              0.0   \n",
       "1266474  1112423910      bOjQRo0   False              0.0   \n",
       "1264196  1111806483      bO435R0   False              0.0   \n",
       "\n",
       "                                                    titulo  \\\n",
       "1414262  Diseñadora/r Gráfica/o para Importante Estudio...   \n",
       "1548694  Responsable del Departamento de Sistemas Infor...   \n",
       "969151             Administrador de Red y Comunicaciones     \n",
       "1266474               Coordinador de Servicios de Limpieza   \n",
       "1264196  MUSIMUNDO sucursal Escobar Jumbo busca VENDEDORES   \n",
       "\n",
       "                                               descripcion        nombre_zona  \\\n",
       "1414262  <p>La búsqueda se orienta a candidatos recibid...  Gran Buenos Aires   \n",
       "1548694  <p style=\"\"><span style=\"\">Esta persona será r...  Gran Buenos Aires   \n",
       "969151   <p style=\"\"><span style=\"\">En Iké Asistencia A...  Gran Buenos Aires   \n",
       "1266474  <p>Importante empresa de servicios, ubicada en...  Gran Buenos Aires   \n",
       "1264196  <p>Para nuestra sucursal de Escobar Jumbo sele...  Gran Buenos Aires   \n",
       "\n",
       "        tipo_de_trabajo                    nivel_laboral  \\\n",
       "1414262       Full-time             Senior / Semi-Senior   \n",
       "1548694       Full-time             Senior / Semi-Senior   \n",
       "969151        Full-time             Senior / Semi-Senior   \n",
       "1266474       Full-time  Jefe / Supervisor / Responsable   \n",
       "1264196       Full-time             Senior / Semi-Senior   \n",
       "\n",
       "                    nombre_area  \\\n",
       "1414262                  Diseño   \n",
       "1548694   Tecnologia / Sistemas   \n",
       "969151                    Redes   \n",
       "1266474  Planeamiento comercial   \n",
       "1264196                  Ventas   \n",
       "\n",
       "                                      denominacion_empresa   sexo  edad  \\\n",
       "1414262                                           Manpower  False  29.0   \n",
       "1548694  FUNDACION INSTITUTO DE TECNOLOGIAS NUCLEARES P...  False  26.0   \n",
       "969151                            Iké Asistencia Argentina   True  59.0   \n",
       "1266474                                         DECIDE SRL   True  27.0   \n",
       "1264196                                      Musimundo  SA   True  33.0   \n",
       "\n",
       "        educacion_nivel educacion_estado  educacion  \n",
       "1414262   Universitario         Graduado       11.0  \n",
       "1548694            Otro         En Curso        4.0  \n",
       "969151       Secundario         Graduado        2.0  \n",
       "1266474      Secundario         Graduado        2.0  \n",
       "1264196            Otro         Graduado        5.0  "
      ]
     },
     "execution_count": 9,
     "metadata": {},
     "output_type": "execute_result"
    }
   ],
   "source": [
    "df.sample(5)"
   ]
  },
  {
   "cell_type": "code",
   "execution_count": 10,
   "metadata": {},
   "outputs": [],
   "source": [
    "pipeline = make_pipeline(\n",
    "    make_union(\n",
    "        ItemSelector(['sexo']),\n",
    "        ItemSelector(['visita_cantidad']),\n",
    "        make_pipeline(\n",
    "            #ItemSelector(['edad', 'educacion']),\n",
    "            ItemSelector(['edad']),\n",
    "            Imputer()\n",
    "        ),\n",
    "        make_pipeline(\n",
    "            ItemSelector(['educacion_nivel', 'educacion_estado', 'nombre_zona', 'tipo_de_trabajo', 'nivel_laboral', 'nombre_area']),#, 'denominacion_empresa']),\n",
    "            FillNaN('Other'),\n",
    "            OneHotEncoder()\n",
    "        )\n",
    "    )\n",
    ")"
   ]
  },
  {
   "cell_type": "code",
   "execution_count": 11,
   "metadata": {},
   "outputs": [],
   "source": [
    "X = pipeline.fit_transform(df)\n",
    "y = df['target']"
   ]
  },
  {
   "cell_type": "code",
   "execution_count": 12,
   "metadata": {},
   "outputs": [
    {
     "data": {
      "text/plain": [
       "(2797443, 239)"
      ]
     },
     "execution_count": 12,
     "metadata": {},
     "output_type": "execute_result"
    }
   ],
   "source": [
    "X.shape"
   ]
  },
  {
   "cell_type": "code",
   "execution_count": 13,
   "metadata": {},
   "outputs": [],
   "source": [
    "X_train, X_test, y_train, y_test = train_test_split(X, y, stratify=y, random_state=2018)"
   ]
  },
  {
   "cell_type": "code",
   "execution_count": 14,
   "metadata": {},
   "outputs": [],
   "source": [
    "model = LogisticRegression()\n",
    "model.fit(X_train, y_train)\n",
    "y_pred = model.predict(X_test)"
   ]
  },
  {
   "cell_type": "code",
   "execution_count": 15,
   "metadata": {},
   "outputs": [
    {
     "name": "stdout",
     "output_type": "stream",
     "text": [
      "0.99986130196\n",
      "             precision    recall  f1-score   support\n",
      "\n",
      "      False       1.00      1.00      1.00    349680\n",
      "       True       1.00      1.00      1.00    349681\n",
      "\n",
      "avg / total       1.00      1.00      1.00    699361\n",
      "\n",
      "[[349583     97]\n",
      " [     0 349681]]\n"
     ]
    }
   ],
   "source": [
    "print(accuracy_score(y_test, y_pred))\n",
    "print(classification_report(y_test, y_pred))\n",
    "print(confusion_matrix(y_test, y_pred))"
   ]
  },
  {
   "cell_type": "code",
   "execution_count": 43,
   "metadata": {},
   "outputs": [
    {
     "data": {
      "text/plain": [
       "['model.gz']"
      ]
     },
     "execution_count": 43,
     "metadata": {},
     "output_type": "execute_result"
    }
   ],
   "source": [
    "# Save pipeline and model\n",
    "joblib.dump(pipeline, \"pipeline.gz\")\n",
    "joblib.dump(model, \"model.gz\")"
   ]
  }
 ],
 "metadata": {
  "kernelspec": {
   "display_name": "Python 3",
   "language": "python",
   "name": "python3"
  },
  "language_info": {
   "codemirror_mode": {
    "name": "ipython",
    "version": 3
   },
   "file_extension": ".py",
   "mimetype": "text/x-python",
   "name": "python",
   "nbconvert_exporter": "python",
   "pygments_lexer": "ipython3",
   "version": "3.6.0"
  }
 },
 "nbformat": 4,
 "nbformat_minor": 2
}
