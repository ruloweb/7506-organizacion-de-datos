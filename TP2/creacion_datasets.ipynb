{
 "cells": [
  {
   "cell_type": "code",
   "execution_count": 1,
   "metadata": {},
   "outputs": [],
   "source": [
    "import numpy as np\n",
    "import pandas as pd"
   ]
  },
  {
   "cell_type": "code",
   "execution_count": 2,
   "metadata": {},
   "outputs": [],
   "source": [
    "train_postulantes_educacion = pd.read_csv(\"../fiuba_hasta_15_abril/fiuba_1_postulantes_educacion.csv\")\n",
    "train_postulantes_genero_y_edad = pd.read_csv(\"../fiuba_hasta_15_abril/fiuba_2_postulantes_genero_y_edad.csv\", parse_dates=['fechanacimiento'], date_parser=lambda d: pd.to_datetime(d, format=\"%Y/%m/%d\", errors=\"coerce\"))\n",
    "train_visitas = pd.read_csv(\"../fiuba_hasta_15_abril/fiuba_3_vistas.csv\")\n",
    "train_postulaciones = pd.read_csv(\"../fiuba_hasta_15_abril/fiuba_4_postulaciones.csv\")\n",
    "train_avisos_detalle = pd.read_csv(\"../fiuba_hasta_15_abril/fiuba_6_avisos_detalle.csv\")"
   ]
  },
  {
   "cell_type": "code",
   "execution_count": 3,
   "metadata": {},
   "outputs": [],
   "source": [
    "test_postulantes_educacion = pd.read_csv(\"../fiuba_desde_15_abril/fiuba_1_postulantes_educacion.csv\")\n",
    "test_postulantes_genero_y_edad = pd.read_csv(\"../fiuba_desde_15_abril/fiuba_2_postulantes_genero_y_edad.csv\", parse_dates=['fechanacimiento'], date_parser=lambda d: pd.to_datetime(d, format=\"%Y/%m/%d\", errors=\"coerce\"))\n",
    "test_visitas = pd.read_csv(\"../fiuba_desde_15_abril/fiuba_3_vistas.csv\")\n",
    "test_postulaciones = pd.read_csv(\"../test_final_100k.csv\")\n",
    "test_avisos_detalle = pd.read_csv(\"../fiuba_desde_15_abril/fiuba_6_avisos_detalle.csv\")"
   ]
  },
  {
   "cell_type": "code",
   "execution_count": 4,
   "metadata": {},
   "outputs": [],
   "source": [
    "# Concat train and test. If there are any duplicates, keep the test register.\n",
    "train_postulantes_educacion = pd.concat([test_postulantes_educacion, train_postulantes_educacion]).drop_duplicates('idpostulante')\n",
    "train_postulantes_genero_y_edad = pd.concat([test_postulantes_genero_y_edad, train_postulantes_genero_y_edad]).drop_duplicates('idpostulante')\n",
    "#train_postulaciones = test_postulaciones\n",
    "train_avisos_detalle = pd.concat([test_avisos_detalle, train_avisos_detalle]).drop_duplicates('idaviso')"
   ]
  },
  {
   "cell_type": "markdown",
   "metadata": {},
   "source": [
    "# Preparacion de datos"
   ]
  },
  {
   "cell_type": "markdown",
   "metadata": {},
   "source": [
    "## Postulantes"
   ]
  },
  {
   "cell_type": "code",
   "execution_count": 5,
   "metadata": {},
   "outputs": [],
   "source": [
    "def process_postulantes(df_educacion, df_genero_edad):\n",
    "    # Create new column educacion.\n",
    "    df_educacion['educacion'] = df_educacion['nombre'] + df_educacion['estado']\n",
    "\n",
    "    # Replace strings by ordinal values.\n",
    "    df_educacion['educacion'].replace({\n",
    "        'SecundarioAbandonado': 0,\n",
    "        'SecundarioEn Curso': 1,\n",
    "        'SecundarioGraduado': 2,\n",
    "        'OtroAbandonado': 3,\n",
    "        'OtroEn Curso': 4,\n",
    "        'OtroGraduado': 5,\n",
    "        'Terciario/TécnicoAbandonado': 6,\n",
    "        'Terciario/TécnicoEn Curso': 7,\n",
    "        'Terciario/TécnicoGraduado': 8,\n",
    "        'UniversitarioAbandonado': 9,\n",
    "        'UniversitarioEn Curso': 10,\n",
    "        'UniversitarioGraduado': 11,\n",
    "        'PosgradoAbandonado': 12,\n",
    "        'PosgradoEn Curso': 13,\n",
    "        'PosgradoGraduado': 14,\n",
    "        'MasterAbandonado': 15,\n",
    "        'MasterEn Curso': 16,\n",
    "        'MasterGraduado': 17,\n",
    "        'DoctoradoAbandonado': 18,\n",
    "        'DoctoradoEn Curso': 19,\n",
    "        'DoctoradoGraduado': 20,\n",
    "    }, inplace=True)\n",
    "\n",
    "    # Sort by the new ordinal value.\n",
    "    df_educacion.sort_values('educacion', ascending=False, inplace=True)\n",
    "\n",
    "    # Keep the first occurency on each postulante, which is the greatest education level achieved. \n",
    "    df_educacion.drop_duplicates('idpostulante', inplace=True)\n",
    "\n",
    "    # Check is there are any duplicate in the df_genero_edad DF.\n",
    "    df_genero_edad.drop_duplicates('idpostulante', inplace=True)\n",
    "\n",
    "    # Add edad column.\n",
    "    df_genero_edad['edad'] = np.floor((pd.datetime.today() - df_genero_edad['fechanacimiento']).dt.days / 365)\n",
    "\n",
    "    # Convert sexo to boolean.\n",
    "    df_genero_edad['sexo'] = df_genero_edad['sexo'].replace({'FEM': 0, 'MASC': 1}).astype(bool)\n",
    "\n",
    "    # Remove fechanacimiento.\n",
    "    del df_genero_edad['fechanacimiento']\n",
    "\n",
    "    # Merge and return both DF.\n",
    "    postulantes = pd.merge(df_genero_edad, df_educacion, how='left', on='idpostulante')\n",
    "\n",
    "    postulantes.columns = ['idpostulante', 'sexo', 'edad', 'educacion_nivel', 'educacion_estado', 'educacion']\n",
    "\n",
    "    return postulantes"
   ]
  },
  {
   "cell_type": "markdown",
   "metadata": {},
   "source": [
    "### Train dataframe"
   ]
  },
  {
   "cell_type": "code",
   "execution_count": 6,
   "metadata": {},
   "outputs": [],
   "source": [
    "train_postulantes = process_postulantes(train_postulantes_educacion, train_postulantes_genero_y_edad)"
   ]
  },
  {
   "cell_type": "code",
   "execution_count": 7,
   "metadata": {},
   "outputs": [
    {
     "data": {
      "text/plain": [
       "420490"
      ]
     },
     "execution_count": 7,
     "metadata": {},
     "output_type": "execute_result"
    }
   ],
   "source": [
    "# Size.\n",
    "len(train_postulantes)"
   ]
  },
  {
   "cell_type": "code",
   "execution_count": 8,
   "metadata": {},
   "outputs": [
    {
     "data": {
      "text/plain": [
       "idpostulante            0\n",
       "sexo                    0\n",
       "edad                23546\n",
       "educacion_nivel     49766\n",
       "educacion_estado    49766\n",
       "educacion           49766\n",
       "dtype: int64"
      ]
     },
     "execution_count": 8,
     "metadata": {},
     "output_type": "execute_result"
    }
   ],
   "source": [
    "# Check for rows with null values.\n",
    "train_postulantes.isnull().sum()"
   ]
  },
  {
   "cell_type": "code",
   "execution_count": 9,
   "metadata": {},
   "outputs": [],
   "source": [
    "postulantes = train_postulantes"
   ]
  },
  {
   "cell_type": "code",
   "execution_count": 10,
   "metadata": {},
   "outputs": [
    {
     "data": {
      "text/html": [
       "<div>\n",
       "<style>\n",
       "    .dataframe thead tr:only-child th {\n",
       "        text-align: right;\n",
       "    }\n",
       "\n",
       "    .dataframe thead th {\n",
       "        text-align: left;\n",
       "    }\n",
       "\n",
       "    .dataframe tbody tr th {\n",
       "        vertical-align: top;\n",
       "    }\n",
       "</style>\n",
       "<table border=\"1\" class=\"dataframe\">\n",
       "  <thead>\n",
       "    <tr style=\"text-align: right;\">\n",
       "      <th></th>\n",
       "      <th>idpostulante</th>\n",
       "      <th>sexo</th>\n",
       "      <th>edad</th>\n",
       "      <th>educacion_nivel</th>\n",
       "      <th>educacion_estado</th>\n",
       "      <th>educacion</th>\n",
       "    </tr>\n",
       "  </thead>\n",
       "  <tbody>\n",
       "    <tr>\n",
       "      <th>219110</th>\n",
       "      <td>mzdZRdY</td>\n",
       "      <td>True</td>\n",
       "      <td>NaN</td>\n",
       "      <td>NaN</td>\n",
       "      <td>NaN</td>\n",
       "      <td>NaN</td>\n",
       "    </tr>\n",
       "    <tr>\n",
       "      <th>153782</th>\n",
       "      <td>ow5mrjj</td>\n",
       "      <td>True</td>\n",
       "      <td>25.0</td>\n",
       "      <td>Secundario</td>\n",
       "      <td>Graduado</td>\n",
       "      <td>2.0</td>\n",
       "    </tr>\n",
       "    <tr>\n",
       "      <th>122255</th>\n",
       "      <td>LNKVO9b</td>\n",
       "      <td>False</td>\n",
       "      <td>24.0</td>\n",
       "      <td>Universitario</td>\n",
       "      <td>En Curso</td>\n",
       "      <td>10.0</td>\n",
       "    </tr>\n",
       "    <tr>\n",
       "      <th>144965</th>\n",
       "      <td>QNr8WRq</td>\n",
       "      <td>True</td>\n",
       "      <td>56.0</td>\n",
       "      <td>NaN</td>\n",
       "      <td>NaN</td>\n",
       "      <td>NaN</td>\n",
       "    </tr>\n",
       "    <tr>\n",
       "      <th>52745</th>\n",
       "      <td>X95YRYJ</td>\n",
       "      <td>True</td>\n",
       "      <td>29.0</td>\n",
       "      <td>Universitario</td>\n",
       "      <td>Graduado</td>\n",
       "      <td>11.0</td>\n",
       "    </tr>\n",
       "  </tbody>\n",
       "</table>\n",
       "</div>"
      ],
      "text/plain": [
       "       idpostulante   sexo  edad educacion_nivel educacion_estado  educacion\n",
       "219110      mzdZRdY   True   NaN             NaN              NaN        NaN\n",
       "153782      ow5mrjj   True  25.0      Secundario         Graduado        2.0\n",
       "122255      LNKVO9b  False  24.0   Universitario         En Curso       10.0\n",
       "144965      QNr8WRq   True  56.0             NaN              NaN        NaN\n",
       "52745       X95YRYJ   True  29.0   Universitario         Graduado       11.0"
      ]
     },
     "execution_count": 10,
     "metadata": {},
     "output_type": "execute_result"
    }
   ],
   "source": [
    "postulantes.sample(5)"
   ]
  },
  {
   "cell_type": "code",
   "execution_count": 11,
   "metadata": {},
   "outputs": [],
   "source": [
    "postulantes.to_pickle(\"postulantes.pkl\")"
   ]
  },
  {
   "cell_type": "markdown",
   "metadata": {},
   "source": [
    "## Avisos"
   ]
  },
  {
   "cell_type": "code",
   "execution_count": 12,
   "metadata": {},
   "outputs": [
    {
     "name": "stdout",
     "output_type": "stream",
     "text": [
      "24181\n",
      "24181\n"
     ]
    }
   ],
   "source": [
    "# Check for duplicates\n",
    "print(len(train_avisos_detalle))\n",
    "print(len(train_avisos_detalle.drop_duplicates('idaviso')))"
   ]
  },
  {
   "cell_type": "code",
   "execution_count": 13,
   "metadata": {},
   "outputs": [],
   "source": [
    "avisos = train_avisos_detalle"
   ]
  },
  {
   "cell_type": "code",
   "execution_count": 14,
   "metadata": {},
   "outputs": [],
   "source": [
    "for column in ['idpais', 'ciudad', 'mapacalle']:\n",
    "    del avisos[column]"
   ]
  },
  {
   "cell_type": "code",
   "execution_count": 15,
   "metadata": {},
   "outputs": [
    {
     "data": {
      "text/html": [
       "<div>\n",
       "<style>\n",
       "    .dataframe thead tr:only-child th {\n",
       "        text-align: right;\n",
       "    }\n",
       "\n",
       "    .dataframe thead th {\n",
       "        text-align: left;\n",
       "    }\n",
       "\n",
       "    .dataframe tbody tr th {\n",
       "        vertical-align: top;\n",
       "    }\n",
       "</style>\n",
       "<table border=\"1\" class=\"dataframe\">\n",
       "  <thead>\n",
       "    <tr style=\"text-align: right;\">\n",
       "      <th></th>\n",
       "      <th>idaviso</th>\n",
       "      <th>titulo</th>\n",
       "      <th>descripcion</th>\n",
       "      <th>nombre_zona</th>\n",
       "      <th>tipo_de_trabajo</th>\n",
       "      <th>nivel_laboral</th>\n",
       "      <th>nombre_area</th>\n",
       "      <th>denominacion_empresa</th>\n",
       "    </tr>\n",
       "  </thead>\n",
       "  <tbody>\n",
       "    <tr>\n",
       "      <th>11814</th>\n",
       "      <td>1112320063</td>\n",
       "      <td>11 Feb - Online Hiring Tournament - QA Enginee...</td>\n",
       "      <td>&lt;p&gt;Para inscribirse en el torneo debe ingresar...</td>\n",
       "      <td>Gran Buenos Aires</td>\n",
       "      <td>Teletrabajo</td>\n",
       "      <td>Senior / Semi-Senior</td>\n",
       "      <td>Tecnologia / Sistemas</td>\n",
       "      <td>CrossOver</td>\n",
       "    </tr>\n",
       "    <tr>\n",
       "      <th>9680</th>\n",
       "      <td>1112494542</td>\n",
       "      <td>Asesor Comercial- Full Time</td>\n",
       "      <td>&lt;p&gt;¿Te gustaría trabajar en una empresa certif...</td>\n",
       "      <td>Gran Buenos Aires</td>\n",
       "      <td>Full-time</td>\n",
       "      <td>Junior</td>\n",
       "      <td>Ventas</td>\n",
       "      <td>RESUELVE</td>\n",
       "    </tr>\n",
       "    <tr>\n",
       "      <th>6889</th>\n",
       "      <td>1112432524</td>\n",
       "      <td>SOLDADOR / ARMADOR DE CARROCERÍAS (ROSARIO - S...</td>\n",
       "      <td>&lt;p&gt;Estamos en la busqueda de dos profesionales...</td>\n",
       "      <td>Gran Buenos Aires</td>\n",
       "      <td>Full-time</td>\n",
       "      <td>Senior / Semi-Senior</td>\n",
       "      <td>Producción</td>\n",
       "      <td>Grupo Innovar</td>\n",
       "    </tr>\n",
       "    <tr>\n",
       "      <th>911</th>\n",
       "      <td>1112345552</td>\n",
       "      <td>Abogado/a recién recibido zona berazategui</td>\n",
       "      <td>IMPORTANTE ESTUDIO DE BERAZATEGUI SE ENCUENTRA...</td>\n",
       "      <td>Gran Buenos Aires</td>\n",
       "      <td>Full-time</td>\n",
       "      <td>Senior / Semi-Senior</td>\n",
       "      <td>Legal</td>\n",
       "      <td>Estudio Juridico Escobar y Asociados</td>\n",
       "    </tr>\n",
       "    <tr>\n",
       "      <th>8724</th>\n",
       "      <td>1112094914</td>\n",
       "      <td>Oficial de Cuentas Corporativas / Ejecutivo Co...</td>\n",
       "      <td>&lt;p&gt;Importante Compañía Financiera ubicada en M...</td>\n",
       "      <td>Gran Buenos Aires</td>\n",
       "      <td>Full-time</td>\n",
       "      <td>Senior / Semi-Senior</td>\n",
       "      <td>Ventas</td>\n",
       "      <td>CREDIBEL</td>\n",
       "    </tr>\n",
       "  </tbody>\n",
       "</table>\n",
       "</div>"
      ],
      "text/plain": [
       "          idaviso                                             titulo  \\\n",
       "11814  1112320063  11 Feb - Online Hiring Tournament - QA Enginee...   \n",
       "9680   1112494542                        Asesor Comercial- Full Time   \n",
       "6889   1112432524  SOLDADOR / ARMADOR DE CARROCERÍAS (ROSARIO - S...   \n",
       "911    1112345552         Abogado/a recién recibido zona berazategui   \n",
       "8724   1112094914  Oficial de Cuentas Corporativas / Ejecutivo Co...   \n",
       "\n",
       "                                             descripcion        nombre_zona  \\\n",
       "11814  <p>Para inscribirse en el torneo debe ingresar...  Gran Buenos Aires   \n",
       "9680   <p>¿Te gustaría trabajar en una empresa certif...  Gran Buenos Aires   \n",
       "6889   <p>Estamos en la busqueda de dos profesionales...  Gran Buenos Aires   \n",
       "911    IMPORTANTE ESTUDIO DE BERAZATEGUI SE ENCUENTRA...  Gran Buenos Aires   \n",
       "8724   <p>Importante Compañía Financiera ubicada en M...  Gran Buenos Aires   \n",
       "\n",
       "      tipo_de_trabajo         nivel_laboral            nombre_area  \\\n",
       "11814     Teletrabajo  Senior / Semi-Senior  Tecnologia / Sistemas   \n",
       "9680        Full-time                Junior                 Ventas   \n",
       "6889        Full-time  Senior / Semi-Senior             Producción   \n",
       "911         Full-time  Senior / Semi-Senior                  Legal   \n",
       "8724        Full-time  Senior / Semi-Senior                 Ventas   \n",
       "\n",
       "                       denominacion_empresa  \n",
       "11814                             CrossOver  \n",
       "9680                               RESUELVE  \n",
       "6889                          Grupo Innovar  \n",
       "911    Estudio Juridico Escobar y Asociados  \n",
       "8724                               CREDIBEL  "
      ]
     },
     "execution_count": 15,
     "metadata": {},
     "output_type": "execute_result"
    }
   ],
   "source": [
    "avisos.sample(5)"
   ]
  },
  {
   "cell_type": "code",
   "execution_count": 16,
   "metadata": {},
   "outputs": [],
   "source": [
    "avisos.to_pickle(\"avisos.pkl\")"
   ]
  },
  {
   "cell_type": "markdown",
   "metadata": {},
   "source": [
    "## Visitas"
   ]
  },
  {
   "cell_type": "markdown",
   "metadata": {},
   "source": [
    "No podemos concatenar los datasets de visitas, habria conflicto en los casos en los que en train no hubo postulacion, pero en test (mas adelante) si hubo visita, estariamos asignando una visita futura a una no postulacion en el train."
   ]
  },
  {
   "cell_type": "code",
   "execution_count": 17,
   "metadata": {},
   "outputs": [],
   "source": [
    "def visitas_process(visitas):\n",
    "    visitas2 = visitas.groupby(['idAviso', 'idpostulante']).agg({\n",
    "        'timestamp': len,\n",
    "        'idAviso': lambda x: x.iloc[0],\n",
    "        'idpostulante': lambda x: x.iloc[0]\n",
    "    })\n",
    "    \n",
    "    visitas2.reset_index(drop=True, inplace=True)\n",
    "    visitas2.columns = ['visita_cantidad', 'idaviso', 'idpostulante']\n",
    "    \n",
    "    return visitas2"
   ]
  },
  {
   "cell_type": "code",
   "execution_count": 18,
   "metadata": {},
   "outputs": [
    {
     "name": "stdout",
     "output_type": "stream",
     "text": [
      "CPU times: user 3min 30s, sys: 1.51 s, total: 3min 32s\n",
      "Wall time: 3min 32s\n"
     ]
    }
   ],
   "source": [
    "%%time\n",
    "train_visitas2 = visitas_process(train_visitas)"
   ]
  },
  {
   "cell_type": "code",
   "execution_count": 19,
   "metadata": {},
   "outputs": [
    {
     "name": "stdout",
     "output_type": "stream",
     "text": [
      "CPU times: user 6min 17s, sys: 3.7 s, total: 6min 20s\n",
      "Wall time: 6min 21s\n"
     ]
    }
   ],
   "source": [
    "%%time\n",
    "test_visitas2 = visitas_process(test_visitas)"
   ]
  },
  {
   "cell_type": "code",
   "execution_count": 20,
   "metadata": {},
   "outputs": [
    {
     "data": {
      "text/plain": [
       "2983869"
      ]
     },
     "execution_count": 20,
     "metadata": {},
     "output_type": "execute_result"
    }
   ],
   "source": [
    "len(train_visitas2)"
   ]
  },
  {
   "cell_type": "code",
   "execution_count": null,
   "metadata": {},
   "outputs": [],
   "source": [
    "len(test_visitas2)"
   ]
  },
  {
   "cell_type": "code",
   "execution_count": 21,
   "metadata": {},
   "outputs": [
    {
     "data": {
      "text/html": [
       "<div>\n",
       "<style>\n",
       "    .dataframe thead tr:only-child th {\n",
       "        text-align: right;\n",
       "    }\n",
       "\n",
       "    .dataframe thead th {\n",
       "        text-align: left;\n",
       "    }\n",
       "\n",
       "    .dataframe tbody tr th {\n",
       "        vertical-align: top;\n",
       "    }\n",
       "</style>\n",
       "<table border=\"1\" class=\"dataframe\">\n",
       "  <thead>\n",
       "    <tr style=\"text-align: right;\">\n",
       "      <th></th>\n",
       "      <th>visita_cantidad</th>\n",
       "      <th>idaviso</th>\n",
       "      <th>idpostulante</th>\n",
       "    </tr>\n",
       "  </thead>\n",
       "  <tbody>\n",
       "    <tr>\n",
       "      <th>0</th>\n",
       "      <td>2</td>\n",
       "      <td>12543760</td>\n",
       "      <td>1Q4KX9b</td>\n",
       "    </tr>\n",
       "    <tr>\n",
       "      <th>1</th>\n",
       "      <td>1</td>\n",
       "      <td>12543760</td>\n",
       "      <td>5lYQqw</td>\n",
       "    </tr>\n",
       "    <tr>\n",
       "      <th>2</th>\n",
       "      <td>2</td>\n",
       "      <td>12543760</td>\n",
       "      <td>8M26bzW</td>\n",
       "    </tr>\n",
       "    <tr>\n",
       "      <th>3</th>\n",
       "      <td>4</td>\n",
       "      <td>12543760</td>\n",
       "      <td>DrJ10XL</td>\n",
       "    </tr>\n",
       "    <tr>\n",
       "      <th>4</th>\n",
       "      <td>1</td>\n",
       "      <td>12543760</td>\n",
       "      <td>LNKkl1b</td>\n",
       "    </tr>\n",
       "  </tbody>\n",
       "</table>\n",
       "</div>"
      ],
      "text/plain": [
       "   visita_cantidad   idaviso idpostulante\n",
       "0                2  12543760      1Q4KX9b\n",
       "1                1  12543760       5lYQqw\n",
       "2                2  12543760      8M26bzW\n",
       "3                4  12543760      DrJ10XL\n",
       "4                1  12543760      LNKkl1b"
      ]
     },
     "execution_count": 21,
     "metadata": {},
     "output_type": "execute_result"
    }
   ],
   "source": [
    "train_visitas2.head(5)"
   ]
  },
  {
   "cell_type": "code",
   "execution_count": 22,
   "metadata": {},
   "outputs": [],
   "source": [
    "train_visitas2.to_pickle('visitas_train.pkl')\n",
    "test_visitas2.to_pickle('visitas_test.pkl')"
   ]
  },
  {
   "cell_type": "markdown",
   "metadata": {},
   "source": [
    "## Postulaciones"
   ]
  },
  {
   "cell_type": "code",
   "execution_count": 23,
   "metadata": {},
   "outputs": [],
   "source": [
    "postulaciones = train_postulaciones.drop_duplicates(['idaviso', 'idpostulante'])"
   ]
  },
  {
   "cell_type": "code",
   "execution_count": 25,
   "metadata": {},
   "outputs": [
    {
     "name": "stderr",
     "output_type": "stream",
     "text": [
      "/home/jose/anaconda3/lib/python3.6/site-packages/pandas/core/indexing.py:337: SettingWithCopyWarning: \n",
      "A value is trying to be set on a copy of a slice from a DataFrame.\n",
      "Try using .loc[row_indexer,col_indexer] = value instead\n",
      "\n",
      "See the caveats in the documentation: http://pandas.pydata.org/pandas-docs/stable/indexing.html#indexing-view-versus-copy\n",
      "  self.obj[key] = _infer_fill_value(value)\n",
      "/home/jose/anaconda3/lib/python3.6/site-packages/pandas/core/indexing.py:517: SettingWithCopyWarning: \n",
      "A value is trying to be set on a copy of a slice from a DataFrame.\n",
      "Try using .loc[row_indexer,col_indexer] = value instead\n",
      "\n",
      "See the caveats in the documentation: http://pandas.pydata.org/pandas-docs/stable/indexing.html#indexing-view-versus-copy\n",
      "  self.obj[item] = s\n"
     ]
    }
   ],
   "source": [
    "del postulaciones['fechapostulacion']\n",
    "postulaciones.loc[:, \"target\"] = True"
   ]
  },
  {
   "cell_type": "code",
   "execution_count": 26,
   "metadata": {},
   "outputs": [
    {
     "data": {
      "text/plain": [
       "4909025"
      ]
     },
     "execution_count": 26,
     "metadata": {},
     "output_type": "execute_result"
    }
   ],
   "source": [
    "len(postulaciones)"
   ]
  },
  {
   "cell_type": "code",
   "execution_count": 27,
   "metadata": {},
   "outputs": [],
   "source": [
    "postulaciones.to_pickle(\"postulaciones_train.pkl\")"
   ]
  },
  {
   "cell_type": "markdown",
   "metadata": {},
   "source": [
    "Para estos datasets, existen postulaciones que no tienen visitas, esto no deberia ser posible. Asumimos que el dataset train de visitas esta incompleto, y suponemos que el dataset test de visitas estara en mejores condiciones. Por lo tanto hacemos un **merge** de tipo **inner**, el cual deja afuera a las postulaciones sin visitas.\n",
    "\n",
    "Otra forma seria asignar una visita a las postulaciones que no tienen. El usuario tiene que generar una visita antes de poder postularse, por lo que tiene sentido."
   ]
  },
  {
   "cell_type": "code",
   "execution_count": 28,
   "metadata": {},
   "outputs": [],
   "source": [
    "postulaciones = pd.merge(postulaciones, train_visitas2, how='inner', on=['idaviso', 'idpostulante'])"
   ]
  },
  {
   "cell_type": "code",
   "execution_count": 29,
   "metadata": {},
   "outputs": [
    {
     "data": {
      "text/html": [
       "<div>\n",
       "<style>\n",
       "    .dataframe thead tr:only-child th {\n",
       "        text-align: right;\n",
       "    }\n",
       "\n",
       "    .dataframe thead th {\n",
       "        text-align: left;\n",
       "    }\n",
       "\n",
       "    .dataframe tbody tr th {\n",
       "        vertical-align: top;\n",
       "    }\n",
       "</style>\n",
       "<table border=\"1\" class=\"dataframe\">\n",
       "  <thead>\n",
       "    <tr style=\"text-align: right;\">\n",
       "      <th></th>\n",
       "      <th>idaviso</th>\n",
       "      <th>idpostulante</th>\n",
       "      <th>target</th>\n",
       "      <th>visita_cantidad</th>\n",
       "    </tr>\n",
       "  </thead>\n",
       "  <tbody>\n",
       "    <tr>\n",
       "      <th>0</th>\n",
       "      <td>1112383420</td>\n",
       "      <td>ZaO5</td>\n",
       "      <td>True</td>\n",
       "      <td>2</td>\n",
       "    </tr>\n",
       "    <tr>\n",
       "      <th>1</th>\n",
       "      <td>1112397910</td>\n",
       "      <td>ZaO5</td>\n",
       "      <td>True</td>\n",
       "      <td>2</td>\n",
       "    </tr>\n",
       "    <tr>\n",
       "      <th>2</th>\n",
       "      <td>1111043912</td>\n",
       "      <td>ZaO5</td>\n",
       "      <td>True</td>\n",
       "      <td>3</td>\n",
       "    </tr>\n",
       "    <tr>\n",
       "      <th>3</th>\n",
       "      <td>1112421913</td>\n",
       "      <td>ZaO5</td>\n",
       "      <td>True</td>\n",
       "      <td>2</td>\n",
       "    </tr>\n",
       "    <tr>\n",
       "      <th>4</th>\n",
       "      <td>1112373820</td>\n",
       "      <td>ZaO5</td>\n",
       "      <td>True</td>\n",
       "      <td>1</td>\n",
       "    </tr>\n",
       "  </tbody>\n",
       "</table>\n",
       "</div>"
      ],
      "text/plain": [
       "      idaviso idpostulante  target  visita_cantidad\n",
       "0  1112383420         ZaO5    True                2\n",
       "1  1112397910         ZaO5    True                2\n",
       "2  1111043912         ZaO5    True                3\n",
       "3  1112421913         ZaO5    True                2\n",
       "4  1112373820         ZaO5    True                1"
      ]
     },
     "execution_count": 29,
     "metadata": {},
     "output_type": "execute_result"
    }
   ],
   "source": [
    "postulaciones.head(5)"
   ]
  },
  {
   "cell_type": "markdown",
   "metadata": {},
   "source": [
    "### Casos negativos\n",
    "\n",
    "Generamos al azar combinaciones de **idaviso** e **idpostulante**, la misma cantidad que el set de casos positivos. Luego descartamos las combinaciones que existen en el DF de casos positivos (de existir seran muy pocas, ya que la probabilidad de un caso positivo en el conjunto de todas las combinaciones posibles es muy bajo).\n",
    "\n",
    "Las combinaciones resultantes son el conjunto de postulaciones que nunca se haran, mas las postulaciones que si se haran en el futuro. Este modelo supone que de existir postulaciones futuras en las combinaciones generadas, estas son pocas, por lo tanto, el conjunto de features de avisos y postulantes representa en su mayoria a un set de variables independientes con poca tendencia a generar una postulacion.\n",
    "\n",
    "Este supuesto se pondra a prueba (a grosso modo) al ejecutar los algoritmos predictivos. De ser valido obtendremos un score operativo."
   ]
  },
  {
   "cell_type": "code",
   "execution_count": 31,
   "metadata": {},
   "outputs": [
    {
     "data": {
      "text/plain": [
       "24181"
      ]
     },
     "execution_count": 31,
     "metadata": {},
     "output_type": "execute_result"
    }
   ],
   "source": [
    "len(avisos['idaviso'].unique())"
   ]
  },
  {
   "cell_type": "code",
   "execution_count": 32,
   "metadata": {},
   "outputs": [
    {
     "data": {
      "text/plain": [
       "420490"
      ]
     },
     "execution_count": 32,
     "metadata": {},
     "output_type": "execute_result"
    }
   ],
   "source": [
    "len(postulantes['idpostulante'].unique())"
   ]
  },
  {
   "cell_type": "code",
   "execution_count": 33,
   "metadata": {},
   "outputs": [],
   "source": [
    "# Create a hash table for fast lookup of existing records.\n",
    "idaviso_idpostulante = {i for i in (avisos['idaviso'].astype(str) +  postulantes['idpostulante']).values}"
   ]
  },
  {
   "cell_type": "code",
   "execution_count": 34,
   "metadata": {},
   "outputs": [],
   "source": [
    "avisos_values = avisos['idaviso'].unique()\n",
    "postulantes_values = postulantes['idpostulante'].unique()\n",
    "\n",
    "n = len(postulaciones)\n",
    "\n",
    "avisos_index = np.random.choice(len(avisos_values), n)\n",
    "postulantes_index = np.random.choice(len(postulantes_values), n)"
   ]
  },
  {
   "cell_type": "code",
   "execution_count": 35,
   "metadata": {},
   "outputs": [],
   "source": [
    "# See https://stackoverflow.com/questions/10715965/add-one-row-in-a-pandas-dataframe#answer-17496530\n",
    "\n",
    "postulaciones_2 = []\n",
    "\n",
    "for i in range(n):\n",
    "    if (str(avisos_values[avisos_index[1]]) + postulantes_values[postulantes_index[i]] not in idaviso_idpostulante):\n",
    "        postulaciones_2.append({\n",
    "            'idaviso': avisos_values[avisos_index[i]],\n",
    "            'idpostulante': postulantes_values[postulantes_index[i]]\n",
    "        })\n",
    "\n",
    "postulaciones_2 = pd.DataFrame(postulaciones_2, columns=['idaviso', 'idpostulante'])"
   ]
  },
  {
   "cell_type": "code",
   "execution_count": 36,
   "metadata": {},
   "outputs": [],
   "source": [
    "postulaciones_2['target'] = False"
   ]
  },
  {
   "cell_type": "markdown",
   "metadata": {},
   "source": [
    "Aqui asignamos 0 a las visitas que no tienen valor, estamos suponiendo que para los casos generados, la mayoria son no postulaciones, y que la mayoria de las no postulaciones, no tienen visitas."
   ]
  },
  {
   "cell_type": "code",
   "execution_count": 37,
   "metadata": {},
   "outputs": [],
   "source": [
    "postulaciones_2 = pd.merge(postulaciones_2, train_visitas2, how='left', on=['idaviso', 'idpostulante'])\n",
    "postulaciones_2.loc[postulaciones_2['visita_cantidad'].isnull(), 'visita_cantidad'] = 0"
   ]
  },
  {
   "cell_type": "code",
   "execution_count": 38,
   "metadata": {},
   "outputs": [
    {
     "data": {
      "text/plain": [
       "1398718"
      ]
     },
     "execution_count": 38,
     "metadata": {},
     "output_type": "execute_result"
    }
   ],
   "source": [
    "len(postulaciones_2)"
   ]
  },
  {
   "cell_type": "code",
   "execution_count": 39,
   "metadata": {},
   "outputs": [],
   "source": [
    "# Merge both DFs and shuffle the false and true cases.\n",
    "postulaciones = pd.concat([postulaciones, postulaciones_2]).sample(frac=1)\n",
    "postulaciones.reset_index(inplace=True, drop=True)"
   ]
  },
  {
   "cell_type": "code",
   "execution_count": 40,
   "metadata": {},
   "outputs": [
    {
     "data": {
      "text/html": [
       "<div>\n",
       "<style>\n",
       "    .dataframe thead tr:only-child th {\n",
       "        text-align: right;\n",
       "    }\n",
       "\n",
       "    .dataframe thead th {\n",
       "        text-align: left;\n",
       "    }\n",
       "\n",
       "    .dataframe tbody tr th {\n",
       "        vertical-align: top;\n",
       "    }\n",
       "</style>\n",
       "<table border=\"1\" class=\"dataframe\">\n",
       "  <thead>\n",
       "    <tr style=\"text-align: right;\">\n",
       "      <th></th>\n",
       "      <th>idaviso</th>\n",
       "      <th>idpostulante</th>\n",
       "      <th>target</th>\n",
       "      <th>visita_cantidad</th>\n",
       "    </tr>\n",
       "  </thead>\n",
       "  <tbody>\n",
       "    <tr>\n",
       "      <th>1299300</th>\n",
       "      <td>1112389785</td>\n",
       "      <td>mzdBQVE</td>\n",
       "      <td>False</td>\n",
       "      <td>0.0</td>\n",
       "    </tr>\n",
       "    <tr>\n",
       "      <th>1169688</th>\n",
       "      <td>1112389495</td>\n",
       "      <td>1pO5wL</td>\n",
       "      <td>True</td>\n",
       "      <td>4.0</td>\n",
       "    </tr>\n",
       "    <tr>\n",
       "      <th>1551304</th>\n",
       "      <td>1112481338</td>\n",
       "      <td>96X8xWv</td>\n",
       "      <td>False</td>\n",
       "      <td>0.0</td>\n",
       "    </tr>\n",
       "    <tr>\n",
       "      <th>1564275</th>\n",
       "      <td>1112048953</td>\n",
       "      <td>NzjaJQB</td>\n",
       "      <td>False</td>\n",
       "      <td>0.0</td>\n",
       "    </tr>\n",
       "    <tr>\n",
       "      <th>2667920</th>\n",
       "      <td>1111926762</td>\n",
       "      <td>JBraMx5</td>\n",
       "      <td>True</td>\n",
       "      <td>2.0</td>\n",
       "    </tr>\n",
       "  </tbody>\n",
       "</table>\n",
       "</div>"
      ],
      "text/plain": [
       "            idaviso idpostulante  target  visita_cantidad\n",
       "1299300  1112389785      mzdBQVE   False              0.0\n",
       "1169688  1112389495       1pO5wL    True              4.0\n",
       "1551304  1112481338      96X8xWv   False              0.0\n",
       "1564275  1112048953      NzjaJQB   False              0.0\n",
       "2667920  1111926762      JBraMx5    True              2.0"
      ]
     },
     "execution_count": 40,
     "metadata": {},
     "output_type": "execute_result"
    }
   ],
   "source": [
    "postulaciones.sample(5)"
   ]
  },
  {
   "cell_type": "code",
   "execution_count": 41,
   "metadata": {},
   "outputs": [],
   "source": [
    "postulaciones.to_pickle(\"postulaciones_visitas_train.pkl\")"
   ]
  }
 ],
 "metadata": {
  "kernelspec": {
   "display_name": "Python 3",
   "language": "python",
   "name": "python3"
  },
  "language_info": {
   "codemirror_mode": {
    "name": "ipython",
    "version": 3
   },
   "file_extension": ".py",
   "mimetype": "text/x-python",
   "name": "python",
   "nbconvert_exporter": "python",
   "pygments_lexer": "ipython3",
   "version": "3.6.0"
  }
 },
 "nbformat": 4,
 "nbformat_minor": 2
}
