{
 "cells": [
  {
   "cell_type": "markdown",
   "metadata": {},
   "source": [
    "## Trabajo Practico n° 2 - Organización de datos\n",
    "\n",
    "## *Machine Learning*\n",
    "\n",
    "### *Alumno: Sebastian Leonardi*\n",
    "\n",
    "### *Año 2018 - 1er cuatrimestre*"
   ]
  },
  {
   "cell_type": "code",
   "execution_count": 129,
   "metadata": {},
   "outputs": [],
   "source": [
    "# importacion general de librerias y de visualizacion (matplotlib y seaborn)\n",
    "import pandas as pd\n",
    "import numpy as np\n",
    "import datetime as dt\n",
    "import sklearn\n",
    "from sklearn.preprocessing import LabelBinarizer\n",
    "from sklearn import preprocessing"
   ]
  },
  {
   "cell_type": "markdown",
   "metadata": {},
   "source": [
    "### Se cargan todos los Dataframes"
   ]
  },
  {
   "cell_type": "code",
   "execution_count": 2,
   "metadata": {},
   "outputs": [],
   "source": [
    "postulantes_ed = pd.read_csv('./datos_navent_fiuba/fiuba_1_postulantes_educacion.csv')\n",
    "postulantes_ed_h15a = pd.read_csv('fiuba_desde_15_abril/fiuba_1_postulantes_educacion.csv')\n",
    "postulantes_ed_d15a = pd.read_csv('fiuba_hasta_15_abril/fiuba_1_postulantes_educacion.csv')\n",
    "# avisos_online = pd.read_csv('datos_navent_fiuba/fiuba_5_avisos_online.csv')\n",
    "# avisos_online_h15a = pd.read_csv('fiuba_hasta_15_abril/fiuba_5_avisos_online.csv')"
   ]
  },
  {
   "cell_type": "code",
   "execution_count": 3,
   "metadata": {},
   "outputs": [],
   "source": [
    "postulantes_ge = pd.read_csv('datos_navent_fiuba/fiuba_2_postulantes_genero_y_edad.csv', parse_dates=['fechanacimiento'], date_parser=lambda d: pd.to_datetime(d, format=\"%Y/%m/%d\", errors=\"coerce\"))\n",
    "postulantes_ge_h15a = pd.read_csv('fiuba_desde_15_abril/fiuba_2_postulantes_genero_y_edad.csv', parse_dates=['fechanacimiento'], date_parser=lambda d: pd.to_datetime(d, format=\"%Y/%m/%d\", errors=\"coerce\"))\n",
    "postulantes_ge_d15a = pd.read_csv('fiuba_hasta_15_abril/fiuba_2_postulantes_genero_y_edad.csv', parse_dates=['fechanacimiento'], date_parser=lambda d: pd.to_datetime(d, format=\"%Y/%m/%d\", errors=\"coerce\"))"
   ]
  },
  {
   "cell_type": "code",
   "execution_count": 4,
   "metadata": {},
   "outputs": [],
   "source": [
    "vistas = pd.read_csv('datos_navent_fiuba/fiuba_3_vistas.csv')\n",
    "#vistas_d15a = pd.read_csv('fiuba_desde_15_abril/fiuba_3_vistas.csv')\n",
    "vistas_h15a = pd.read_csv('fiuba_hasta_15_abril/fiuba_3_vistas.csv')"
   ]
  },
  {
   "cell_type": "code",
   "execution_count": 5,
   "metadata": {},
   "outputs": [],
   "source": [
    "postulaciones = pd.read_csv('datos_navent_fiuba/fiuba_4_postulaciones.csv', parse_dates=['fechapostulacion'], date_parser=lambda d: pd.to_datetime(d, format=\"%Y/%m/%d\", errors=\"coerce\"))\n",
    "postulaciones_h15a = pd.read_csv('fiuba_hasta_15_abril/fiuba_4_postulaciones.csv', parse_dates=['fechapostulacion'], date_parser=lambda d: pd.to_datetime(d, format=\"%Y/%m/%d\", errors=\"coerce\"))"
   ]
  },
  {
   "cell_type": "code",
   "execution_count": 6,
   "metadata": {},
   "outputs": [],
   "source": [
    "avisos_detalle = pd.read_csv('datos_navent_fiuba/fiuba_6_avisos_detalle.csv')\n",
    "avisos_detalle_d15a = pd.read_csv('fiuba_desde_15_abril/fiuba_6_avisos_detalle.csv')\n",
    "avisos_detalle_h15a = pd.read_csv('fiuba_hasta_15_abril/fiuba_6_avisos_detalle.csv')\n",
    "avisos_detalle_missing = pd.read_csv('fiuba_6_avisos_detalle_missing_nivel_laboral.csv')"
   ]
  },
  {
   "cell_type": "code",
   "execution_count": 7,
   "metadata": {},
   "outputs": [],
   "source": [
    "#postulantes = pd.merge(postulantes_ed_h15a, postulantes_ed_d15a, how='left', on='idpostulante')"
   ]
  },
  {
   "cell_type": "code",
   "execution_count": 8,
   "metadata": {},
   "outputs": [],
   "source": [
    "postulantes = postulantes_ed.append([postulantes_ed_h15a, postulantes_ed_d15a])"
   ]
  },
  {
   "cell_type": "code",
   "execution_count": 9,
   "metadata": {},
   "outputs": [
    {
     "name": "stdout",
     "output_type": "stream",
     "text": [
      "<class 'pandas.core.frame.DataFrame'>\n",
      "Int64Index: 1103193 entries, 0 to 407452\n",
      "Data columns (total 3 columns):\n",
      "idpostulante    1103193 non-null object\n",
      "nombre          1103193 non-null object\n",
      "estado          1103193 non-null object\n",
      "dtypes: object(3)\n",
      "memory usage: 33.7+ MB\n"
     ]
    }
   ],
   "source": [
    "postulantes.info()"
   ]
  },
  {
   "cell_type": "code",
   "execution_count": 10,
   "metadata": {},
   "outputs": [
    {
     "data": {
      "text/html": [
       "<div>\n",
       "<style scoped>\n",
       "    .dataframe tbody tr th:only-of-type {\n",
       "        vertical-align: middle;\n",
       "    }\n",
       "\n",
       "    .dataframe tbody tr th {\n",
       "        vertical-align: top;\n",
       "    }\n",
       "\n",
       "    .dataframe thead th {\n",
       "        text-align: right;\n",
       "    }\n",
       "</style>\n",
       "<table border=\"1\" class=\"dataframe\">\n",
       "  <thead>\n",
       "    <tr style=\"text-align: right;\">\n",
       "      <th></th>\n",
       "      <th>idpostulante</th>\n",
       "      <th>nombre</th>\n",
       "      <th>estado</th>\n",
       "    </tr>\n",
       "  </thead>\n",
       "  <tbody>\n",
       "    <tr>\n",
       "      <th>0</th>\n",
       "      <td>NdJl</td>\n",
       "      <td>Posgrado</td>\n",
       "      <td>En Curso</td>\n",
       "    </tr>\n",
       "    <tr>\n",
       "      <th>1</th>\n",
       "      <td>8BkL</td>\n",
       "      <td>Universitario</td>\n",
       "      <td>En Curso</td>\n",
       "    </tr>\n",
       "    <tr>\n",
       "      <th>2</th>\n",
       "      <td>1d2B</td>\n",
       "      <td>Universitario</td>\n",
       "      <td>En Curso</td>\n",
       "    </tr>\n",
       "    <tr>\n",
       "      <th>3</th>\n",
       "      <td>NPBx</td>\n",
       "      <td>Universitario</td>\n",
       "      <td>En Curso</td>\n",
       "    </tr>\n",
       "    <tr>\n",
       "      <th>4</th>\n",
       "      <td>NPBx</td>\n",
       "      <td>Master</td>\n",
       "      <td>En Curso</td>\n",
       "    </tr>\n",
       "    <tr>\n",
       "      <th>5</th>\n",
       "      <td>Ym2X</td>\n",
       "      <td>Otro</td>\n",
       "      <td>En Curso</td>\n",
       "    </tr>\n",
       "    <tr>\n",
       "      <th>6</th>\n",
       "      <td>ZKl5</td>\n",
       "      <td>Master</td>\n",
       "      <td>En Curso</td>\n",
       "    </tr>\n",
       "    <tr>\n",
       "      <th>7</th>\n",
       "      <td>EDD99</td>\n",
       "      <td>Terciario/Técnico</td>\n",
       "      <td>En Curso</td>\n",
       "    </tr>\n",
       "    <tr>\n",
       "      <th>8</th>\n",
       "      <td>Y043Z</td>\n",
       "      <td>Universitario</td>\n",
       "      <td>En Curso</td>\n",
       "    </tr>\n",
       "    <tr>\n",
       "      <th>9</th>\n",
       "      <td>6M3jr</td>\n",
       "      <td>Universitario</td>\n",
       "      <td>En Curso</td>\n",
       "    </tr>\n",
       "    <tr>\n",
       "      <th>10</th>\n",
       "      <td>EpDDJ</td>\n",
       "      <td>Universitario</td>\n",
       "      <td>En Curso</td>\n",
       "    </tr>\n",
       "    <tr>\n",
       "      <th>11</th>\n",
       "      <td>abpEZ</td>\n",
       "      <td>Otro</td>\n",
       "      <td>En Curso</td>\n",
       "    </tr>\n",
       "    <tr>\n",
       "      <th>12</th>\n",
       "      <td>EZD29</td>\n",
       "      <td>Universitario</td>\n",
       "      <td>En Curso</td>\n",
       "    </tr>\n",
       "    <tr>\n",
       "      <th>13</th>\n",
       "      <td>EZD29</td>\n",
       "      <td>Terciario/Técnico</td>\n",
       "      <td>En Curso</td>\n",
       "    </tr>\n",
       "    <tr>\n",
       "      <th>14</th>\n",
       "      <td>EZD29</td>\n",
       "      <td>Otro</td>\n",
       "      <td>En Curso</td>\n",
       "    </tr>\n",
       "  </tbody>\n",
       "</table>\n",
       "</div>"
      ],
      "text/plain": [
       "   idpostulante             nombre    estado\n",
       "0          NdJl           Posgrado  En Curso\n",
       "1          8BkL      Universitario  En Curso\n",
       "2          1d2B      Universitario  En Curso\n",
       "3          NPBx      Universitario  En Curso\n",
       "4          NPBx             Master  En Curso\n",
       "5          Ym2X               Otro  En Curso\n",
       "6          ZKl5             Master  En Curso\n",
       "7         EDD99  Terciario/Técnico  En Curso\n",
       "8         Y043Z      Universitario  En Curso\n",
       "9         6M3jr      Universitario  En Curso\n",
       "10        EpDDJ      Universitario  En Curso\n",
       "11        abpEZ               Otro  En Curso\n",
       "12        EZD29      Universitario  En Curso\n",
       "13        EZD29  Terciario/Técnico  En Curso\n",
       "14        EZD29               Otro  En Curso"
      ]
     },
     "execution_count": 10,
     "metadata": {},
     "output_type": "execute_result"
    }
   ],
   "source": [
    "postulantes.head(15)"
   ]
  },
  {
   "cell_type": "markdown",
   "metadata": {},
   "source": [
    "### Se transforman los niveles de estudios en numericos (tome el metodo de Jose para que queden iguales, ya que yo lo habia ponderado distinto)"
   ]
  },
  {
   "cell_type": "code",
   "execution_count": 11,
   "metadata": {},
   "outputs": [],
   "source": [
    "#postulantes['nombre']=postulantes['nombre'].astype('category')"
   ]
  },
  {
   "cell_type": "code",
   "execution_count": 12,
   "metadata": {},
   "outputs": [],
   "source": [
    "col_rename={'nombre':'estudios'}\n",
    "postulantes=postulantes.rename(columns=col_rename)"
   ]
  },
  {
   "cell_type": "code",
   "execution_count": 13,
   "metadata": {},
   "outputs": [],
   "source": [
    "postulantes['educacion']=postulantes['estudios'].astype('object')+postulantes['estado'].astype('object')"
   ]
  },
  {
   "cell_type": "code",
   "execution_count": 14,
   "metadata": {},
   "outputs": [],
   "source": [
    "postulantes['educacion'].replace({\n",
    "        'SecundarioAbandonado': 0,\n",
    "        'SecundarioEn Curso': 1,\n",
    "        'SecundarioGraduado': 2,\n",
    "        'OtroAbandonado': 3,\n",
    "        'OtroEn Curso': 4,\n",
    "        'OtroGraduado': 5,\n",
    "        'Terciario/TécnicoAbandonado': 6,\n",
    "        'Terciario/TécnicoEn Curso': 7,\n",
    "        'Terciario/TécnicoGraduado': 8,\n",
    "        'UniversitarioAbandonado': 9,\n",
    "        'UniversitarioEn Curso': 10,\n",
    "        'UniversitarioGraduado': 11,\n",
    "        'PosgradoAbandonado': 12,\n",
    "        'PosgradoEn Curso': 13,\n",
    "        'PosgradoGraduado': 14,\n",
    "        'MasterAbandonado': 15,\n",
    "        'MasterEn Curso': 16,\n",
    "        'MasterGraduado': 17,\n",
    "        'DoctoradoAbandonado': 18,\n",
    "        'DoctoradoEn Curso': 19,\n",
    "        'DoctoradoGraduado': 20,\n",
    "    }, inplace=True)"
   ]
  },
  {
   "cell_type": "markdown",
   "metadata": {},
   "source": [
    "### Se conserva solo el valor del estudio mas alto"
   ]
  },
  {
   "cell_type": "code",
   "execution_count": 15,
   "metadata": {},
   "outputs": [],
   "source": [
    "postulantes=postulantes.groupby('idpostulante')['educacion'].max().to_frame().reset_index().sort_values('idpostulante', ascending=False)"
   ]
  },
  {
   "cell_type": "code",
   "execution_count": 16,
   "metadata": {},
   "outputs": [
    {
     "data": {
      "text/html": [
       "<div>\n",
       "<style scoped>\n",
       "    .dataframe tbody tr th:only-of-type {\n",
       "        vertical-align: middle;\n",
       "    }\n",
       "\n",
       "    .dataframe tbody tr th {\n",
       "        vertical-align: top;\n",
       "    }\n",
       "\n",
       "    .dataframe thead th {\n",
       "        text-align: right;\n",
       "    }\n",
       "</style>\n",
       "<table border=\"1\" class=\"dataframe\">\n",
       "  <thead>\n",
       "    <tr style=\"text-align: right;\">\n",
       "      <th></th>\n",
       "      <th>idpostulante</th>\n",
       "      <th>educacion</th>\n",
       "    </tr>\n",
       "  </thead>\n",
       "  <tbody>\n",
       "    <tr>\n",
       "      <th>287119</th>\n",
       "      <td>ZDao25b</td>\n",
       "      <td>2</td>\n",
       "    </tr>\n",
       "    <tr>\n",
       "      <th>164436</th>\n",
       "      <td>JBXL1xW</td>\n",
       "      <td>10</td>\n",
       "    </tr>\n",
       "    <tr>\n",
       "      <th>368835</th>\n",
       "      <td>lDLKYe6</td>\n",
       "      <td>2</td>\n",
       "    </tr>\n",
       "    <tr>\n",
       "      <th>171685</th>\n",
       "      <td>JBrYMMJ</td>\n",
       "      <td>2</td>\n",
       "    </tr>\n",
       "    <tr>\n",
       "      <th>41402</th>\n",
       "      <td>3NzYq2q</td>\n",
       "      <td>10</td>\n",
       "    </tr>\n",
       "    <tr>\n",
       "      <th>38450</th>\n",
       "      <td>3NQG2VP</td>\n",
       "      <td>9</td>\n",
       "    </tr>\n",
       "    <tr>\n",
       "      <th>201429</th>\n",
       "      <td>NAQ1YJ</td>\n",
       "      <td>14</td>\n",
       "    </tr>\n",
       "    <tr>\n",
       "      <th>255700</th>\n",
       "      <td>W9WNVb2</td>\n",
       "      <td>2</td>\n",
       "    </tr>\n",
       "    <tr>\n",
       "      <th>207903</th>\n",
       "      <td>NrvRbL</td>\n",
       "      <td>11</td>\n",
       "    </tr>\n",
       "    <tr>\n",
       "      <th>312477</th>\n",
       "      <td>akjAv80</td>\n",
       "      <td>5</td>\n",
       "    </tr>\n",
       "  </tbody>\n",
       "</table>\n",
       "</div>"
      ],
      "text/plain": [
       "       idpostulante  educacion\n",
       "287119      ZDao25b          2\n",
       "164436      JBXL1xW         10\n",
       "368835      lDLKYe6          2\n",
       "171685      JBrYMMJ          2\n",
       "41402       3NzYq2q         10\n",
       "38450       3NQG2VP          9\n",
       "201429       NAQ1YJ         14\n",
       "255700      W9WNVb2          2\n",
       "207903       NrvRbL         11\n",
       "312477      akjAv80          5"
      ]
     },
     "execution_count": 16,
     "metadata": {},
     "output_type": "execute_result"
    }
   ],
   "source": [
    "postulantes.sample(10)"
   ]
  },
  {
   "cell_type": "markdown",
   "metadata": {},
   "source": [
    "### Trabajo con el genero de los postulantes"
   ]
  },
  {
   "cell_type": "code",
   "execution_count": 17,
   "metadata": {},
   "outputs": [
    {
     "name": "stdout",
     "output_type": "stream",
     "text": [
      "<class 'pandas.core.frame.DataFrame'>\n",
      "RangeIndex: 281385 entries, 0 to 281384\n",
      "Data columns (total 3 columns):\n",
      "idpostulante       281385 non-null object\n",
      "fechanacimiento    268464 non-null datetime64[ns]\n",
      "sexo               281385 non-null object\n",
      "dtypes: datetime64[ns](1), object(2)\n",
      "memory usage: 6.4+ MB\n"
     ]
    }
   ],
   "source": [
    "postulantes_ge_h15a.info()"
   ]
  },
  {
   "cell_type": "code",
   "execution_count": 18,
   "metadata": {},
   "outputs": [
    {
     "name": "stdout",
     "output_type": "stream",
     "text": [
      "<class 'pandas.core.frame.DataFrame'>\n",
      "RangeIndex: 297747 entries, 0 to 297746\n",
      "Data columns (total 3 columns):\n",
      "idpostulante       297747 non-null object\n",
      "fechanacimiento    281105 non-null datetime64[ns]\n",
      "sexo               297747 non-null object\n",
      "dtypes: datetime64[ns](1), object(2)\n",
      "memory usage: 6.8+ MB\n"
     ]
    }
   ],
   "source": [
    "postulantes_ge_d15a.info()"
   ]
  },
  {
   "cell_type": "code",
   "execution_count": 19,
   "metadata": {},
   "outputs": [
    {
     "name": "stdout",
     "output_type": "stream",
     "text": [
      "<class 'pandas.core.frame.DataFrame'>\n",
      "RangeIndex: 200888 entries, 0 to 200887\n",
      "Data columns (total 3 columns):\n",
      "idpostulante       200888 non-null object\n",
      "fechanacimiento    196131 non-null datetime64[ns]\n",
      "sexo               200888 non-null object\n",
      "dtypes: datetime64[ns](1), object(2)\n",
      "memory usage: 4.6+ MB\n"
     ]
    }
   ],
   "source": [
    "postulantes_ge.info()"
   ]
  },
  {
   "cell_type": "markdown",
   "metadata": {},
   "source": [
    "#### Se unifican todos los postulantes en un solo dataframe, se calcula la edad"
   ]
  },
  {
   "cell_type": "code",
   "execution_count": 20,
   "metadata": {},
   "outputs": [],
   "source": [
    "postulantes_ge = postulantes_ge.append([postulantes_ge_h15a, postulantes_ge_d15a])"
   ]
  },
  {
   "cell_type": "code",
   "execution_count": 21,
   "metadata": {},
   "outputs": [],
   "source": [
    "postulantes_ge.drop_duplicates('idpostulante', inplace=True)"
   ]
  },
  {
   "cell_type": "code",
   "execution_count": 22,
   "metadata": {},
   "outputs": [
    {
     "name": "stdout",
     "output_type": "stream",
     "text": [
      "<class 'pandas.core.frame.DataFrame'>\n",
      "Int64Index: 504407 entries, 0 to 297183\n",
      "Data columns (total 3 columns):\n",
      "idpostulante       504407 non-null object\n",
      "fechanacimiento    478073 non-null datetime64[ns]\n",
      "sexo               504407 non-null object\n",
      "dtypes: datetime64[ns](1), object(2)\n",
      "memory usage: 15.4+ MB\n"
     ]
    }
   ],
   "source": [
    "postulantes_ge.info()"
   ]
  },
  {
   "cell_type": "code",
   "execution_count": 23,
   "metadata": {},
   "outputs": [],
   "source": [
    "postulantes_ge['edad'] = np.floor((pd.datetime.today() - postulantes_ge['fechanacimiento']).dt.days / 365)"
   ]
  },
  {
   "cell_type": "code",
   "execution_count": 24,
   "metadata": {},
   "outputs": [
    {
     "data": {
      "text/html": [
       "<div>\n",
       "<style scoped>\n",
       "    .dataframe tbody tr th:only-of-type {\n",
       "        vertical-align: middle;\n",
       "    }\n",
       "\n",
       "    .dataframe tbody tr th {\n",
       "        vertical-align: top;\n",
       "    }\n",
       "\n",
       "    .dataframe thead th {\n",
       "        text-align: right;\n",
       "    }\n",
       "</style>\n",
       "<table border=\"1\" class=\"dataframe\">\n",
       "  <thead>\n",
       "    <tr style=\"text-align: right;\">\n",
       "      <th></th>\n",
       "      <th>idpostulante</th>\n",
       "      <th>fechanacimiento</th>\n",
       "      <th>sexo</th>\n",
       "      <th>edad</th>\n",
       "    </tr>\n",
       "  </thead>\n",
       "  <tbody>\n",
       "    <tr>\n",
       "      <th>97073</th>\n",
       "      <td>8MZ4WZ3</td>\n",
       "      <td>1992-11-09</td>\n",
       "      <td>FEM</td>\n",
       "      <td>25.0</td>\n",
       "    </tr>\n",
       "    <tr>\n",
       "      <th>47564</th>\n",
       "      <td>0zrPQqr</td>\n",
       "      <td>1990-09-07</td>\n",
       "      <td>FEM</td>\n",
       "      <td>27.0</td>\n",
       "    </tr>\n",
       "    <tr>\n",
       "      <th>39108</th>\n",
       "      <td>EpPjvb</td>\n",
       "      <td>1977-12-23</td>\n",
       "      <td>MASC</td>\n",
       "      <td>40.0</td>\n",
       "    </tr>\n",
       "    <tr>\n",
       "      <th>106614</th>\n",
       "      <td>96ZEEVP</td>\n",
       "      <td>1987-08-18</td>\n",
       "      <td>FEM</td>\n",
       "      <td>30.0</td>\n",
       "    </tr>\n",
       "    <tr>\n",
       "      <th>41185</th>\n",
       "      <td>4rWW4ae</td>\n",
       "      <td>1987-01-21</td>\n",
       "      <td>FEM</td>\n",
       "      <td>31.0</td>\n",
       "    </tr>\n",
       "    <tr>\n",
       "      <th>94411</th>\n",
       "      <td>lDXjB2M</td>\n",
       "      <td>1980-10-11</td>\n",
       "      <td>MASC</td>\n",
       "      <td>37.0</td>\n",
       "    </tr>\n",
       "    <tr>\n",
       "      <th>104188</th>\n",
       "      <td>GNdd8Ob</td>\n",
       "      <td>1996-01-19</td>\n",
       "      <td>FEM</td>\n",
       "      <td>22.0</td>\n",
       "    </tr>\n",
       "    <tr>\n",
       "      <th>31019</th>\n",
       "      <td>ZDPBaKE</td>\n",
       "      <td>1996-11-11</td>\n",
       "      <td>MASC</td>\n",
       "      <td>21.0</td>\n",
       "    </tr>\n",
       "    <tr>\n",
       "      <th>126180</th>\n",
       "      <td>3NQmDoJ</td>\n",
       "      <td>1991-03-28</td>\n",
       "      <td>FEM</td>\n",
       "      <td>27.0</td>\n",
       "    </tr>\n",
       "    <tr>\n",
       "      <th>30206</th>\n",
       "      <td>NGxZwJ</td>\n",
       "      <td>1981-07-23</td>\n",
       "      <td>FEM</td>\n",
       "      <td>36.0</td>\n",
       "    </tr>\n",
       "    <tr>\n",
       "      <th>187615</th>\n",
       "      <td>akjqrZN</td>\n",
       "      <td>1967-09-15</td>\n",
       "      <td>MASC</td>\n",
       "      <td>50.0</td>\n",
       "    </tr>\n",
       "    <tr>\n",
       "      <th>148524</th>\n",
       "      <td>QNlW6DW</td>\n",
       "      <td>1997-02-20</td>\n",
       "      <td>FEM</td>\n",
       "      <td>21.0</td>\n",
       "    </tr>\n",
       "    <tr>\n",
       "      <th>261910</th>\n",
       "      <td>1lGlvR</td>\n",
       "      <td>NaT</td>\n",
       "      <td>NO_DECLARA</td>\n",
       "      <td>NaN</td>\n",
       "    </tr>\n",
       "    <tr>\n",
       "      <th>87633</th>\n",
       "      <td>JBerro3</td>\n",
       "      <td>1993-06-27</td>\n",
       "      <td>FEM</td>\n",
       "      <td>25.0</td>\n",
       "    </tr>\n",
       "    <tr>\n",
       "      <th>92384</th>\n",
       "      <td>owElpaZ</td>\n",
       "      <td>1989-07-02</td>\n",
       "      <td>FEM</td>\n",
       "      <td>29.0</td>\n",
       "    </tr>\n",
       "  </tbody>\n",
       "</table>\n",
       "</div>"
      ],
      "text/plain": [
       "       idpostulante fechanacimiento        sexo  edad\n",
       "97073       8MZ4WZ3      1992-11-09         FEM  25.0\n",
       "47564       0zrPQqr      1990-09-07         FEM  27.0\n",
       "39108        EpPjvb      1977-12-23        MASC  40.0\n",
       "106614      96ZEEVP      1987-08-18         FEM  30.0\n",
       "41185       4rWW4ae      1987-01-21         FEM  31.0\n",
       "94411       lDXjB2M      1980-10-11        MASC  37.0\n",
       "104188      GNdd8Ob      1996-01-19         FEM  22.0\n",
       "31019       ZDPBaKE      1996-11-11        MASC  21.0\n",
       "126180      3NQmDoJ      1991-03-28         FEM  27.0\n",
       "30206        NGxZwJ      1981-07-23         FEM  36.0\n",
       "187615      akjqrZN      1967-09-15        MASC  50.0\n",
       "148524      QNlW6DW      1997-02-20         FEM  21.0\n",
       "261910       1lGlvR             NaT  NO_DECLARA   NaN\n",
       "87633       JBerro3      1993-06-27         FEM  25.0\n",
       "92384       owElpaZ      1989-07-02         FEM  29.0"
      ]
     },
     "execution_count": 24,
     "metadata": {},
     "output_type": "execute_result"
    }
   ],
   "source": [
    "postulantes_ge.sample(15)"
   ]
  },
  {
   "cell_type": "markdown",
   "metadata": {},
   "source": [
    "#### Se convierte a booleano el sexo"
   ]
  },
  {
   "cell_type": "code",
   "execution_count": 25,
   "metadata": {},
   "outputs": [],
   "source": [
    "postulantes_ge['sexo'] = postulantes_ge['sexo'].replace({'FEM': 0, 'MASC': 1}).astype(bool)"
   ]
  },
  {
   "cell_type": "code",
   "execution_count": 26,
   "metadata": {},
   "outputs": [],
   "source": [
    " del postulantes_ge['fechanacimiento']"
   ]
  },
  {
   "cell_type": "code",
   "execution_count": 27,
   "metadata": {},
   "outputs": [
    {
     "data": {
      "text/html": [
       "<div>\n",
       "<style scoped>\n",
       "    .dataframe tbody tr th:only-of-type {\n",
       "        vertical-align: middle;\n",
       "    }\n",
       "\n",
       "    .dataframe tbody tr th {\n",
       "        vertical-align: top;\n",
       "    }\n",
       "\n",
       "    .dataframe thead th {\n",
       "        text-align: right;\n",
       "    }\n",
       "</style>\n",
       "<table border=\"1\" class=\"dataframe\">\n",
       "  <thead>\n",
       "    <tr style=\"text-align: right;\">\n",
       "      <th></th>\n",
       "      <th>idpostulante</th>\n",
       "      <th>sexo</th>\n",
       "      <th>edad</th>\n",
       "    </tr>\n",
       "  </thead>\n",
       "  <tbody>\n",
       "    <tr>\n",
       "      <th>18050</th>\n",
       "      <td>N0lmwJ</td>\n",
       "      <td>False</td>\n",
       "      <td>32.0</td>\n",
       "    </tr>\n",
       "    <tr>\n",
       "      <th>96661</th>\n",
       "      <td>6rP6W1O</td>\n",
       "      <td>False</td>\n",
       "      <td>33.0</td>\n",
       "    </tr>\n",
       "    <tr>\n",
       "      <th>213383</th>\n",
       "      <td>ZDrmdQ8</td>\n",
       "      <td>True</td>\n",
       "      <td>21.0</td>\n",
       "    </tr>\n",
       "    <tr>\n",
       "      <th>104073</th>\n",
       "      <td>xk9Y1qK</td>\n",
       "      <td>False</td>\n",
       "      <td>53.0</td>\n",
       "    </tr>\n",
       "    <tr>\n",
       "      <th>57243</th>\n",
       "      <td>zv8NooD</td>\n",
       "      <td>False</td>\n",
       "      <td>30.0</td>\n",
       "    </tr>\n",
       "    <tr>\n",
       "      <th>219769</th>\n",
       "      <td>PmV994b</td>\n",
       "      <td>False</td>\n",
       "      <td>29.0</td>\n",
       "    </tr>\n",
       "    <tr>\n",
       "      <th>38001</th>\n",
       "      <td>bOZpXbE</td>\n",
       "      <td>False</td>\n",
       "      <td>38.0</td>\n",
       "    </tr>\n",
       "    <tr>\n",
       "      <th>129002</th>\n",
       "      <td>W9kkG9m</td>\n",
       "      <td>True</td>\n",
       "      <td>27.0</td>\n",
       "    </tr>\n",
       "    <tr>\n",
       "      <th>181472</th>\n",
       "      <td>GNZRNx9</td>\n",
       "      <td>True</td>\n",
       "      <td>47.0</td>\n",
       "    </tr>\n",
       "    <tr>\n",
       "      <th>153637</th>\n",
       "      <td>kPjNwda</td>\n",
       "      <td>True</td>\n",
       "      <td>23.0</td>\n",
       "    </tr>\n",
       "  </tbody>\n",
       "</table>\n",
       "</div>"
      ],
      "text/plain": [
       "       idpostulante   sexo  edad\n",
       "18050        N0lmwJ  False  32.0\n",
       "96661       6rP6W1O  False  33.0\n",
       "213383      ZDrmdQ8   True  21.0\n",
       "104073      xk9Y1qK  False  53.0\n",
       "57243       zv8NooD  False  30.0\n",
       "219769      PmV994b  False  29.0\n",
       "38001       bOZpXbE  False  38.0\n",
       "129002      W9kkG9m   True  27.0\n",
       "181472      GNZRNx9   True  47.0\n",
       "153637      kPjNwda   True  23.0"
      ]
     },
     "execution_count": 27,
     "metadata": {},
     "output_type": "execute_result"
    }
   ],
   "source": [
    "postulantes_ge.sample(10)"
   ]
  },
  {
   "cell_type": "markdown",
   "metadata": {},
   "source": [
    "### Realizco el merge de los dos DF de postulantes"
   ]
  },
  {
   "cell_type": "code",
   "execution_count": 28,
   "metadata": {},
   "outputs": [],
   "source": [
    "postulantes = pd.merge(postulantes, postulantes_ge, how='left', on='idpostulante')"
   ]
  },
  {
   "cell_type": "code",
   "execution_count": 29,
   "metadata": {},
   "outputs": [
    {
     "data": {
      "text/html": [
       "<div>\n",
       "<style scoped>\n",
       "    .dataframe tbody tr th:only-of-type {\n",
       "        vertical-align: middle;\n",
       "    }\n",
       "\n",
       "    .dataframe tbody tr th {\n",
       "        vertical-align: top;\n",
       "    }\n",
       "\n",
       "    .dataframe thead th {\n",
       "        text-align: right;\n",
       "    }\n",
       "</style>\n",
       "<table border=\"1\" class=\"dataframe\">\n",
       "  <thead>\n",
       "    <tr style=\"text-align: right;\">\n",
       "      <th></th>\n",
       "      <th>idpostulante</th>\n",
       "      <th>educacion</th>\n",
       "      <th>sexo</th>\n",
       "      <th>edad</th>\n",
       "    </tr>\n",
       "  </thead>\n",
       "  <tbody>\n",
       "    <tr>\n",
       "      <th>4030</th>\n",
       "      <td>zvPXaPJ</td>\n",
       "      <td>2</td>\n",
       "      <td>False</td>\n",
       "      <td>23.0</td>\n",
       "    </tr>\n",
       "    <tr>\n",
       "      <th>71952</th>\n",
       "      <td>mzb3rQ6</td>\n",
       "      <td>2</td>\n",
       "      <td>False</td>\n",
       "      <td>26.0</td>\n",
       "    </tr>\n",
       "    <tr>\n",
       "      <th>140971</th>\n",
       "      <td>ak50Vr9</td>\n",
       "      <td>6</td>\n",
       "      <td>True</td>\n",
       "      <td>36.0</td>\n",
       "    </tr>\n",
       "    <tr>\n",
       "      <th>412205</th>\n",
       "      <td>3NL4zDJ</td>\n",
       "      <td>11</td>\n",
       "      <td>False</td>\n",
       "      <td>28.0</td>\n",
       "    </tr>\n",
       "    <tr>\n",
       "      <th>76930</th>\n",
       "      <td>lDXQdr3</td>\n",
       "      <td>11</td>\n",
       "      <td>False</td>\n",
       "      <td>23.0</td>\n",
       "    </tr>\n",
       "    <tr>\n",
       "      <th>415020</th>\n",
       "      <td>2zmj2G0</td>\n",
       "      <td>11</td>\n",
       "      <td>False</td>\n",
       "      <td>29.0</td>\n",
       "    </tr>\n",
       "    <tr>\n",
       "      <th>75607</th>\n",
       "      <td>lDw4a5G</td>\n",
       "      <td>10</td>\n",
       "      <td>False</td>\n",
       "      <td>23.0</td>\n",
       "    </tr>\n",
       "    <tr>\n",
       "      <th>44285</th>\n",
       "      <td>qevAwaN</td>\n",
       "      <td>5</td>\n",
       "      <td>True</td>\n",
       "      <td>33.0</td>\n",
       "    </tr>\n",
       "    <tr>\n",
       "      <th>361247</th>\n",
       "      <td>8A1p1j</td>\n",
       "      <td>10</td>\n",
       "      <td>False</td>\n",
       "      <td>28.0</td>\n",
       "    </tr>\n",
       "    <tr>\n",
       "      <th>5223</th>\n",
       "      <td>zv8WoBk</td>\n",
       "      <td>10</td>\n",
       "      <td>True</td>\n",
       "      <td>25.0</td>\n",
       "    </tr>\n",
       "  </tbody>\n",
       "</table>\n",
       "</div>"
      ],
      "text/plain": [
       "       idpostulante  educacion   sexo  edad\n",
       "4030        zvPXaPJ          2  False  23.0\n",
       "71952       mzb3rQ6          2  False  26.0\n",
       "140971      ak50Vr9          6   True  36.0\n",
       "412205      3NL4zDJ         11  False  28.0\n",
       "76930       lDXQdr3         11  False  23.0\n",
       "415020      2zmj2G0         11  False  29.0\n",
       "75607       lDw4a5G         10  False  23.0\n",
       "44285       qevAwaN          5   True  33.0\n",
       "361247       8A1p1j         10  False  28.0\n",
       "5223        zv8WoBk         10   True  25.0"
      ]
     },
     "execution_count": 29,
     "metadata": {},
     "output_type": "execute_result"
    }
   ],
   "source": [
    "postulantes.sample(10)"
   ]
  },
  {
   "cell_type": "markdown",
   "metadata": {},
   "source": [
    "### Trabajo con los avisos"
   ]
  },
  {
   "cell_type": "code",
   "execution_count": 30,
   "metadata": {},
   "outputs": [
    {
     "name": "stdout",
     "output_type": "stream",
     "text": [
      "<class 'pandas.core.frame.DataFrame'>\n",
      "RangeIndex: 18299 entries, 0 to 18298\n",
      "Data columns (total 11 columns):\n",
      "idaviso                 18299 non-null int64\n",
      "idpais                  18299 non-null int64\n",
      "titulo                  18299 non-null object\n",
      "descripcion             18299 non-null object\n",
      "nombre_zona             18299 non-null object\n",
      "ciudad                  64 non-null object\n",
      "mapacalle               1282 non-null object\n",
      "tipo_de_trabajo         18299 non-null object\n",
      "nivel_laboral           18299 non-null object\n",
      "nombre_area             18299 non-null object\n",
      "denominacion_empresa    18293 non-null object\n",
      "dtypes: int64(2), object(9)\n",
      "memory usage: 1.5+ MB\n"
     ]
    }
   ],
   "source": [
    "avisos_detalle_h15a.info()"
   ]
  },
  {
   "cell_type": "code",
   "execution_count": 31,
   "metadata": {},
   "outputs": [
    {
     "name": "stdout",
     "output_type": "stream",
     "text": [
      "<class 'pandas.core.frame.DataFrame'>\n",
      "RangeIndex: 13798 entries, 0 to 13797\n",
      "Data columns (total 11 columns):\n",
      "idaviso                 13798 non-null int64\n",
      "idpais                  13798 non-null int64\n",
      "titulo                  13798 non-null object\n",
      "descripcion             13798 non-null object\n",
      "nombre_zona             13798 non-null object\n",
      "ciudad                  86 non-null object\n",
      "mapacalle               1019 non-null object\n",
      "tipo_de_trabajo         13798 non-null object\n",
      "nivel_laboral           13798 non-null object\n",
      "nombre_area             13798 non-null object\n",
      "denominacion_empresa    13795 non-null object\n",
      "dtypes: int64(2), object(9)\n",
      "memory usage: 1.2+ MB\n"
     ]
    }
   ],
   "source": [
    "avisos_detalle_d15a.info()"
   ]
  },
  {
   "cell_type": "code",
   "execution_count": 32,
   "metadata": {},
   "outputs": [
    {
     "name": "stdout",
     "output_type": "stream",
     "text": [
      "<class 'pandas.core.frame.DataFrame'>\n",
      "RangeIndex: 338 entries, 0 to 337\n",
      "Data columns (total 11 columns):\n",
      "idaviso                 338 non-null int64\n",
      "idpais                  338 non-null int64\n",
      "titulo                  338 non-null object\n",
      "descripcion             338 non-null object\n",
      "nombre_zona             338 non-null object\n",
      "ciudad                  28 non-null object\n",
      "mapacalle               271 non-null object\n",
      "tipo_de_trabajo         338 non-null object\n",
      "nivel_laboral           3 non-null object\n",
      "nombre_area             338 non-null object\n",
      "denominacion_empresa    338 non-null object\n",
      "dtypes: int64(2), object(9)\n",
      "memory usage: 29.1+ KB\n"
     ]
    }
   ],
   "source": [
    "avisos_detalle_missing.info()"
   ]
  },
  {
   "cell_type": "code",
   "execution_count": 33,
   "metadata": {},
   "outputs": [],
   "source": [
    "avisos = avisos_detalle.append([avisos_detalle_h15a, avisos_detalle_d15a, avisos_detalle_missing])"
   ]
  },
  {
   "cell_type": "code",
   "execution_count": 34,
   "metadata": {},
   "outputs": [],
   "source": [
    "avisos.drop_duplicates('idaviso', inplace=True)"
   ]
  },
  {
   "cell_type": "code",
   "execution_count": 35,
   "metadata": {},
   "outputs": [
    {
     "name": "stdout",
     "output_type": "stream",
     "text": [
      "<class 'pandas.core.frame.DataFrame'>\n",
      "Int64Index: 25288 entries, 0 to 337\n",
      "Data columns (total 11 columns):\n",
      "idaviso                 25288 non-null int64\n",
      "idpais                  25288 non-null int64\n",
      "titulo                  25288 non-null object\n",
      "descripcion             25288 non-null object\n",
      "nombre_zona             25288 non-null object\n",
      "ciudad                  160 non-null object\n",
      "mapacalle               2072 non-null object\n",
      "tipo_de_trabajo         25288 non-null object\n",
      "nivel_laboral           24953 non-null object\n",
      "nombre_area             25288 non-null object\n",
      "denominacion_empresa    25281 non-null object\n",
      "dtypes: int64(2), object(9)\n",
      "memory usage: 2.3+ MB\n"
     ]
    }
   ],
   "source": [
    "avisos.info()"
   ]
  },
  {
   "cell_type": "markdown",
   "metadata": {},
   "source": [
    "#### Se borran los features con poca informacion o poco relevante"
   ]
  },
  {
   "cell_type": "code",
   "execution_count": 36,
   "metadata": {},
   "outputs": [],
   "source": [
    "del avisos['idpais']"
   ]
  },
  {
   "cell_type": "code",
   "execution_count": 37,
   "metadata": {},
   "outputs": [],
   "source": [
    "del avisos['mapacalle']"
   ]
  },
  {
   "cell_type": "code",
   "execution_count": 38,
   "metadata": {},
   "outputs": [],
   "source": [
    "del avisos['ciudad']"
   ]
  },
  {
   "cell_type": "markdown",
   "metadata": {},
   "source": [
    "### Remuevo tags HTML en la descripciones"
   ]
  },
  {
   "cell_type": "code",
   "execution_count": 39,
   "metadata": {},
   "outputs": [],
   "source": [
    "avisos['descripcion'] = avisos['descripcion'].str.replace('<.*?>', ' ')"
   ]
  },
  {
   "cell_type": "code",
   "execution_count": 40,
   "metadata": {},
   "outputs": [],
   "source": [
    "avisos['descripcion'] = avisos['descripcion'].str.replace('&.*?;', ' ')"
   ]
  },
  {
   "cell_type": "code",
   "execution_count": 41,
   "metadata": {},
   "outputs": [],
   "source": [
    "avisos['descripcion'] = avisos['descripcion'].str.replace('\\r', ' ')"
   ]
  },
  {
   "cell_type": "code",
   "execution_count": 42,
   "metadata": {},
   "outputs": [],
   "source": [
    "avisos['descripcion'] = avisos['descripcion'].str.replace('\\n', ' ')"
   ]
  },
  {
   "cell_type": "code",
   "execution_count": 43,
   "metadata": {},
   "outputs": [
    {
     "data": {
      "text/html": [
       "<div>\n",
       "<style scoped>\n",
       "    .dataframe tbody tr th:only-of-type {\n",
       "        vertical-align: middle;\n",
       "    }\n",
       "\n",
       "    .dataframe tbody tr th {\n",
       "        vertical-align: top;\n",
       "    }\n",
       "\n",
       "    .dataframe thead th {\n",
       "        text-align: right;\n",
       "    }\n",
       "</style>\n",
       "<table border=\"1\" class=\"dataframe\">\n",
       "  <thead>\n",
       "    <tr style=\"text-align: right;\">\n",
       "      <th></th>\n",
       "      <th>idaviso</th>\n",
       "      <th>titulo</th>\n",
       "      <th>descripcion</th>\n",
       "      <th>nombre_zona</th>\n",
       "      <th>tipo_de_trabajo</th>\n",
       "      <th>nivel_laboral</th>\n",
       "      <th>nombre_area</th>\n",
       "      <th>denominacion_empresa</th>\n",
       "    </tr>\n",
       "  </thead>\n",
       "  <tbody>\n",
       "    <tr>\n",
       "      <th>3252</th>\n",
       "      <td>1112225463</td>\n",
       "      <td>Outsourcing Manager</td>\n",
       "      <td>For international TELCO company we are looki...</td>\n",
       "      <td>Gran Buenos Aires</td>\n",
       "      <td>Full-time</td>\n",
       "      <td>Senior / Semi-Senior</td>\n",
       "      <td>Telecomunicaciones</td>\n",
       "      <td>CERUTTI &amp; ASOCIADOS CONSULTING</td>\n",
       "    </tr>\n",
       "    <tr>\n",
       "      <th>4073</th>\n",
       "      <td>1112292689</td>\n",
       "      <td>Responsable Coordinación Logística</td>\n",
       "      <td>Para Importante Operadora Multinacional busca...</td>\n",
       "      <td>Gran Buenos Aires</td>\n",
       "      <td>Full-time</td>\n",
       "      <td>Jefe / Supervisor / Responsable</td>\n",
       "      <td>Logística</td>\n",
       "      <td>TALENT RECRUITERS</td>\n",
       "    </tr>\n",
       "    <tr>\n",
       "      <th>2031</th>\n",
       "      <td>1112345187</td>\n",
       "      <td>Jefe de Repuestos- Concesionaria</td>\n",
       "      <td>Nuestro c  liente, importante concesionaria ...</td>\n",
       "      <td>Gran Buenos Aires</td>\n",
       "      <td>Full-time</td>\n",
       "      <td>Senior / Semi-Senior</td>\n",
       "      <td>Ventas</td>\n",
       "      <td>RANDSTAD</td>\n",
       "    </tr>\n",
       "    <tr>\n",
       "      <th>4269</th>\n",
       "      <td>1112296360</td>\n",
       "      <td>Ingeniero Eléctrico</td>\n",
       "      <td>Importante Compañía Multinacional  Incorporar...</td>\n",
       "      <td>Gran Buenos Aires</td>\n",
       "      <td>Full-time</td>\n",
       "      <td>Senior / Semi-Senior</td>\n",
       "      <td>Mantenimiento</td>\n",
       "      <td>ARRIVE RRHH</td>\n",
       "    </tr>\n",
       "    <tr>\n",
       "      <th>9832</th>\n",
       "      <td>1112496759</td>\n",
       "      <td>05 May - C# (.NET ) Chief Software Architect (...</td>\n",
       "      <td>Al aplicar a la vacante será redirigido a la ...</td>\n",
       "      <td>Gran Buenos Aires</td>\n",
       "      <td>Teletrabajo</td>\n",
       "      <td>Senior / Semi-Senior</td>\n",
       "      <td>Tecnologia / Sistemas</td>\n",
       "      <td>CrossOver</td>\n",
       "    </tr>\n",
       "    <tr>\n",
       "      <th>10</th>\n",
       "      <td>1001724563</td>\n",
       "      <td>Paramédico</td>\n",
       "      <td>Nos encontramos en un proceso de selección pa...</td>\n",
       "      <td>Gran Buenos Aires</td>\n",
       "      <td>Full-time</td>\n",
       "      <td>Senior / Semi-Senior</td>\n",
       "      <td>Salud</td>\n",
       "      <td>Hochschild Mining</td>\n",
       "    </tr>\n",
       "    <tr>\n",
       "      <th>6426</th>\n",
       "      <td>1112467397</td>\n",
       "      <td>Director Creativo</td>\n",
       "      <td>CARESTINO INCORPORA:   DIRECTOR CREATIVO (ZO...</td>\n",
       "      <td>Gran Buenos Aires</td>\n",
       "      <td>Full-time</td>\n",
       "      <td>Jefe / Supervisor / Responsable</td>\n",
       "      <td>Diseño Multimedia</td>\n",
       "      <td>BIAMER SRL</td>\n",
       "    </tr>\n",
       "    <tr>\n",
       "      <th>13813</th>\n",
       "      <td>1112392476</td>\n",
       "      <td>CAJERO/A JR. SUC. SANTA FE</td>\n",
       "      <td>Orientamos nuestra búsqueda a estudiantes ava...</td>\n",
       "      <td>Gran Buenos Aires</td>\n",
       "      <td>Full-time</td>\n",
       "      <td>Junior</td>\n",
       "      <td>Tesorería</td>\n",
       "      <td>BBVA Francés</td>\n",
       "    </tr>\n",
       "    <tr>\n",
       "      <th>11398</th>\n",
       "      <td>1112203334</td>\n",
       "      <td>importante restaurant seleccionará camareros</td>\n",
       "      <td>Se requiere  - Muy buena presencia  - Muy bue...</td>\n",
       "      <td>Gran Buenos Aires</td>\n",
       "      <td>Full-time</td>\n",
       "      <td>Senior / Semi-Senior</td>\n",
       "      <td>Gastronomia</td>\n",
       "      <td>PIOLA</td>\n",
       "    </tr>\n",
       "    <tr>\n",
       "      <th>3300</th>\n",
       "      <td>1112226448</td>\n",
       "      <td>Analista de Planeamiento de Inventario ( Zona ...</td>\n",
       "      <td>En KaizenRH buscamos URGENTE  Analista de Pla...</td>\n",
       "      <td>Gran Buenos Aires</td>\n",
       "      <td>Full-time</td>\n",
       "      <td>Senior / Semi-Senior</td>\n",
       "      <td>Abastecimiento</td>\n",
       "      <td>Kaizen Recursos Humanos</td>\n",
       "    </tr>\n",
       "  </tbody>\n",
       "</table>\n",
       "</div>"
      ],
      "text/plain": [
       "          idaviso                                             titulo  \\\n",
       "3252   1112225463                                Outsourcing Manager   \n",
       "4073   1112292689                 Responsable Coordinación Logística   \n",
       "2031   1112345187                   Jefe de Repuestos- Concesionaria   \n",
       "4269   1112296360                               Ingeniero Eléctrico    \n",
       "9832   1112496759  05 May - C# (.NET ) Chief Software Architect (...   \n",
       "10     1001724563                                         Paramédico   \n",
       "6426   1112467397                                  Director Creativo   \n",
       "13813  1112392476                         CAJERO/A JR. SUC. SANTA FE   \n",
       "11398  1112203334       importante restaurant seleccionará camareros   \n",
       "3300   1112226448  Analista de Planeamiento de Inventario ( Zona ...   \n",
       "\n",
       "                                             descripcion        nombre_zona  \\\n",
       "3252     For international TELCO company we are looki...  Gran Buenos Aires   \n",
       "4073    Para Importante Operadora Multinacional busca...  Gran Buenos Aires   \n",
       "2031     Nuestro c  liente, importante concesionaria ...  Gran Buenos Aires   \n",
       "4269    Importante Compañía Multinacional  Incorporar...  Gran Buenos Aires   \n",
       "9832    Al aplicar a la vacante será redirigido a la ...  Gran Buenos Aires   \n",
       "10      Nos encontramos en un proceso de selección pa...  Gran Buenos Aires   \n",
       "6426     CARESTINO INCORPORA:   DIRECTOR CREATIVO (ZO...  Gran Buenos Aires   \n",
       "13813   Orientamos nuestra búsqueda a estudiantes ava...  Gran Buenos Aires   \n",
       "11398   Se requiere  - Muy buena presencia  - Muy bue...  Gran Buenos Aires   \n",
       "3300    En KaizenRH buscamos URGENTE  Analista de Pla...  Gran Buenos Aires   \n",
       "\n",
       "      tipo_de_trabajo                    nivel_laboral            nombre_area  \\\n",
       "3252        Full-time             Senior / Semi-Senior     Telecomunicaciones   \n",
       "4073        Full-time  Jefe / Supervisor / Responsable              Logística   \n",
       "2031        Full-time             Senior / Semi-Senior                 Ventas   \n",
       "4269        Full-time             Senior / Semi-Senior          Mantenimiento   \n",
       "9832      Teletrabajo             Senior / Semi-Senior  Tecnologia / Sistemas   \n",
       "10          Full-time             Senior / Semi-Senior                  Salud   \n",
       "6426        Full-time  Jefe / Supervisor / Responsable      Diseño Multimedia   \n",
       "13813       Full-time                           Junior              Tesorería   \n",
       "11398       Full-time             Senior / Semi-Senior            Gastronomia   \n",
       "3300        Full-time             Senior / Semi-Senior         Abastecimiento   \n",
       "\n",
       "                 denominacion_empresa  \n",
       "3252   CERUTTI & ASOCIADOS CONSULTING  \n",
       "4073                TALENT RECRUITERS  \n",
       "2031                         RANDSTAD  \n",
       "4269                     ARRIVE RRHH   \n",
       "9832                        CrossOver  \n",
       "10                  Hochschild Mining  \n",
       "6426                       BIAMER SRL  \n",
       "13813                    BBVA Francés  \n",
       "11398                           PIOLA  \n",
       "3300          Kaizen Recursos Humanos  "
      ]
     },
     "execution_count": 43,
     "metadata": {},
     "output_type": "execute_result"
    }
   ],
   "source": [
    "avisos.sample(10)"
   ]
  },
  {
   "cell_type": "markdown",
   "metadata": {},
   "source": [
    "### Trabajo con vistas"
   ]
  },
  {
   "cell_type": "code",
   "execution_count": 44,
   "metadata": {},
   "outputs": [
    {
     "name": "stdout",
     "output_type": "stream",
     "text": [
      "<class 'pandas.core.frame.DataFrame'>\n",
      "RangeIndex: 961897 entries, 0 to 961896\n",
      "Data columns (total 3 columns):\n",
      "idAviso         961897 non-null int64\n",
      "timestamp       961897 non-null object\n",
      "idpostulante    961897 non-null object\n",
      "dtypes: int64(1), object(2)\n",
      "memory usage: 22.0+ MB\n"
     ]
    }
   ],
   "source": [
    "vistas.info()"
   ]
  },
  {
   "cell_type": "code",
   "execution_count": 45,
   "metadata": {},
   "outputs": [
    {
     "name": "stdout",
     "output_type": "stream",
     "text": [
      "<class 'pandas.core.frame.DataFrame'>\n",
      "RangeIndex: 5758686 entries, 0 to 5758685\n",
      "Data columns (total 3 columns):\n",
      "idAviso         int64\n",
      "timestamp       object\n",
      "idpostulante    object\n",
      "dtypes: int64(1), object(2)\n",
      "memory usage: 131.8+ MB\n"
     ]
    }
   ],
   "source": [
    "vistas_h15a.info()"
   ]
  },
  {
   "cell_type": "code",
   "execution_count": 46,
   "metadata": {},
   "outputs": [],
   "source": [
    "#vistas_d15a.info() -- Se removio"
   ]
  },
  {
   "cell_type": "code",
   "execution_count": 47,
   "metadata": {},
   "outputs": [],
   "source": [
    "#vistas_d15a.sample(15)"
   ]
  },
  {
   "cell_type": "markdown",
   "metadata": {},
   "source": [
    "### Se unen los DF de vistas\n",
    "### se agrupan y cuentan las vistas por postulante/aviso, para saber cuantas veces fue visto el aviso por el postulante "
   ]
  },
  {
   "cell_type": "code",
   "execution_count": 48,
   "metadata": {},
   "outputs": [],
   "source": [
    "#vistas = vistas.append([vistas_h15a, vistas_d15a])\n",
    "#Se sacan las vistas despues del 15 de abril, porque no estan las postulaciones despues de esa fecha"
   ]
  },
  {
   "cell_type": "code",
   "execution_count": 49,
   "metadata": {},
   "outputs": [],
   "source": [
    "vistas = vistas.append([vistas_h15a])"
   ]
  },
  {
   "cell_type": "code",
   "execution_count": 50,
   "metadata": {},
   "outputs": [
    {
     "name": "stdout",
     "output_type": "stream",
     "text": [
      "<class 'pandas.core.frame.DataFrame'>\n",
      "Int64Index: 6720583 entries, 0 to 5758685\n",
      "Data columns (total 3 columns):\n",
      "idAviso         int64\n",
      "timestamp       object\n",
      "idpostulante    object\n",
      "dtypes: int64(1), object(2)\n",
      "memory usage: 205.1+ MB\n"
     ]
    }
   ],
   "source": [
    "vistas.info()"
   ]
  },
  {
   "cell_type": "code",
   "execution_count": 51,
   "metadata": {},
   "outputs": [],
   "source": [
    "cuenta_vistas = vistas.groupby(['idpostulante','idAviso'])['timestamp'].count().to_frame().reset_index()"
   ]
  },
  {
   "cell_type": "code",
   "execution_count": 52,
   "metadata": {},
   "outputs": [
    {
     "name": "stdout",
     "output_type": "stream",
     "text": [
      "<class 'pandas.core.frame.DataFrame'>\n",
      "RangeIndex: 3568761 entries, 0 to 3568760\n",
      "Data columns (total 3 columns):\n",
      "idpostulante    object\n",
      "idAviso         int64\n",
      "timestamp       int64\n",
      "dtypes: int64(2), object(1)\n",
      "memory usage: 81.7+ MB\n"
     ]
    }
   ],
   "source": [
    "cuenta_vistas.info()"
   ]
  },
  {
   "cell_type": "code",
   "execution_count": 53,
   "metadata": {},
   "outputs": [],
   "source": [
    "col_rename={'idAviso':'idaviso','timestamp':'vistas', }\n",
    "cuenta_vistas=cuenta_vistas.rename(columns=col_rename)"
   ]
  },
  {
   "cell_type": "code",
   "execution_count": 54,
   "metadata": {},
   "outputs": [
    {
     "data": {
      "text/html": [
       "<div>\n",
       "<style scoped>\n",
       "    .dataframe tbody tr th:only-of-type {\n",
       "        vertical-align: middle;\n",
       "    }\n",
       "\n",
       "    .dataframe tbody tr th {\n",
       "        vertical-align: top;\n",
       "    }\n",
       "\n",
       "    .dataframe thead th {\n",
       "        text-align: right;\n",
       "    }\n",
       "</style>\n",
       "<table border=\"1\" class=\"dataframe\">\n",
       "  <thead>\n",
       "    <tr style=\"text-align: right;\">\n",
       "      <th></th>\n",
       "      <th>idpostulante</th>\n",
       "      <th>idaviso</th>\n",
       "      <th>vistas</th>\n",
       "    </tr>\n",
       "  </thead>\n",
       "  <tbody>\n",
       "    <tr>\n",
       "      <th>1329761</th>\n",
       "      <td>JBe65PJ</td>\n",
       "      <td>1112416123</td>\n",
       "      <td>2</td>\n",
       "    </tr>\n",
       "    <tr>\n",
       "      <th>251306</th>\n",
       "      <td>2zm1e1V</td>\n",
       "      <td>1112411350</td>\n",
       "      <td>1</td>\n",
       "    </tr>\n",
       "    <tr>\n",
       "      <th>1379987</th>\n",
       "      <td>JBx11VO</td>\n",
       "      <td>1112457520</td>\n",
       "      <td>2</td>\n",
       "    </tr>\n",
       "    <tr>\n",
       "      <th>550520</th>\n",
       "      <td>6LdPkr</td>\n",
       "      <td>1112454807</td>\n",
       "      <td>2</td>\n",
       "    </tr>\n",
       "    <tr>\n",
       "      <th>2355348</th>\n",
       "      <td>ZZzJKZ</td>\n",
       "      <td>1112167719</td>\n",
       "      <td>1</td>\n",
       "    </tr>\n",
       "    <tr>\n",
       "      <th>953548</th>\n",
       "      <td>A3X0MeG</td>\n",
       "      <td>1112334791</td>\n",
       "      <td>1</td>\n",
       "    </tr>\n",
       "    <tr>\n",
       "      <th>2780041</th>\n",
       "      <td>eko9VBB</td>\n",
       "      <td>1112426585</td>\n",
       "      <td>1</td>\n",
       "    </tr>\n",
       "    <tr>\n",
       "      <th>1845588</th>\n",
       "      <td>QNLwRoN</td>\n",
       "      <td>1112320618</td>\n",
       "      <td>1</td>\n",
       "    </tr>\n",
       "    <tr>\n",
       "      <th>307360</th>\n",
       "      <td>3NdRNqa</td>\n",
       "      <td>1112390398</td>\n",
       "      <td>7</td>\n",
       "    </tr>\n",
       "    <tr>\n",
       "      <th>2142435</th>\n",
       "      <td>YBMKZX</td>\n",
       "      <td>1112441384</td>\n",
       "      <td>1</td>\n",
       "    </tr>\n",
       "    <tr>\n",
       "      <th>1298837</th>\n",
       "      <td>GNdwwqN</td>\n",
       "      <td>1112036398</td>\n",
       "      <td>1</td>\n",
       "    </tr>\n",
       "    <tr>\n",
       "      <th>2128475</th>\n",
       "      <td>Y5851V</td>\n",
       "      <td>1112432399</td>\n",
       "      <td>2</td>\n",
       "    </tr>\n",
       "    <tr>\n",
       "      <th>3240291</th>\n",
       "      <td>rm2A3Ad</td>\n",
       "      <td>1112360052</td>\n",
       "      <td>2</td>\n",
       "    </tr>\n",
       "    <tr>\n",
       "      <th>2639718</th>\n",
       "      <td>dYJeMWb</td>\n",
       "      <td>1112439298</td>\n",
       "      <td>1</td>\n",
       "    </tr>\n",
       "    <tr>\n",
       "      <th>1402707</th>\n",
       "      <td>KBaM66j</td>\n",
       "      <td>1112440594</td>\n",
       "      <td>1</td>\n",
       "    </tr>\n",
       "  </tbody>\n",
       "</table>\n",
       "</div>"
      ],
      "text/plain": [
       "        idpostulante     idaviso  vistas\n",
       "1329761      JBe65PJ  1112416123       2\n",
       "251306       2zm1e1V  1112411350       1\n",
       "1379987      JBx11VO  1112457520       2\n",
       "550520        6LdPkr  1112454807       2\n",
       "2355348       ZZzJKZ  1112167719       1\n",
       "953548       A3X0MeG  1112334791       1\n",
       "2780041      eko9VBB  1112426585       1\n",
       "1845588      QNLwRoN  1112320618       1\n",
       "307360       3NdRNqa  1112390398       7\n",
       "2142435       YBMKZX  1112441384       1\n",
       "1298837      GNdwwqN  1112036398       1\n",
       "2128475       Y5851V  1112432399       2\n",
       "3240291      rm2A3Ad  1112360052       2\n",
       "2639718      dYJeMWb  1112439298       1\n",
       "1402707      KBaM66j  1112440594       1"
      ]
     },
     "execution_count": 54,
     "metadata": {},
     "output_type": "execute_result"
    }
   ],
   "source": [
    "cuenta_vistas.sample(15)"
   ]
  },
  {
   "cell_type": "markdown",
   "metadata": {},
   "source": [
    "### Trabajo con postulaciones"
   ]
  },
  {
   "cell_type": "code",
   "execution_count": 55,
   "metadata": {},
   "outputs": [
    {
     "name": "stdout",
     "output_type": "stream",
     "text": [
      "<class 'pandas.core.frame.DataFrame'>\n",
      "RangeIndex: 3401623 entries, 0 to 3401622\n",
      "Data columns (total 3 columns):\n",
      "idaviso             int64\n",
      "idpostulante        object\n",
      "fechapostulacion    datetime64[ns]\n",
      "dtypes: datetime64[ns](1), int64(1), object(1)\n",
      "memory usage: 77.9+ MB\n"
     ]
    }
   ],
   "source": [
    "postulaciones.info()"
   ]
  },
  {
   "cell_type": "code",
   "execution_count": 56,
   "metadata": {},
   "outputs": [
    {
     "name": "stdout",
     "output_type": "stream",
     "text": [
      "<class 'pandas.core.frame.DataFrame'>\n",
      "RangeIndex: 4909641 entries, 0 to 4909640\n",
      "Data columns (total 3 columns):\n",
      "idaviso             int64\n",
      "idpostulante        object\n",
      "fechapostulacion    datetime64[ns]\n",
      "dtypes: datetime64[ns](1), int64(1), object(1)\n",
      "memory usage: 112.4+ MB\n"
     ]
    }
   ],
   "source": [
    "postulaciones_h15a.info()"
   ]
  },
  {
   "cell_type": "code",
   "execution_count": 57,
   "metadata": {},
   "outputs": [],
   "source": [
    "postulaciones = postulaciones.append([postulaciones_h15a])"
   ]
  },
  {
   "cell_type": "code",
   "execution_count": 58,
   "metadata": {},
   "outputs": [
    {
     "name": "stdout",
     "output_type": "stream",
     "text": [
      "<class 'pandas.core.frame.DataFrame'>\n",
      "Int64Index: 8311264 entries, 0 to 4909640\n",
      "Data columns (total 3 columns):\n",
      "idaviso             int64\n",
      "idpostulante        object\n",
      "fechapostulacion    datetime64[ns]\n",
      "dtypes: datetime64[ns](1), int64(1), object(1)\n",
      "memory usage: 253.6+ MB\n"
     ]
    }
   ],
   "source": [
    "postulaciones.info()"
   ]
  },
  {
   "cell_type": "code",
   "execution_count": 59,
   "metadata": {},
   "outputs": [],
   "source": [
    "postulaciones.drop_duplicates(['idaviso','idpostulante','fechapostulacion'], inplace=True)"
   ]
  },
  {
   "cell_type": "markdown",
   "metadata": {},
   "source": [
    "### Se unen los dataframes para formar el set de entrenamiento\n",
    "#### en este merge podemos tener info de la relacion entre vistas y postulaciones\n",
    "#### ademas formamos el dataframe final basandonos en las vistas de cada postulante. Con esto vamos a tener casos positivos (postulaciones concretadas) y casos negativos (fueron vistos los avisos, pero no hubo postulacion)\n",
    "#### con esto vamos a tener un universo de casos completos, sin necesidad de generar casos aleatorios para tener negativos"
   ]
  },
  {
   "cell_type": "code",
   "execution_count": 60,
   "metadata": {},
   "outputs": [],
   "source": [
    "trainingset = pd.merge(cuenta_vistas, postulaciones, how='left', on=['idaviso','idpostulante'])"
   ]
  },
  {
   "cell_type": "code",
   "execution_count": 61,
   "metadata": {},
   "outputs": [
    {
     "name": "stdout",
     "output_type": "stream",
     "text": [
      "<class 'pandas.core.frame.DataFrame'>\n",
      "Int64Index: 3569019 entries, 0 to 3569018\n",
      "Data columns (total 4 columns):\n",
      "idpostulante        object\n",
      "idaviso             int64\n",
      "vistas              int64\n",
      "fechapostulacion    datetime64[ns]\n",
      "dtypes: datetime64[ns](1), int64(2), object(1)\n",
      "memory usage: 136.1+ MB\n"
     ]
    }
   ],
   "source": [
    "trainingset.info()"
   ]
  },
  {
   "cell_type": "code",
   "execution_count": 62,
   "metadata": {},
   "outputs": [],
   "source": [
    "trainingset.loc[trainingset.fechapostulacion.notnull(), 'postulo']=1"
   ]
  },
  {
   "cell_type": "code",
   "execution_count": 63,
   "metadata": {},
   "outputs": [],
   "source": [
    "trainingset.loc[trainingset.fechapostulacion.isnull(), 'postulo']=0"
   ]
  },
  {
   "cell_type": "code",
   "execution_count": 64,
   "metadata": {},
   "outputs": [],
   "source": [
    " del trainingset['fechapostulacion']"
   ]
  },
  {
   "cell_type": "code",
   "execution_count": 65,
   "metadata": {},
   "outputs": [
    {
     "data": {
      "text/plain": [
       "idpostulante    1698904\n",
       "idaviso         1698904\n",
       "vistas          1698904\n",
       "postulo         1698904\n",
       "dtype: int64"
      ]
     },
     "execution_count": 65,
     "metadata": {},
     "output_type": "execute_result"
    }
   ],
   "source": [
    "trainingset[trainingset.postulo==1].count()"
   ]
  },
  {
   "cell_type": "code",
   "execution_count": 66,
   "metadata": {},
   "outputs": [
    {
     "data": {
      "text/plain": [
       "idpostulante    1870115\n",
       "idaviso         1870115\n",
       "vistas          1870115\n",
       "postulo         1870115\n",
       "dtype: int64"
      ]
     },
     "execution_count": 66,
     "metadata": {},
     "output_type": "execute_result"
    }
   ],
   "source": [
    "trainingset[trainingset.postulo==0].count()"
   ]
  },
  {
   "cell_type": "markdown",
   "metadata": {},
   "source": [
    "### Se agrega el dataframe de postulantes"
   ]
  },
  {
   "cell_type": "code",
   "execution_count": 67,
   "metadata": {},
   "outputs": [],
   "source": [
    "trainingset = pd.merge(trainingset, postulantes, how='left', on='idpostulante')"
   ]
  },
  {
   "cell_type": "code",
   "execution_count": 68,
   "metadata": {},
   "outputs": [
    {
     "data": {
      "text/plain": [
       "idpostulante    3403723\n",
       "idaviso         3403723\n",
       "vistas          3403723\n",
       "postulo         3403723\n",
       "educacion       3403723\n",
       "sexo            3403723\n",
       "edad            3348140\n",
       "dtype: int64"
      ]
     },
     "execution_count": 68,
     "metadata": {},
     "output_type": "execute_result"
    }
   ],
   "source": [
    "trainingset[trainingset.educacion.notnull()].count() "
   ]
  },
  {
   "cell_type": "code",
   "execution_count": 69,
   "metadata": {},
   "outputs": [
    {
     "data": {
      "text/plain": [
       "idpostulante    165296\n",
       "idaviso         165296\n",
       "vistas          165296\n",
       "postulo         165296\n",
       "educacion            0\n",
       "sexo                 0\n",
       "edad                 0\n",
       "dtype: int64"
      ]
     },
     "execution_count": 69,
     "metadata": {},
     "output_type": "execute_result"
    }
   ],
   "source": [
    "trainingset[trainingset.educacion.isnull()].count()"
   ]
  },
  {
   "cell_type": "markdown",
   "metadata": {},
   "source": [
    "#### Relleno las edades nulas con el valor promedio de edad"
   ]
  },
  {
   "cell_type": "code",
   "execution_count": 70,
   "metadata": {},
   "outputs": [],
   "source": [
    "trainingset.loc[trainingset.edad.isnull(), 'edad'] =np.round(trainingset[trainingset.edad.notnull()].edad.mean(), decimals=2 )"
   ]
  },
  {
   "cell_type": "markdown",
   "metadata": {},
   "source": [
    "#### Se rellena la educacion nula con educacion promedio"
   ]
  },
  {
   "cell_type": "code",
   "execution_count": 71,
   "metadata": {},
   "outputs": [],
   "source": [
    "#np.round(trainingset[trainingset.educacion.notnull()].educacion.mean(), decimals=2 )"
   ]
  },
  {
   "cell_type": "code",
   "execution_count": 72,
   "metadata": {},
   "outputs": [],
   "source": [
    "#trainingset.loc[trainingset.educacion.isnull(), 'educacion'] = 8"
   ]
  },
  {
   "cell_type": "markdown",
   "metadata": {},
   "source": [
    "#### Se rellena el sexo como indefinido"
   ]
  },
  {
   "cell_type": "code",
   "execution_count": 73,
   "metadata": {},
   "outputs": [],
   "source": [
    "#trainingset['sexo'].interpolate(method='linear')"
   ]
  },
  {
   "cell_type": "markdown",
   "metadata": {},
   "source": [
    "#### Elimino las vistas de postulantes que no existen"
   ]
  },
  {
   "cell_type": "code",
   "execution_count": 74,
   "metadata": {},
   "outputs": [],
   "source": [
    "trainingset = trainingset[trainingset.educacion.notnull() ]"
   ]
  },
  {
   "cell_type": "code",
   "execution_count": 75,
   "metadata": {},
   "outputs": [
    {
     "data": {
      "text/html": [
       "<div>\n",
       "<style scoped>\n",
       "    .dataframe tbody tr th:only-of-type {\n",
       "        vertical-align: middle;\n",
       "    }\n",
       "\n",
       "    .dataframe tbody tr th {\n",
       "        vertical-align: top;\n",
       "    }\n",
       "\n",
       "    .dataframe thead th {\n",
       "        text-align: right;\n",
       "    }\n",
       "</style>\n",
       "<table border=\"1\" class=\"dataframe\">\n",
       "  <thead>\n",
       "    <tr style=\"text-align: right;\">\n",
       "      <th></th>\n",
       "      <th>idpostulante</th>\n",
       "      <th>idaviso</th>\n",
       "      <th>vistas</th>\n",
       "      <th>postulo</th>\n",
       "      <th>educacion</th>\n",
       "      <th>sexo</th>\n",
       "      <th>edad</th>\n",
       "    </tr>\n",
       "  </thead>\n",
       "  <tbody>\n",
       "    <tr>\n",
       "      <th>1939443</th>\n",
       "      <td>RzrY83E</td>\n",
       "      <td>1112390566</td>\n",
       "      <td>1</td>\n",
       "      <td>1.0</td>\n",
       "      <td>11.0</td>\n",
       "      <td>False</td>\n",
       "      <td>34.00</td>\n",
       "    </tr>\n",
       "    <tr>\n",
       "      <th>1173957</th>\n",
       "      <td>EzEVeGo</td>\n",
       "      <td>1112369030</td>\n",
       "      <td>1</td>\n",
       "      <td>0.0</td>\n",
       "      <td>8.0</td>\n",
       "      <td>True</td>\n",
       "      <td>29.00</td>\n",
       "    </tr>\n",
       "    <tr>\n",
       "      <th>2512831</th>\n",
       "      <td>akjzXv0</td>\n",
       "      <td>1112413716</td>\n",
       "      <td>1</td>\n",
       "      <td>0.0</td>\n",
       "      <td>8.0</td>\n",
       "      <td>True</td>\n",
       "      <td>24.00</td>\n",
       "    </tr>\n",
       "    <tr>\n",
       "      <th>3157659</th>\n",
       "      <td>pzdr54Z</td>\n",
       "      <td>1112410056</td>\n",
       "      <td>2</td>\n",
       "      <td>1.0</td>\n",
       "      <td>11.0</td>\n",
       "      <td>True</td>\n",
       "      <td>23.00</td>\n",
       "    </tr>\n",
       "    <tr>\n",
       "      <th>3348863</th>\n",
       "      <td>vVjbEMe</td>\n",
       "      <td>1112448287</td>\n",
       "      <td>1</td>\n",
       "      <td>0.0</td>\n",
       "      <td>10.0</td>\n",
       "      <td>True</td>\n",
       "      <td>29.37</td>\n",
       "    </tr>\n",
       "    <tr>\n",
       "      <th>715813</th>\n",
       "      <td>8MB34Jl</td>\n",
       "      <td>1112424076</td>\n",
       "      <td>2</td>\n",
       "      <td>1.0</td>\n",
       "      <td>2.0</td>\n",
       "      <td>True</td>\n",
       "      <td>26.00</td>\n",
       "    </tr>\n",
       "    <tr>\n",
       "      <th>617918</th>\n",
       "      <td>6rP3PGx</td>\n",
       "      <td>1112424876</td>\n",
       "      <td>1</td>\n",
       "      <td>0.0</td>\n",
       "      <td>10.0</td>\n",
       "      <td>False</td>\n",
       "      <td>19.00</td>\n",
       "    </tr>\n",
       "    <tr>\n",
       "      <th>583183</th>\n",
       "      <td>6r2Bapj</td>\n",
       "      <td>1112366936</td>\n",
       "      <td>1</td>\n",
       "      <td>0.0</td>\n",
       "      <td>10.0</td>\n",
       "      <td>True</td>\n",
       "      <td>27.00</td>\n",
       "    </tr>\n",
       "    <tr>\n",
       "      <th>2568894</th>\n",
       "      <td>bOVr3G9</td>\n",
       "      <td>1112334788</td>\n",
       "      <td>1</td>\n",
       "      <td>1.0</td>\n",
       "      <td>2.0</td>\n",
       "      <td>False</td>\n",
       "      <td>23.00</td>\n",
       "    </tr>\n",
       "    <tr>\n",
       "      <th>3225757</th>\n",
       "      <td>qew8m2x</td>\n",
       "      <td>1112366747</td>\n",
       "      <td>2</td>\n",
       "      <td>0.0</td>\n",
       "      <td>4.0</td>\n",
       "      <td>True</td>\n",
       "      <td>26.00</td>\n",
       "    </tr>\n",
       "    <tr>\n",
       "      <th>1538877</th>\n",
       "      <td>MVd29Qe</td>\n",
       "      <td>1112423698</td>\n",
       "      <td>2</td>\n",
       "      <td>1.0</td>\n",
       "      <td>2.0</td>\n",
       "      <td>True</td>\n",
       "      <td>32.00</td>\n",
       "    </tr>\n",
       "    <tr>\n",
       "      <th>3267157</th>\n",
       "      <td>rmdX68x</td>\n",
       "      <td>1112430622</td>\n",
       "      <td>2</td>\n",
       "      <td>0.0</td>\n",
       "      <td>2.0</td>\n",
       "      <td>True</td>\n",
       "      <td>28.00</td>\n",
       "    </tr>\n",
       "    <tr>\n",
       "      <th>2769373</th>\n",
       "      <td>ekOwNDB</td>\n",
       "      <td>1112315654</td>\n",
       "      <td>1</td>\n",
       "      <td>0.0</td>\n",
       "      <td>10.0</td>\n",
       "      <td>False</td>\n",
       "      <td>21.00</td>\n",
       "    </tr>\n",
       "    <tr>\n",
       "      <th>3301856</th>\n",
       "      <td>vV9BPBx</td>\n",
       "      <td>1112280891</td>\n",
       "      <td>1</td>\n",
       "      <td>1.0</td>\n",
       "      <td>8.0</td>\n",
       "      <td>True</td>\n",
       "      <td>22.00</td>\n",
       "    </tr>\n",
       "    <tr>\n",
       "      <th>3022791</th>\n",
       "      <td>mzdmGQ3</td>\n",
       "      <td>1111970596</td>\n",
       "      <td>1</td>\n",
       "      <td>1.0</td>\n",
       "      <td>10.0</td>\n",
       "      <td>False</td>\n",
       "      <td>24.00</td>\n",
       "    </tr>\n",
       "    <tr>\n",
       "      <th>3476407</th>\n",
       "      <td>xkdNaXj</td>\n",
       "      <td>1112409128</td>\n",
       "      <td>3</td>\n",
       "      <td>1.0</td>\n",
       "      <td>7.0</td>\n",
       "      <td>False</td>\n",
       "      <td>40.00</td>\n",
       "    </tr>\n",
       "    <tr>\n",
       "      <th>1226181</th>\n",
       "      <td>EzepKK6</td>\n",
       "      <td>1112335409</td>\n",
       "      <td>1</td>\n",
       "      <td>1.0</td>\n",
       "      <td>6.0</td>\n",
       "      <td>False</td>\n",
       "      <td>25.00</td>\n",
       "    </tr>\n",
       "    <tr>\n",
       "      <th>21088</th>\n",
       "      <td>0zP2zoY</td>\n",
       "      <td>1112467026</td>\n",
       "      <td>4</td>\n",
       "      <td>1.0</td>\n",
       "      <td>2.0</td>\n",
       "      <td>False</td>\n",
       "      <td>23.00</td>\n",
       "    </tr>\n",
       "    <tr>\n",
       "      <th>1302883</th>\n",
       "      <td>GNoL6av</td>\n",
       "      <td>1112456733</td>\n",
       "      <td>1</td>\n",
       "      <td>1.0</td>\n",
       "      <td>11.0</td>\n",
       "      <td>True</td>\n",
       "      <td>28.00</td>\n",
       "    </tr>\n",
       "    <tr>\n",
       "      <th>2546215</th>\n",
       "      <td>bOJ3xvb</td>\n",
       "      <td>1112417488</td>\n",
       "      <td>2</td>\n",
       "      <td>0.0</td>\n",
       "      <td>2.0</td>\n",
       "      <td>False</td>\n",
       "      <td>25.00</td>\n",
       "    </tr>\n",
       "  </tbody>\n",
       "</table>\n",
       "</div>"
      ],
      "text/plain": [
       "        idpostulante     idaviso  vistas  postulo  educacion   sexo   edad\n",
       "1939443      RzrY83E  1112390566       1      1.0       11.0  False  34.00\n",
       "1173957      EzEVeGo  1112369030       1      0.0        8.0   True  29.00\n",
       "2512831      akjzXv0  1112413716       1      0.0        8.0   True  24.00\n",
       "3157659      pzdr54Z  1112410056       2      1.0       11.0   True  23.00\n",
       "3348863      vVjbEMe  1112448287       1      0.0       10.0   True  29.37\n",
       "715813       8MB34Jl  1112424076       2      1.0        2.0   True  26.00\n",
       "617918       6rP3PGx  1112424876       1      0.0       10.0  False  19.00\n",
       "583183       6r2Bapj  1112366936       1      0.0       10.0   True  27.00\n",
       "2568894      bOVr3G9  1112334788       1      1.0        2.0  False  23.00\n",
       "3225757      qew8m2x  1112366747       2      0.0        4.0   True  26.00\n",
       "1538877      MVd29Qe  1112423698       2      1.0        2.0   True  32.00\n",
       "3267157      rmdX68x  1112430622       2      0.0        2.0   True  28.00\n",
       "2769373      ekOwNDB  1112315654       1      0.0       10.0  False  21.00\n",
       "3301856      vV9BPBx  1112280891       1      1.0        8.0   True  22.00\n",
       "3022791      mzdmGQ3  1111970596       1      1.0       10.0  False  24.00\n",
       "3476407      xkdNaXj  1112409128       3      1.0        7.0  False  40.00\n",
       "1226181      EzepKK6  1112335409       1      1.0        6.0  False  25.00\n",
       "21088        0zP2zoY  1112467026       4      1.0        2.0  False  23.00\n",
       "1302883      GNoL6av  1112456733       1      1.0       11.0   True  28.00\n",
       "2546215      bOJ3xvb  1112417488       2      0.0        2.0  False  25.00"
      ]
     },
     "execution_count": 75,
     "metadata": {},
     "output_type": "execute_result"
    }
   ],
   "source": [
    "trainingset.sample(20)"
   ]
  },
  {
   "cell_type": "markdown",
   "metadata": {},
   "source": [
    "#### compruebo estudios y sexo nulo"
   ]
  },
  {
   "cell_type": "code",
   "execution_count": 76,
   "metadata": {},
   "outputs": [
    {
     "data": {
      "text/plain": [
       "idpostulante    0\n",
       "idaviso         0\n",
       "vistas          0\n",
       "postulo         0\n",
       "educacion       0\n",
       "sexo            0\n",
       "edad            0\n",
       "dtype: int64"
      ]
     },
     "execution_count": 76,
     "metadata": {},
     "output_type": "execute_result"
    }
   ],
   "source": [
    "trainingset[trainingset['sexo'].isnull()].count()"
   ]
  },
  {
   "cell_type": "markdown",
   "metadata": {},
   "source": [
    "### Agrego el dataframe de avisos"
   ]
  },
  {
   "cell_type": "code",
   "execution_count": 77,
   "metadata": {},
   "outputs": [],
   "source": [
    "trainingset = pd.merge(trainingset, avisos, how='left', on='idaviso')"
   ]
  },
  {
   "cell_type": "code",
   "execution_count": 78,
   "metadata": {},
   "outputs": [
    {
     "name": "stdout",
     "output_type": "stream",
     "text": [
      "<class 'pandas.core.frame.DataFrame'>\n",
      "Int64Index: 3403723 entries, 0 to 3403722\n",
      "Data columns (total 14 columns):\n",
      "idpostulante            object\n",
      "idaviso                 int64\n",
      "vistas                  int64\n",
      "postulo                 float64\n",
      "educacion               float64\n",
      "sexo                    object\n",
      "edad                    float64\n",
      "titulo                  object\n",
      "descripcion             object\n",
      "nombre_zona             object\n",
      "tipo_de_trabajo         object\n",
      "nivel_laboral           object\n",
      "nombre_area             object\n",
      "denominacion_empresa    object\n",
      "dtypes: float64(3), int64(2), object(9)\n",
      "memory usage: 389.5+ MB\n"
     ]
    }
   ],
   "source": [
    "trainingset.info()"
   ]
  },
  {
   "cell_type": "markdown",
   "metadata": {},
   "source": [
    "####  Se cuentan los casos con toda la info completa y postulaciones positivas  o negativas"
   ]
  },
  {
   "cell_type": "code",
   "execution_count": 79,
   "metadata": {},
   "outputs": [
    {
     "data": {
      "text/plain": [
       "idpostulante            1630551\n",
       "idaviso                 1630551\n",
       "vistas                  1630551\n",
       "postulo                 1630551\n",
       "educacion               1630551\n",
       "sexo                    1630551\n",
       "edad                    1630551\n",
       "titulo                  1630551\n",
       "descripcion             1630551\n",
       "nombre_zona             1630551\n",
       "tipo_de_trabajo         1630551\n",
       "nivel_laboral           1630551\n",
       "nombre_area             1630551\n",
       "denominacion_empresa    1630529\n",
       "dtype: int64"
      ]
     },
     "execution_count": 79,
     "metadata": {},
     "output_type": "execute_result"
    }
   ],
   "source": [
    "trainingset[trainingset['titulo'].notnull() & trainingset['educacion'].notnull() & trainingset['postulo']==1].count()"
   ]
  },
  {
   "cell_type": "code",
   "execution_count": 80,
   "metadata": {},
   "outputs": [
    {
     "data": {
      "text/plain": [
       "idpostulante            1773172\n",
       "idaviso                 1773172\n",
       "vistas                  1773172\n",
       "postulo                 1773172\n",
       "educacion               1773172\n",
       "sexo                    1773172\n",
       "edad                    1773172\n",
       "titulo                  1773172\n",
       "descripcion             1773172\n",
       "nombre_zona             1773172\n",
       "tipo_de_trabajo         1773172\n",
       "nivel_laboral           1773172\n",
       "nombre_area             1773172\n",
       "denominacion_empresa    1772995\n",
       "dtype: int64"
      ]
     },
     "execution_count": 80,
     "metadata": {},
     "output_type": "execute_result"
    }
   ],
   "source": [
    "trainingset[trainingset['titulo'].notnull() & (trainingset['educacion'].notnull()) & (trainingset['postulo']==0)].count()"
   ]
  },
  {
   "cell_type": "markdown",
   "metadata": {},
   "source": [
    "### Finalmente tenemos un dataset de casos con postulaciones positivas y negativas, formados en base a las vistas de los postulantes. \n",
    "#### Se listan anvisos que tienen todos los features completos - son casi 3,5 millones."
   ]
  },
  {
   "cell_type": "code",
   "execution_count": 81,
   "metadata": {},
   "outputs": [
    {
     "name": "stdout",
     "output_type": "stream",
     "text": [
      "<class 'pandas.core.frame.DataFrame'>\n",
      "Int64Index: 3403723 entries, 0 to 3403722\n",
      "Data columns (total 14 columns):\n",
      "idpostulante            object\n",
      "idaviso                 int64\n",
      "vistas                  int64\n",
      "postulo                 float64\n",
      "educacion               float64\n",
      "sexo                    object\n",
      "edad                    float64\n",
      "titulo                  object\n",
      "descripcion             object\n",
      "nombre_zona             object\n",
      "tipo_de_trabajo         object\n",
      "nivel_laboral           object\n",
      "nombre_area             object\n",
      "denominacion_empresa    object\n",
      "dtypes: float64(3), int64(2), object(9)\n",
      "memory usage: 389.5+ MB\n"
     ]
    }
   ],
   "source": [
    "trainingset.info()"
   ]
  },
  {
   "cell_type": "code",
   "execution_count": 82,
   "metadata": {},
   "outputs": [
    {
     "data": {
      "text/plain": [
       "(3403723, 14)"
      ]
     },
     "execution_count": 82,
     "metadata": {},
     "output_type": "execute_result"
    }
   ],
   "source": [
    "trainingset.shape"
   ]
  },
  {
   "cell_type": "markdown",
   "metadata": {},
   "source": [
    "### Se guarda el dataset Base "
   ]
  },
  {
   "cell_type": "code",
   "execution_count": 83,
   "metadata": {},
   "outputs": [],
   "source": [
    "trainingset.to_pickle('full_trainingset')"
   ]
  },
  {
   "cell_type": "markdown",
   "metadata": {},
   "source": [
    "#### Se pasan las categorias a one hot encoding"
   ]
  },
  {
   "cell_type": "code",
   "execution_count": 84,
   "metadata": {},
   "outputs": [],
   "source": [
    "categorias = trainingset.select_dtypes(include=['object']).copy()"
   ]
  },
  {
   "cell_type": "code",
   "execution_count": 85,
   "metadata": {},
   "outputs": [
    {
     "data": {
      "text/html": [
       "<div>\n",
       "<style scoped>\n",
       "    .dataframe tbody tr th:only-of-type {\n",
       "        vertical-align: middle;\n",
       "    }\n",
       "\n",
       "    .dataframe tbody tr th {\n",
       "        vertical-align: top;\n",
       "    }\n",
       "\n",
       "    .dataframe thead th {\n",
       "        text-align: right;\n",
       "    }\n",
       "</style>\n",
       "<table border=\"1\" class=\"dataframe\">\n",
       "  <thead>\n",
       "    <tr style=\"text-align: right;\">\n",
       "      <th></th>\n",
       "      <th>idpostulante</th>\n",
       "      <th>sexo</th>\n",
       "      <th>titulo</th>\n",
       "      <th>descripcion</th>\n",
       "      <th>nombre_zona</th>\n",
       "      <th>tipo_de_trabajo</th>\n",
       "      <th>nivel_laboral</th>\n",
       "      <th>nombre_area</th>\n",
       "      <th>denominacion_empresa</th>\n",
       "    </tr>\n",
       "  </thead>\n",
       "  <tbody>\n",
       "    <tr>\n",
       "      <th>1340906</th>\n",
       "      <td>KBalo6A</td>\n",
       "      <td>False</td>\n",
       "      <td>Representantes telefónicos para venta de asist...</td>\n",
       "      <td>Nuestro call center incorporará a su equipo r...</td>\n",
       "      <td>Gran Buenos Aires</td>\n",
       "      <td>Part-time</td>\n",
       "      <td>Senior / Semi-Senior</td>\n",
       "      <td>Telemarketing</td>\n",
       "      <td>Aseguratuviaje.com</td>\n",
       "    </tr>\n",
       "    <tr>\n",
       "      <th>1578566</th>\n",
       "      <td>Nwq5oJ</td>\n",
       "      <td>False</td>\n",
       "      <td>Personal para atención al cliente telefónico P...</td>\n",
       "      <td>Empresa multinacional de Servicios, se encuen...</td>\n",
       "      <td>Gran Buenos Aires</td>\n",
       "      <td>Part-time</td>\n",
       "      <td>Senior / Semi-Senior</td>\n",
       "      <td>Atención al Cliente</td>\n",
       "      <td>RH Talentum</td>\n",
       "    </tr>\n",
       "    <tr>\n",
       "      <th>1366870</th>\n",
       "      <td>KBrkKkj</td>\n",
       "      <td>False</td>\n",
       "      <td>Personal para atención al cliente telefónico P...</td>\n",
       "      <td>Empresa multinacional de Servicios, se encuen...</td>\n",
       "      <td>Gran Buenos Aires</td>\n",
       "      <td>Part-time</td>\n",
       "      <td>Senior / Semi-Senior</td>\n",
       "      <td>Atención al Cliente</td>\n",
       "      <td>RH Talentum</td>\n",
       "    </tr>\n",
       "  </tbody>\n",
       "</table>\n",
       "</div>"
      ],
      "text/plain": [
       "        idpostulante   sexo  \\\n",
       "1340906      KBalo6A  False   \n",
       "1578566       Nwq5oJ  False   \n",
       "1366870      KBrkKkj  False   \n",
       "\n",
       "                                                    titulo  \\\n",
       "1340906  Representantes telefónicos para venta de asist...   \n",
       "1578566  Personal para atención al cliente telefónico P...   \n",
       "1366870  Personal para atención al cliente telefónico P...   \n",
       "\n",
       "                                               descripcion        nombre_zona  \\\n",
       "1340906   Nuestro call center incorporará a su equipo r...  Gran Buenos Aires   \n",
       "1578566   Empresa multinacional de Servicios, se encuen...  Gran Buenos Aires   \n",
       "1366870   Empresa multinacional de Servicios, se encuen...  Gran Buenos Aires   \n",
       "\n",
       "        tipo_de_trabajo         nivel_laboral          nombre_area  \\\n",
       "1340906       Part-time  Senior / Semi-Senior        Telemarketing   \n",
       "1578566       Part-time  Senior / Semi-Senior  Atención al Cliente   \n",
       "1366870       Part-time  Senior / Semi-Senior  Atención al Cliente   \n",
       "\n",
       "        denominacion_empresa  \n",
       "1340906   Aseguratuviaje.com  \n",
       "1578566          RH Talentum  \n",
       "1366870          RH Talentum  "
      ]
     },
     "execution_count": 85,
     "metadata": {},
     "output_type": "execute_result"
    }
   ],
   "source": [
    "categorias.sample(3)"
   ]
  },
  {
   "cell_type": "code",
   "execution_count": 86,
   "metadata": {},
   "outputs": [],
   "source": [
    "del categorias['titulo']\n",
    "del categorias['descripcion']"
   ]
  },
  {
   "cell_type": "code",
   "execution_count": 87,
   "metadata": {},
   "outputs": [
    {
     "data": {
      "text/plain": [
       "(3403723, 7)"
      ]
     },
     "execution_count": 87,
     "metadata": {},
     "output_type": "execute_result"
    }
   ],
   "source": [
    "categorias.shape"
   ]
  },
  {
   "cell_type": "code",
   "execution_count": 88,
   "metadata": {},
   "outputs": [
    {
     "name": "stdout",
     "output_type": "stream",
     "text": [
      "<class 'pandas.core.frame.DataFrame'>\n",
      "Int64Index: 3403723 entries, 0 to 3403722\n",
      "Data columns (total 7 columns):\n",
      "idpostulante            object\n",
      "sexo                    object\n",
      "nombre_zona             object\n",
      "tipo_de_trabajo         object\n",
      "nivel_laboral           object\n",
      "nombre_area             object\n",
      "denominacion_empresa    object\n",
      "dtypes: object(7)\n",
      "memory usage: 207.7+ MB\n"
     ]
    }
   ],
   "source": [
    "categorias.info()"
   ]
  },
  {
   "cell_type": "markdown",
   "metadata": {},
   "source": [
    "#### Conversion One hot Encoding"
   ]
  },
  {
   "cell_type": "code",
   "execution_count": 89,
   "metadata": {},
   "outputs": [],
   "source": [
    "#categorias_onehot = pd.get_dummies(categorias, columns=['nombre_zona','tipo_de_trabajo', 'nivel_laboral'], drop_first=True)"
   ]
  },
  {
   "cell_type": "code",
   "execution_count": 90,
   "metadata": {},
   "outputs": [],
   "source": [
    "#categorias_onehot = pd.get_dummies(categorias, columns=['sexo'], drop_first=True)"
   ]
  },
  {
   "cell_type": "code",
   "execution_count": 91,
   "metadata": {},
   "outputs": [],
   "source": [
    "#from sklearn.preprocessing import LabelBinarizer\n",
    "\n",
    "lb = LabelBinarizer()"
   ]
  },
  {
   "cell_type": "markdown",
   "metadata": {},
   "source": [
    "#### Codificando nombre_zona"
   ]
  },
  {
   "cell_type": "code",
   "execution_count": 92,
   "metadata": {},
   "outputs": [],
   "source": [
    "#columns=['nombre_zona','tipo_de_trabajo', 'nivel_laboral', 'nombre_area']\n",
    "categorias_onehot = lb.fit_transform(categorias['nombre_zona'])"
   ]
  },
  {
   "cell_type": "code",
   "execution_count": 93,
   "metadata": {},
   "outputs": [],
   "source": [
    "categorias_tags = lb.classes_"
   ]
  },
  {
   "cell_type": "code",
   "execution_count": 94,
   "metadata": {},
   "outputs": [],
   "source": [
    "categorias_onehot = pd.DataFrame(data=categorias_onehot, columns=categorias_tags)"
   ]
  },
  {
   "cell_type": "code",
   "execution_count": 95,
   "metadata": {},
   "outputs": [
    {
     "data": {
      "text/plain": [
       "(3403723, 4)"
      ]
     },
     "execution_count": 95,
     "metadata": {},
     "output_type": "execute_result"
    }
   ],
   "source": [
    "categorias_onehot.shape"
   ]
  },
  {
   "cell_type": "markdown",
   "metadata": {},
   "source": [
    "#### Uno el DF con el trainingset"
   ]
  },
  {
   "cell_type": "code",
   "execution_count": 96,
   "metadata": {},
   "outputs": [],
   "source": [
    "#nombre_zona = categorias_onehot\n",
    "\n",
    "trainingset = pd.concat([trainingset, categorias_onehot], axis=1)"
   ]
  },
  {
   "cell_type": "code",
   "execution_count": 97,
   "metadata": {},
   "outputs": [
    {
     "data": {
      "text/html": [
       "<div>\n",
       "<style scoped>\n",
       "    .dataframe tbody tr th:only-of-type {\n",
       "        vertical-align: middle;\n",
       "    }\n",
       "\n",
       "    .dataframe tbody tr th {\n",
       "        vertical-align: top;\n",
       "    }\n",
       "\n",
       "    .dataframe thead th {\n",
       "        text-align: right;\n",
       "    }\n",
       "</style>\n",
       "<table border=\"1\" class=\"dataframe\">\n",
       "  <thead>\n",
       "    <tr style=\"text-align: right;\">\n",
       "      <th></th>\n",
       "      <th>idpostulante</th>\n",
       "      <th>idaviso</th>\n",
       "      <th>vistas</th>\n",
       "      <th>postulo</th>\n",
       "      <th>educacion</th>\n",
       "      <th>sexo</th>\n",
       "      <th>edad</th>\n",
       "      <th>titulo</th>\n",
       "      <th>descripcion</th>\n",
       "      <th>nombre_zona</th>\n",
       "      <th>tipo_de_trabajo</th>\n",
       "      <th>nivel_laboral</th>\n",
       "      <th>nombre_area</th>\n",
       "      <th>denominacion_empresa</th>\n",
       "      <th>Buenos Aires (fuera de GBA)</th>\n",
       "      <th>Capital Federal</th>\n",
       "      <th>GBA Oeste</th>\n",
       "      <th>Gran Buenos Aires</th>\n",
       "    </tr>\n",
       "  </thead>\n",
       "  <tbody>\n",
       "    <tr>\n",
       "      <th>0</th>\n",
       "      <td>0z5Dmrd</td>\n",
       "      <td>1112384041</td>\n",
       "      <td>1</td>\n",
       "      <td>1.0</td>\n",
       "      <td>11.0</td>\n",
       "      <td>True</td>\n",
       "      <td>52.0</td>\n",
       "      <td>Gerente de RRHH- Para Importante Cadena de Far...</td>\n",
       "      <td>Me encuentro en la busqueda de un  Gerente de...</td>\n",
       "      <td>Gran Buenos Aires</td>\n",
       "      <td>Full-time</td>\n",
       "      <td>Senior / Semi-Senior</td>\n",
       "      <td>Recursos Humanos</td>\n",
       "      <td>PilarArtigas</td>\n",
       "      <td>0</td>\n",
       "      <td>0</td>\n",
       "      <td>0</td>\n",
       "      <td>1</td>\n",
       "    </tr>\n",
       "    <tr>\n",
       "      <th>1</th>\n",
       "      <td>0z5Dmrd</td>\n",
       "      <td>1112418961</td>\n",
       "      <td>1</td>\n",
       "      <td>0.0</td>\n",
       "      <td>11.0</td>\n",
       "      <td>True</td>\n",
       "      <td>52.0</td>\n",
       "      <td>Coordinador de RRHH para Importante Sanatorio/...</td>\n",
       "      <td>Para Importante Sanatorio de Córdoba Capital ...</td>\n",
       "      <td>Gran Buenos Aires</td>\n",
       "      <td>Full-time</td>\n",
       "      <td>Jefe / Supervisor / Responsable</td>\n",
       "      <td>Recursos Humanos</td>\n",
       "      <td>GMS S.A.</td>\n",
       "      <td>0</td>\n",
       "      <td>0</td>\n",
       "      <td>0</td>\n",
       "      <td>1</td>\n",
       "    </tr>\n",
       "    <tr>\n",
       "      <th>2</th>\n",
       "      <td>0z5Dmrd</td>\n",
       "      <td>1112420060</td>\n",
       "      <td>1</td>\n",
       "      <td>1.0</td>\n",
       "      <td>11.0</td>\n",
       "      <td>True</td>\n",
       "      <td>52.0</td>\n",
       "      <td>Coordinador/a de RRHH</td>\n",
       "      <td>Empresa Multinacional Se encuentra en la búsq...</td>\n",
       "      <td>Gran Buenos Aires</td>\n",
       "      <td>Full-time</td>\n",
       "      <td>Senior / Semi-Senior</td>\n",
       "      <td>Recursos Humanos</td>\n",
       "      <td>Importante Empresa</td>\n",
       "      <td>0</td>\n",
       "      <td>0</td>\n",
       "      <td>0</td>\n",
       "      <td>1</td>\n",
       "    </tr>\n",
       "  </tbody>\n",
       "</table>\n",
       "</div>"
      ],
      "text/plain": [
       "  idpostulante     idaviso  vistas  postulo  educacion  sexo  edad  \\\n",
       "0      0z5Dmrd  1112384041       1      1.0       11.0  True  52.0   \n",
       "1      0z5Dmrd  1112418961       1      0.0       11.0  True  52.0   \n",
       "2      0z5Dmrd  1112420060       1      1.0       11.0  True  52.0   \n",
       "\n",
       "                                              titulo  \\\n",
       "0  Gerente de RRHH- Para Importante Cadena de Far...   \n",
       "1  Coordinador de RRHH para Importante Sanatorio/...   \n",
       "2                              Coordinador/a de RRHH   \n",
       "\n",
       "                                         descripcion        nombre_zona  \\\n",
       "0   Me encuentro en la busqueda de un  Gerente de...  Gran Buenos Aires   \n",
       "1   Para Importante Sanatorio de Córdoba Capital ...  Gran Buenos Aires   \n",
       "2   Empresa Multinacional Se encuentra en la búsq...  Gran Buenos Aires   \n",
       "\n",
       "  tipo_de_trabajo                    nivel_laboral       nombre_area  \\\n",
       "0       Full-time             Senior / Semi-Senior  Recursos Humanos   \n",
       "1       Full-time  Jefe / Supervisor / Responsable  Recursos Humanos   \n",
       "2       Full-time             Senior / Semi-Senior  Recursos Humanos   \n",
       "\n",
       "  denominacion_empresa  Buenos Aires (fuera de GBA)  Capital Federal  \\\n",
       "0         PilarArtigas                            0                0   \n",
       "1             GMS S.A.                            0                0   \n",
       "2   Importante Empresa                            0                0   \n",
       "\n",
       "   GBA Oeste  Gran Buenos Aires  \n",
       "0          0                  1  \n",
       "1          0                  1  \n",
       "2          0                  1  "
      ]
     },
     "execution_count": 97,
     "metadata": {},
     "output_type": "execute_result"
    }
   ],
   "source": [
    "trainingset.head(3)"
   ]
  },
  {
   "cell_type": "markdown",
   "metadata": {},
   "source": [
    "#### Codificando tipo_de_trabajo"
   ]
  },
  {
   "cell_type": "code",
   "execution_count": 98,
   "metadata": {},
   "outputs": [],
   "source": [
    "#columns=['nombre_zona','tipo_de_trabajo', 'nivel_laboral', 'nombre_area']\n",
    "categorias_onehot = lb.fit_transform(categorias['tipo_de_trabajo'])"
   ]
  },
  {
   "cell_type": "code",
   "execution_count": 99,
   "metadata": {},
   "outputs": [],
   "source": [
    "categorias_tags = lb.classes_"
   ]
  },
  {
   "cell_type": "code",
   "execution_count": 100,
   "metadata": {},
   "outputs": [],
   "source": [
    "categorias_onehot = pd.DataFrame(data=categorias_onehot, columns=categorias_tags)"
   ]
  },
  {
   "cell_type": "code",
   "execution_count": 101,
   "metadata": {},
   "outputs": [
    {
     "data": {
      "text/plain": [
       "(3403723, 10)"
      ]
     },
     "execution_count": 101,
     "metadata": {},
     "output_type": "execute_result"
    }
   ],
   "source": [
    "categorias_onehot.shape"
   ]
  },
  {
   "cell_type": "code",
   "execution_count": 102,
   "metadata": {},
   "outputs": [],
   "source": [
    "trainingset = pd.concat([trainingset, categorias_onehot], axis=1)"
   ]
  },
  {
   "cell_type": "code",
   "execution_count": 103,
   "metadata": {},
   "outputs": [
    {
     "data": {
      "text/html": [
       "<div>\n",
       "<style scoped>\n",
       "    .dataframe tbody tr th:only-of-type {\n",
       "        vertical-align: middle;\n",
       "    }\n",
       "\n",
       "    .dataframe tbody tr th {\n",
       "        vertical-align: top;\n",
       "    }\n",
       "\n",
       "    .dataframe thead th {\n",
       "        text-align: right;\n",
       "    }\n",
       "</style>\n",
       "<table border=\"1\" class=\"dataframe\">\n",
       "  <thead>\n",
       "    <tr style=\"text-align: right;\">\n",
       "      <th></th>\n",
       "      <th>idpostulante</th>\n",
       "      <th>idaviso</th>\n",
       "      <th>vistas</th>\n",
       "      <th>postulo</th>\n",
       "      <th>educacion</th>\n",
       "      <th>sexo</th>\n",
       "      <th>edad</th>\n",
       "      <th>titulo</th>\n",
       "      <th>descripcion</th>\n",
       "      <th>nombre_zona</th>\n",
       "      <th>...</th>\n",
       "      <th>Fines de Semana</th>\n",
       "      <th>Full-time</th>\n",
       "      <th>Part-time</th>\n",
       "      <th>Pasantia</th>\n",
       "      <th>Por Contrato</th>\n",
       "      <th>Por Horas</th>\n",
       "      <th>Primer empleo</th>\n",
       "      <th>Teletrabajo</th>\n",
       "      <th>Temporario</th>\n",
       "      <th>Voluntario</th>\n",
       "    </tr>\n",
       "  </thead>\n",
       "  <tbody>\n",
       "    <tr>\n",
       "      <th>0</th>\n",
       "      <td>0z5Dmrd</td>\n",
       "      <td>1112384041</td>\n",
       "      <td>1</td>\n",
       "      <td>1.0</td>\n",
       "      <td>11.0</td>\n",
       "      <td>True</td>\n",
       "      <td>52.0</td>\n",
       "      <td>Gerente de RRHH- Para Importante Cadena de Far...</td>\n",
       "      <td>Me encuentro en la busqueda de un  Gerente de...</td>\n",
       "      <td>Gran Buenos Aires</td>\n",
       "      <td>...</td>\n",
       "      <td>0</td>\n",
       "      <td>1</td>\n",
       "      <td>0</td>\n",
       "      <td>0</td>\n",
       "      <td>0</td>\n",
       "      <td>0</td>\n",
       "      <td>0</td>\n",
       "      <td>0</td>\n",
       "      <td>0</td>\n",
       "      <td>0</td>\n",
       "    </tr>\n",
       "    <tr>\n",
       "      <th>1</th>\n",
       "      <td>0z5Dmrd</td>\n",
       "      <td>1112418961</td>\n",
       "      <td>1</td>\n",
       "      <td>0.0</td>\n",
       "      <td>11.0</td>\n",
       "      <td>True</td>\n",
       "      <td>52.0</td>\n",
       "      <td>Coordinador de RRHH para Importante Sanatorio/...</td>\n",
       "      <td>Para Importante Sanatorio de Córdoba Capital ...</td>\n",
       "      <td>Gran Buenos Aires</td>\n",
       "      <td>...</td>\n",
       "      <td>0</td>\n",
       "      <td>1</td>\n",
       "      <td>0</td>\n",
       "      <td>0</td>\n",
       "      <td>0</td>\n",
       "      <td>0</td>\n",
       "      <td>0</td>\n",
       "      <td>0</td>\n",
       "      <td>0</td>\n",
       "      <td>0</td>\n",
       "    </tr>\n",
       "    <tr>\n",
       "      <th>2</th>\n",
       "      <td>0z5Dmrd</td>\n",
       "      <td>1112420060</td>\n",
       "      <td>1</td>\n",
       "      <td>1.0</td>\n",
       "      <td>11.0</td>\n",
       "      <td>True</td>\n",
       "      <td>52.0</td>\n",
       "      <td>Coordinador/a de RRHH</td>\n",
       "      <td>Empresa Multinacional Se encuentra en la búsq...</td>\n",
       "      <td>Gran Buenos Aires</td>\n",
       "      <td>...</td>\n",
       "      <td>0</td>\n",
       "      <td>1</td>\n",
       "      <td>0</td>\n",
       "      <td>0</td>\n",
       "      <td>0</td>\n",
       "      <td>0</td>\n",
       "      <td>0</td>\n",
       "      <td>0</td>\n",
       "      <td>0</td>\n",
       "      <td>0</td>\n",
       "    </tr>\n",
       "  </tbody>\n",
       "</table>\n",
       "<p>3 rows × 28 columns</p>\n",
       "</div>"
      ],
      "text/plain": [
       "  idpostulante     idaviso  vistas  postulo  educacion  sexo  edad  \\\n",
       "0      0z5Dmrd  1112384041       1      1.0       11.0  True  52.0   \n",
       "1      0z5Dmrd  1112418961       1      0.0       11.0  True  52.0   \n",
       "2      0z5Dmrd  1112420060       1      1.0       11.0  True  52.0   \n",
       "\n",
       "                                              titulo  \\\n",
       "0  Gerente de RRHH- Para Importante Cadena de Far...   \n",
       "1  Coordinador de RRHH para Importante Sanatorio/...   \n",
       "2                              Coordinador/a de RRHH   \n",
       "\n",
       "                                         descripcion        nombre_zona  \\\n",
       "0   Me encuentro en la busqueda de un  Gerente de...  Gran Buenos Aires   \n",
       "1   Para Importante Sanatorio de Córdoba Capital ...  Gran Buenos Aires   \n",
       "2   Empresa Multinacional Se encuentra en la búsq...  Gran Buenos Aires   \n",
       "\n",
       "      ...     Fines de Semana Full-time Part-time Pasantia  Por Contrato  \\\n",
       "0     ...                   0         1         0        0             0   \n",
       "1     ...                   0         1         0        0             0   \n",
       "2     ...                   0         1         0        0             0   \n",
       "\n",
       "   Por Horas  Primer empleo  Teletrabajo  Temporario  Voluntario  \n",
       "0          0              0            0           0           0  \n",
       "1          0              0            0           0           0  \n",
       "2          0              0            0           0           0  \n",
       "\n",
       "[3 rows x 28 columns]"
      ]
     },
     "execution_count": 103,
     "metadata": {},
     "output_type": "execute_result"
    }
   ],
   "source": [
    "trainingset.head(3)"
   ]
  },
  {
   "cell_type": "markdown",
   "metadata": {},
   "source": [
    "#### Codificando nivel_laboral"
   ]
  },
  {
   "cell_type": "code",
   "execution_count": 104,
   "metadata": {},
   "outputs": [],
   "source": [
    "#columns=['nombre_zona','tipo_de_trabajo', 'nivel_laboral', 'nombre_area']\n",
    "categorias_onehot = lb.fit_transform(categorias['nivel_laboral'])"
   ]
  },
  {
   "cell_type": "code",
   "execution_count": 105,
   "metadata": {},
   "outputs": [],
   "source": [
    "categorias_tags = lb.classes_"
   ]
  },
  {
   "cell_type": "code",
   "execution_count": 106,
   "metadata": {},
   "outputs": [],
   "source": [
    "categorias_onehot = pd.DataFrame(data=categorias_onehot, columns=categorias_tags)"
   ]
  },
  {
   "cell_type": "code",
   "execution_count": 107,
   "metadata": {},
   "outputs": [
    {
     "data": {
      "text/plain": [
       "(3403723, 5)"
      ]
     },
     "execution_count": 107,
     "metadata": {},
     "output_type": "execute_result"
    }
   ],
   "source": [
    "categorias_onehot.shape"
   ]
  },
  {
   "cell_type": "code",
   "execution_count": 108,
   "metadata": {},
   "outputs": [],
   "source": [
    "trainingset = pd.concat([trainingset, categorias_onehot], axis=1)"
   ]
  },
  {
   "cell_type": "code",
   "execution_count": 109,
   "metadata": {},
   "outputs": [
    {
     "data": {
      "text/html": [
       "<div>\n",
       "<style scoped>\n",
       "    .dataframe tbody tr th:only-of-type {\n",
       "        vertical-align: middle;\n",
       "    }\n",
       "\n",
       "    .dataframe tbody tr th {\n",
       "        vertical-align: top;\n",
       "    }\n",
       "\n",
       "    .dataframe thead th {\n",
       "        text-align: right;\n",
       "    }\n",
       "</style>\n",
       "<table border=\"1\" class=\"dataframe\">\n",
       "  <thead>\n",
       "    <tr style=\"text-align: right;\">\n",
       "      <th></th>\n",
       "      <th>idpostulante</th>\n",
       "      <th>idaviso</th>\n",
       "      <th>vistas</th>\n",
       "      <th>postulo</th>\n",
       "      <th>educacion</th>\n",
       "      <th>sexo</th>\n",
       "      <th>edad</th>\n",
       "      <th>titulo</th>\n",
       "      <th>descripcion</th>\n",
       "      <th>nombre_zona</th>\n",
       "      <th>...</th>\n",
       "      <th>Por Horas</th>\n",
       "      <th>Primer empleo</th>\n",
       "      <th>Teletrabajo</th>\n",
       "      <th>Temporario</th>\n",
       "      <th>Voluntario</th>\n",
       "      <th>Gerencia / Alta Gerencia / Dirección</th>\n",
       "      <th>Jefe / Supervisor / Responsable</th>\n",
       "      <th>Junior</th>\n",
       "      <th>Otro</th>\n",
       "      <th>Senior / Semi-Senior</th>\n",
       "    </tr>\n",
       "  </thead>\n",
       "  <tbody>\n",
       "    <tr>\n",
       "      <th>0</th>\n",
       "      <td>0z5Dmrd</td>\n",
       "      <td>1112384041</td>\n",
       "      <td>1</td>\n",
       "      <td>1.0</td>\n",
       "      <td>11.0</td>\n",
       "      <td>True</td>\n",
       "      <td>52.0</td>\n",
       "      <td>Gerente de RRHH- Para Importante Cadena de Far...</td>\n",
       "      <td>Me encuentro en la busqueda de un  Gerente de...</td>\n",
       "      <td>Gran Buenos Aires</td>\n",
       "      <td>...</td>\n",
       "      <td>0</td>\n",
       "      <td>0</td>\n",
       "      <td>0</td>\n",
       "      <td>0</td>\n",
       "      <td>0</td>\n",
       "      <td>0</td>\n",
       "      <td>0</td>\n",
       "      <td>0</td>\n",
       "      <td>0</td>\n",
       "      <td>1</td>\n",
       "    </tr>\n",
       "    <tr>\n",
       "      <th>1</th>\n",
       "      <td>0z5Dmrd</td>\n",
       "      <td>1112418961</td>\n",
       "      <td>1</td>\n",
       "      <td>0.0</td>\n",
       "      <td>11.0</td>\n",
       "      <td>True</td>\n",
       "      <td>52.0</td>\n",
       "      <td>Coordinador de RRHH para Importante Sanatorio/...</td>\n",
       "      <td>Para Importante Sanatorio de Córdoba Capital ...</td>\n",
       "      <td>Gran Buenos Aires</td>\n",
       "      <td>...</td>\n",
       "      <td>0</td>\n",
       "      <td>0</td>\n",
       "      <td>0</td>\n",
       "      <td>0</td>\n",
       "      <td>0</td>\n",
       "      <td>0</td>\n",
       "      <td>1</td>\n",
       "      <td>0</td>\n",
       "      <td>0</td>\n",
       "      <td>0</td>\n",
       "    </tr>\n",
       "    <tr>\n",
       "      <th>2</th>\n",
       "      <td>0z5Dmrd</td>\n",
       "      <td>1112420060</td>\n",
       "      <td>1</td>\n",
       "      <td>1.0</td>\n",
       "      <td>11.0</td>\n",
       "      <td>True</td>\n",
       "      <td>52.0</td>\n",
       "      <td>Coordinador/a de RRHH</td>\n",
       "      <td>Empresa Multinacional Se encuentra en la búsq...</td>\n",
       "      <td>Gran Buenos Aires</td>\n",
       "      <td>...</td>\n",
       "      <td>0</td>\n",
       "      <td>0</td>\n",
       "      <td>0</td>\n",
       "      <td>0</td>\n",
       "      <td>0</td>\n",
       "      <td>0</td>\n",
       "      <td>0</td>\n",
       "      <td>0</td>\n",
       "      <td>0</td>\n",
       "      <td>1</td>\n",
       "    </tr>\n",
       "  </tbody>\n",
       "</table>\n",
       "<p>3 rows × 33 columns</p>\n",
       "</div>"
      ],
      "text/plain": [
       "  idpostulante     idaviso  vistas  postulo  educacion  sexo  edad  \\\n",
       "0      0z5Dmrd  1112384041       1      1.0       11.0  True  52.0   \n",
       "1      0z5Dmrd  1112418961       1      0.0       11.0  True  52.0   \n",
       "2      0z5Dmrd  1112420060       1      1.0       11.0  True  52.0   \n",
       "\n",
       "                                              titulo  \\\n",
       "0  Gerente de RRHH- Para Importante Cadena de Far...   \n",
       "1  Coordinador de RRHH para Importante Sanatorio/...   \n",
       "2                              Coordinador/a de RRHH   \n",
       "\n",
       "                                         descripcion        nombre_zona  \\\n",
       "0   Me encuentro en la busqueda de un  Gerente de...  Gran Buenos Aires   \n",
       "1   Para Importante Sanatorio de Córdoba Capital ...  Gran Buenos Aires   \n",
       "2   Empresa Multinacional Se encuentra en la búsq...  Gran Buenos Aires   \n",
       "\n",
       "           ...          Por Horas Primer empleo Teletrabajo Temporario  \\\n",
       "0          ...                  0             0           0          0   \n",
       "1          ...                  0             0           0          0   \n",
       "2          ...                  0             0           0          0   \n",
       "\n",
       "   Voluntario  Gerencia / Alta Gerencia / Dirección  \\\n",
       "0           0                                     0   \n",
       "1           0                                     0   \n",
       "2           0                                     0   \n",
       "\n",
       "   Jefe / Supervisor / Responsable  Junior  Otro  Senior / Semi-Senior  \n",
       "0                                0       0     0                     1  \n",
       "1                                1       0     0                     0  \n",
       "2                                0       0     0                     1  \n",
       "\n",
       "[3 rows x 33 columns]"
      ]
     },
     "execution_count": 109,
     "metadata": {},
     "output_type": "execute_result"
    }
   ],
   "source": [
    "trainingset.head(3)"
   ]
  },
  {
   "cell_type": "markdown",
   "metadata": {},
   "source": [
    "#### Codificando nombre_area"
   ]
  },
  {
   "cell_type": "code",
   "execution_count": 110,
   "metadata": {},
   "outputs": [],
   "source": [
    "#columns=['nombre_zona','tipo_de_trabajo', 'nivel_laboral', 'nombre_area']\n",
    "categorias_onehot = lb.fit_transform(categorias['nombre_area'])"
   ]
  },
  {
   "cell_type": "code",
   "execution_count": 111,
   "metadata": {},
   "outputs": [],
   "source": [
    "categorias_tags = lb.classes_"
   ]
  },
  {
   "cell_type": "code",
   "execution_count": 112,
   "metadata": {},
   "outputs": [],
   "source": [
    "categorias_onehot = pd.DataFrame(data=categorias_onehot, columns=categorias_tags)"
   ]
  },
  {
   "cell_type": "code",
   "execution_count": 113,
   "metadata": {},
   "outputs": [
    {
     "data": {
      "text/plain": [
       "(3403723, 183)"
      ]
     },
     "execution_count": 113,
     "metadata": {},
     "output_type": "execute_result"
    }
   ],
   "source": [
    "categorias_onehot.shape"
   ]
  },
  {
   "cell_type": "code",
   "execution_count": 114,
   "metadata": {},
   "outputs": [
    {
     "ename": "MemoryError",
     "evalue": "",
     "output_type": "error",
     "traceback": [
      "\u001b[0;31m---------------------------------------------------------------------------\u001b[0m",
      "\u001b[0;31mMemoryError\u001b[0m                               Traceback (most recent call last)",
      "\u001b[0;32m<ipython-input-114-5ddc0d61af69>\u001b[0m in \u001b[0;36m<module>\u001b[0;34m()\u001b[0m\n\u001b[0;32m----> 1\u001b[0;31m \u001b[0mtrainingset\u001b[0m \u001b[0;34m=\u001b[0m \u001b[0mpd\u001b[0m\u001b[0;34m.\u001b[0m\u001b[0mconcat\u001b[0m\u001b[0;34m(\u001b[0m\u001b[0;34m[\u001b[0m\u001b[0mtrainingset\u001b[0m\u001b[0;34m,\u001b[0m \u001b[0mcategorias_onehot\u001b[0m\u001b[0;34m]\u001b[0m\u001b[0;34m,\u001b[0m \u001b[0maxis\u001b[0m\u001b[0;34m=\u001b[0m\u001b[0;36m1\u001b[0m\u001b[0;34m)\u001b[0m\u001b[0;34m\u001b[0m\u001b[0m\n\u001b[0m",
      "\u001b[0;32m~/anaconda3/lib/python3.6/site-packages/pandas/core/reshape/concat.py\u001b[0m in \u001b[0;36mconcat\u001b[0;34m(objs, axis, join, join_axes, ignore_index, keys, levels, names, verify_integrity, copy)\u001b[0m\n\u001b[1;32m    211\u001b[0m                        \u001b[0mverify_integrity\u001b[0m\u001b[0;34m=\u001b[0m\u001b[0mverify_integrity\u001b[0m\u001b[0;34m,\u001b[0m\u001b[0;34m\u001b[0m\u001b[0m\n\u001b[1;32m    212\u001b[0m                        copy=copy)\n\u001b[0;32m--> 213\u001b[0;31m     \u001b[0;32mreturn\u001b[0m \u001b[0mop\u001b[0m\u001b[0;34m.\u001b[0m\u001b[0mget_result\u001b[0m\u001b[0;34m(\u001b[0m\u001b[0;34m)\u001b[0m\u001b[0;34m\u001b[0m\u001b[0m\n\u001b[0m\u001b[1;32m    214\u001b[0m \u001b[0;34m\u001b[0m\u001b[0m\n\u001b[1;32m    215\u001b[0m \u001b[0;34m\u001b[0m\u001b[0m\n",
      "\u001b[0;32m~/anaconda3/lib/python3.6/site-packages/pandas/core/reshape/concat.py\u001b[0m in \u001b[0;36mget_result\u001b[0;34m(self)\u001b[0m\n\u001b[1;32m    406\u001b[0m             new_data = concatenate_block_managers(\n\u001b[1;32m    407\u001b[0m                 \u001b[0mmgrs_indexers\u001b[0m\u001b[0;34m,\u001b[0m \u001b[0mself\u001b[0m\u001b[0;34m.\u001b[0m\u001b[0mnew_axes\u001b[0m\u001b[0;34m,\u001b[0m \u001b[0mconcat_axis\u001b[0m\u001b[0;34m=\u001b[0m\u001b[0mself\u001b[0m\u001b[0;34m.\u001b[0m\u001b[0maxis\u001b[0m\u001b[0;34m,\u001b[0m\u001b[0;34m\u001b[0m\u001b[0m\n\u001b[0;32m--> 408\u001b[0;31m                 copy=self.copy)\n\u001b[0m\u001b[1;32m    409\u001b[0m             \u001b[0;32mif\u001b[0m \u001b[0;32mnot\u001b[0m \u001b[0mself\u001b[0m\u001b[0;34m.\u001b[0m\u001b[0mcopy\u001b[0m\u001b[0;34m:\u001b[0m\u001b[0;34m\u001b[0m\u001b[0m\n\u001b[1;32m    410\u001b[0m                 \u001b[0mnew_data\u001b[0m\u001b[0;34m.\u001b[0m\u001b[0m_consolidate_inplace\u001b[0m\u001b[0;34m(\u001b[0m\u001b[0;34m)\u001b[0m\u001b[0;34m\u001b[0m\u001b[0m\n",
      "\u001b[0;32m~/anaconda3/lib/python3.6/site-packages/pandas/core/internals.py\u001b[0m in \u001b[0;36mconcatenate_block_managers\u001b[0;34m(mgrs_indexers, axes, concat_axis, copy)\u001b[0m\n\u001b[1;32m   5192\u001b[0m             \u001b[0mvalues\u001b[0m \u001b[0;34m=\u001b[0m \u001b[0mb\u001b[0m\u001b[0;34m.\u001b[0m\u001b[0mvalues\u001b[0m\u001b[0;34m\u001b[0m\u001b[0m\n\u001b[1;32m   5193\u001b[0m             \u001b[0;32mif\u001b[0m \u001b[0mcopy\u001b[0m\u001b[0;34m:\u001b[0m\u001b[0;34m\u001b[0m\u001b[0m\n\u001b[0;32m-> 5194\u001b[0;31m                 \u001b[0mvalues\u001b[0m \u001b[0;34m=\u001b[0m \u001b[0mvalues\u001b[0m\u001b[0;34m.\u001b[0m\u001b[0mcopy\u001b[0m\u001b[0;34m(\u001b[0m\u001b[0;34m)\u001b[0m\u001b[0;34m\u001b[0m\u001b[0m\n\u001b[0m\u001b[1;32m   5195\u001b[0m             \u001b[0;32melif\u001b[0m \u001b[0;32mnot\u001b[0m \u001b[0mcopy\u001b[0m\u001b[0;34m:\u001b[0m\u001b[0;34m\u001b[0m\u001b[0m\n\u001b[1;32m   5196\u001b[0m                 \u001b[0mvalues\u001b[0m \u001b[0;34m=\u001b[0m \u001b[0mvalues\u001b[0m\u001b[0;34m.\u001b[0m\u001b[0mview\u001b[0m\u001b[0;34m(\u001b[0m\u001b[0;34m)\u001b[0m\u001b[0;34m\u001b[0m\u001b[0m\n",
      "\u001b[0;31mMemoryError\u001b[0m: "
     ]
    }
   ],
   "source": [
    "trainingset = pd.concat([trainingset, categorias_onehot], axis=1)"
   ]
  },
  {
   "cell_type": "code",
   "execution_count": 115,
   "metadata": {},
   "outputs": [
    {
     "data": {
      "text/html": [
       "<div>\n",
       "<style scoped>\n",
       "    .dataframe tbody tr th:only-of-type {\n",
       "        vertical-align: middle;\n",
       "    }\n",
       "\n",
       "    .dataframe tbody tr th {\n",
       "        vertical-align: top;\n",
       "    }\n",
       "\n",
       "    .dataframe thead th {\n",
       "        text-align: right;\n",
       "    }\n",
       "</style>\n",
       "<table border=\"1\" class=\"dataframe\">\n",
       "  <thead>\n",
       "    <tr style=\"text-align: right;\">\n",
       "      <th></th>\n",
       "      <th>idpostulante</th>\n",
       "      <th>idaviso</th>\n",
       "      <th>vistas</th>\n",
       "      <th>postulo</th>\n",
       "      <th>educacion</th>\n",
       "      <th>sexo</th>\n",
       "      <th>edad</th>\n",
       "      <th>titulo</th>\n",
       "      <th>descripcion</th>\n",
       "      <th>nombre_zona</th>\n",
       "      <th>...</th>\n",
       "      <th>Por Horas</th>\n",
       "      <th>Primer empleo</th>\n",
       "      <th>Teletrabajo</th>\n",
       "      <th>Temporario</th>\n",
       "      <th>Voluntario</th>\n",
       "      <th>Gerencia / Alta Gerencia / Dirección</th>\n",
       "      <th>Jefe / Supervisor / Responsable</th>\n",
       "      <th>Junior</th>\n",
       "      <th>Otro</th>\n",
       "      <th>Senior / Semi-Senior</th>\n",
       "    </tr>\n",
       "  </thead>\n",
       "  <tbody>\n",
       "    <tr>\n",
       "      <th>0</th>\n",
       "      <td>0z5Dmrd</td>\n",
       "      <td>1112384041</td>\n",
       "      <td>1</td>\n",
       "      <td>1.0</td>\n",
       "      <td>11.0</td>\n",
       "      <td>True</td>\n",
       "      <td>52.0</td>\n",
       "      <td>Gerente de RRHH- Para Importante Cadena de Far...</td>\n",
       "      <td>Me encuentro en la busqueda de un  Gerente de...</td>\n",
       "      <td>Gran Buenos Aires</td>\n",
       "      <td>...</td>\n",
       "      <td>0</td>\n",
       "      <td>0</td>\n",
       "      <td>0</td>\n",
       "      <td>0</td>\n",
       "      <td>0</td>\n",
       "      <td>0</td>\n",
       "      <td>0</td>\n",
       "      <td>0</td>\n",
       "      <td>0</td>\n",
       "      <td>1</td>\n",
       "    </tr>\n",
       "    <tr>\n",
       "      <th>1</th>\n",
       "      <td>0z5Dmrd</td>\n",
       "      <td>1112418961</td>\n",
       "      <td>1</td>\n",
       "      <td>0.0</td>\n",
       "      <td>11.0</td>\n",
       "      <td>True</td>\n",
       "      <td>52.0</td>\n",
       "      <td>Coordinador de RRHH para Importante Sanatorio/...</td>\n",
       "      <td>Para Importante Sanatorio de Córdoba Capital ...</td>\n",
       "      <td>Gran Buenos Aires</td>\n",
       "      <td>...</td>\n",
       "      <td>0</td>\n",
       "      <td>0</td>\n",
       "      <td>0</td>\n",
       "      <td>0</td>\n",
       "      <td>0</td>\n",
       "      <td>0</td>\n",
       "      <td>1</td>\n",
       "      <td>0</td>\n",
       "      <td>0</td>\n",
       "      <td>0</td>\n",
       "    </tr>\n",
       "    <tr>\n",
       "      <th>2</th>\n",
       "      <td>0z5Dmrd</td>\n",
       "      <td>1112420060</td>\n",
       "      <td>1</td>\n",
       "      <td>1.0</td>\n",
       "      <td>11.0</td>\n",
       "      <td>True</td>\n",
       "      <td>52.0</td>\n",
       "      <td>Coordinador/a de RRHH</td>\n",
       "      <td>Empresa Multinacional Se encuentra en la búsq...</td>\n",
       "      <td>Gran Buenos Aires</td>\n",
       "      <td>...</td>\n",
       "      <td>0</td>\n",
       "      <td>0</td>\n",
       "      <td>0</td>\n",
       "      <td>0</td>\n",
       "      <td>0</td>\n",
       "      <td>0</td>\n",
       "      <td>0</td>\n",
       "      <td>0</td>\n",
       "      <td>0</td>\n",
       "      <td>1</td>\n",
       "    </tr>\n",
       "  </tbody>\n",
       "</table>\n",
       "<p>3 rows × 33 columns</p>\n",
       "</div>"
      ],
      "text/plain": [
       "  idpostulante     idaviso  vistas  postulo  educacion  sexo  edad  \\\n",
       "0      0z5Dmrd  1112384041       1      1.0       11.0  True  52.0   \n",
       "1      0z5Dmrd  1112418961       1      0.0       11.0  True  52.0   \n",
       "2      0z5Dmrd  1112420060       1      1.0       11.0  True  52.0   \n",
       "\n",
       "                                              titulo  \\\n",
       "0  Gerente de RRHH- Para Importante Cadena de Far...   \n",
       "1  Coordinador de RRHH para Importante Sanatorio/...   \n",
       "2                              Coordinador/a de RRHH   \n",
       "\n",
       "                                         descripcion        nombre_zona  \\\n",
       "0   Me encuentro en la busqueda de un  Gerente de...  Gran Buenos Aires   \n",
       "1   Para Importante Sanatorio de Córdoba Capital ...  Gran Buenos Aires   \n",
       "2   Empresa Multinacional Se encuentra en la búsq...  Gran Buenos Aires   \n",
       "\n",
       "           ...          Por Horas Primer empleo Teletrabajo Temporario  \\\n",
       "0          ...                  0             0           0          0   \n",
       "1          ...                  0             0           0          0   \n",
       "2          ...                  0             0           0          0   \n",
       "\n",
       "   Voluntario  Gerencia / Alta Gerencia / Dirección  \\\n",
       "0           0                                     0   \n",
       "1           0                                     0   \n",
       "2           0                                     0   \n",
       "\n",
       "   Jefe / Supervisor / Responsable  Junior  Otro  Senior / Semi-Senior  \n",
       "0                                0       0     0                     1  \n",
       "1                                1       0     0                     0  \n",
       "2                                0       0     0                     1  \n",
       "\n",
       "[3 rows x 33 columns]"
      ]
     },
     "execution_count": 115,
     "metadata": {},
     "output_type": "execute_result"
    }
   ],
   "source": [
    "trainingset.head(3)"
   ]
  },
  {
   "cell_type": "markdown",
   "metadata": {},
   "source": [
    "### Finalmente se borran las columnas viejas y se guardan"
   ]
  },
  {
   "cell_type": "code",
   "execution_count": 116,
   "metadata": {},
   "outputs": [],
   "source": [
    "del trainingset['nombre_zona']"
   ]
  },
  {
   "cell_type": "code",
   "execution_count": 117,
   "metadata": {},
   "outputs": [],
   "source": [
    "del trainingset['tipo_de_trabajo']"
   ]
  },
  {
   "cell_type": "code",
   "execution_count": 118,
   "metadata": {},
   "outputs": [],
   "source": [
    "del trainingset['nivel_laboral']"
   ]
  },
  {
   "cell_type": "code",
   "execution_count": 119,
   "metadata": {},
   "outputs": [],
   "source": [
    "del trainingset['nombre_area']"
   ]
  },
  {
   "cell_type": "markdown",
   "metadata": {},
   "source": [
    "### los siguientes features podrian ser considerados a futuro realizando una limpieza de terminos y reduciendo las dimensiones"
   ]
  },
  {
   "cell_type": "code",
   "execution_count": 121,
   "metadata": {},
   "outputs": [],
   "source": [
    "del trainingset['titulo']"
   ]
  },
  {
   "cell_type": "code",
   "execution_count": 122,
   "metadata": {},
   "outputs": [],
   "source": [
    "del trainingset['descripcion']"
   ]
  },
  {
   "cell_type": "code",
   "execution_count": 126,
   "metadata": {},
   "outputs": [],
   "source": [
    "del trainingset['denominacion_empresa']"
   ]
  },
  {
   "cell_type": "code",
   "execution_count": 127,
   "metadata": {},
   "outputs": [
    {
     "data": {
      "text/html": [
       "<div>\n",
       "<style scoped>\n",
       "    .dataframe tbody tr th:only-of-type {\n",
       "        vertical-align: middle;\n",
       "    }\n",
       "\n",
       "    .dataframe tbody tr th {\n",
       "        vertical-align: top;\n",
       "    }\n",
       "\n",
       "    .dataframe thead th {\n",
       "        text-align: right;\n",
       "    }\n",
       "</style>\n",
       "<table border=\"1\" class=\"dataframe\">\n",
       "  <thead>\n",
       "    <tr style=\"text-align: right;\">\n",
       "      <th></th>\n",
       "      <th>idpostulante</th>\n",
       "      <th>idaviso</th>\n",
       "      <th>vistas</th>\n",
       "      <th>postulo</th>\n",
       "      <th>educacion</th>\n",
       "      <th>sexo</th>\n",
       "      <th>edad</th>\n",
       "      <th>Buenos Aires (fuera de GBA)</th>\n",
       "      <th>Capital Federal</th>\n",
       "      <th>GBA Oeste</th>\n",
       "      <th>...</th>\n",
       "      <th>Por Horas</th>\n",
       "      <th>Primer empleo</th>\n",
       "      <th>Teletrabajo</th>\n",
       "      <th>Temporario</th>\n",
       "      <th>Voluntario</th>\n",
       "      <th>Gerencia / Alta Gerencia / Dirección</th>\n",
       "      <th>Jefe / Supervisor / Responsable</th>\n",
       "      <th>Junior</th>\n",
       "      <th>Otro</th>\n",
       "      <th>Senior / Semi-Senior</th>\n",
       "    </tr>\n",
       "  </thead>\n",
       "  <tbody>\n",
       "    <tr>\n",
       "      <th>0</th>\n",
       "      <td>0z5Dmrd</td>\n",
       "      <td>1112384041</td>\n",
       "      <td>1</td>\n",
       "      <td>1.0</td>\n",
       "      <td>11.0</td>\n",
       "      <td>True</td>\n",
       "      <td>52.0</td>\n",
       "      <td>0</td>\n",
       "      <td>0</td>\n",
       "      <td>0</td>\n",
       "      <td>...</td>\n",
       "      <td>0</td>\n",
       "      <td>0</td>\n",
       "      <td>0</td>\n",
       "      <td>0</td>\n",
       "      <td>0</td>\n",
       "      <td>0</td>\n",
       "      <td>0</td>\n",
       "      <td>0</td>\n",
       "      <td>0</td>\n",
       "      <td>1</td>\n",
       "    </tr>\n",
       "    <tr>\n",
       "      <th>1</th>\n",
       "      <td>0z5Dmrd</td>\n",
       "      <td>1112418961</td>\n",
       "      <td>1</td>\n",
       "      <td>0.0</td>\n",
       "      <td>11.0</td>\n",
       "      <td>True</td>\n",
       "      <td>52.0</td>\n",
       "      <td>0</td>\n",
       "      <td>0</td>\n",
       "      <td>0</td>\n",
       "      <td>...</td>\n",
       "      <td>0</td>\n",
       "      <td>0</td>\n",
       "      <td>0</td>\n",
       "      <td>0</td>\n",
       "      <td>0</td>\n",
       "      <td>0</td>\n",
       "      <td>1</td>\n",
       "      <td>0</td>\n",
       "      <td>0</td>\n",
       "      <td>0</td>\n",
       "    </tr>\n",
       "    <tr>\n",
       "      <th>2</th>\n",
       "      <td>0z5Dmrd</td>\n",
       "      <td>1112420060</td>\n",
       "      <td>1</td>\n",
       "      <td>1.0</td>\n",
       "      <td>11.0</td>\n",
       "      <td>True</td>\n",
       "      <td>52.0</td>\n",
       "      <td>0</td>\n",
       "      <td>0</td>\n",
       "      <td>0</td>\n",
       "      <td>...</td>\n",
       "      <td>0</td>\n",
       "      <td>0</td>\n",
       "      <td>0</td>\n",
       "      <td>0</td>\n",
       "      <td>0</td>\n",
       "      <td>0</td>\n",
       "      <td>0</td>\n",
       "      <td>0</td>\n",
       "      <td>0</td>\n",
       "      <td>1</td>\n",
       "    </tr>\n",
       "  </tbody>\n",
       "</table>\n",
       "<p>3 rows × 26 columns</p>\n",
       "</div>"
      ],
      "text/plain": [
       "  idpostulante     idaviso  vistas  postulo  educacion  sexo  edad  \\\n",
       "0      0z5Dmrd  1112384041       1      1.0       11.0  True  52.0   \n",
       "1      0z5Dmrd  1112418961       1      0.0       11.0  True  52.0   \n",
       "2      0z5Dmrd  1112420060       1      1.0       11.0  True  52.0   \n",
       "\n",
       "   Buenos Aires (fuera de GBA)  Capital Federal  GBA Oeste  \\\n",
       "0                            0                0          0   \n",
       "1                            0                0          0   \n",
       "2                            0                0          0   \n",
       "\n",
       "           ...           Por Horas  Primer empleo  Teletrabajo  Temporario  \\\n",
       "0          ...                   0              0            0           0   \n",
       "1          ...                   0              0            0           0   \n",
       "2          ...                   0              0            0           0   \n",
       "\n",
       "   Voluntario  Gerencia / Alta Gerencia / Dirección  \\\n",
       "0           0                                     0   \n",
       "1           0                                     0   \n",
       "2           0                                     0   \n",
       "\n",
       "   Jefe / Supervisor / Responsable  Junior  Otro  Senior / Semi-Senior  \n",
       "0                                0       0     0                     1  \n",
       "1                                1       0     0                     0  \n",
       "2                                0       0     0                     1  \n",
       "\n",
       "[3 rows x 26 columns]"
      ]
     },
     "execution_count": 127,
     "metadata": {},
     "output_type": "execute_result"
    }
   ],
   "source": [
    "trainingset.head(3)"
   ]
  },
  {
   "cell_type": "markdown",
   "metadata": {},
   "source": [
    "### Se normalizan las columnas edad y educacion"
   ]
  },
  {
   "cell_type": "code",
   "execution_count": 134,
   "metadata": {},
   "outputs": [],
   "source": [
    "x = trainingset[['edad']].values"
   ]
  },
  {
   "cell_type": "code",
   "execution_count": 135,
   "metadata": {},
   "outputs": [],
   "source": [
    "min_max_scaler = preprocessing.MinMaxScaler()"
   ]
  },
  {
   "cell_type": "code",
   "execution_count": 136,
   "metadata": {},
   "outputs": [],
   "source": [
    "x_scaled = min_max_scaler.fit_transform(x)"
   ]
  },
  {
   "cell_type": "code",
   "execution_count": 139,
   "metadata": {},
   "outputs": [],
   "source": [
    "trainingset['edad'] = x_scaled"
   ]
  },
  {
   "cell_type": "markdown",
   "metadata": {},
   "source": [
    "#### Estudioss"
   ]
  },
  {
   "cell_type": "code",
   "execution_count": 141,
   "metadata": {},
   "outputs": [],
   "source": [
    "x = trainingset[['educacion']].values"
   ]
  },
  {
   "cell_type": "code",
   "execution_count": 142,
   "metadata": {},
   "outputs": [],
   "source": [
    "min_max_scaler = preprocessing.MinMaxScaler()"
   ]
  },
  {
   "cell_type": "code",
   "execution_count": 143,
   "metadata": {},
   "outputs": [],
   "source": [
    "x_scaled = min_max_scaler.fit_transform(x)"
   ]
  },
  {
   "cell_type": "code",
   "execution_count": 145,
   "metadata": {},
   "outputs": [],
   "source": [
    "trainingset['educacion'] = x_scaled"
   ]
  },
  {
   "cell_type": "code",
   "execution_count": 146,
   "metadata": {},
   "outputs": [
    {
     "data": {
      "text/html": [
       "<div>\n",
       "<style scoped>\n",
       "    .dataframe tbody tr th:only-of-type {\n",
       "        vertical-align: middle;\n",
       "    }\n",
       "\n",
       "    .dataframe tbody tr th {\n",
       "        vertical-align: top;\n",
       "    }\n",
       "\n",
       "    .dataframe thead th {\n",
       "        text-align: right;\n",
       "    }\n",
       "</style>\n",
       "<table border=\"1\" class=\"dataframe\">\n",
       "  <thead>\n",
       "    <tr style=\"text-align: right;\">\n",
       "      <th></th>\n",
       "      <th>idpostulante</th>\n",
       "      <th>idaviso</th>\n",
       "      <th>vistas</th>\n",
       "      <th>postulo</th>\n",
       "      <th>educacion</th>\n",
       "      <th>sexo</th>\n",
       "      <th>edad</th>\n",
       "      <th>Buenos Aires (fuera de GBA)</th>\n",
       "      <th>Capital Federal</th>\n",
       "      <th>GBA Oeste</th>\n",
       "      <th>...</th>\n",
       "      <th>Por Horas</th>\n",
       "      <th>Primer empleo</th>\n",
       "      <th>Teletrabajo</th>\n",
       "      <th>Temporario</th>\n",
       "      <th>Voluntario</th>\n",
       "      <th>Gerencia / Alta Gerencia / Dirección</th>\n",
       "      <th>Jefe / Supervisor / Responsable</th>\n",
       "      <th>Junior</th>\n",
       "      <th>Otro</th>\n",
       "      <th>Senior / Semi-Senior</th>\n",
       "    </tr>\n",
       "  </thead>\n",
       "  <tbody>\n",
       "    <tr>\n",
       "      <th>0</th>\n",
       "      <td>0z5Dmrd</td>\n",
       "      <td>1112384041</td>\n",
       "      <td>1</td>\n",
       "      <td>1.0</td>\n",
       "      <td>0.55</td>\n",
       "      <td>True</td>\n",
       "      <td>0.401869</td>\n",
       "      <td>0</td>\n",
       "      <td>0</td>\n",
       "      <td>0</td>\n",
       "      <td>...</td>\n",
       "      <td>0</td>\n",
       "      <td>0</td>\n",
       "      <td>0</td>\n",
       "      <td>0</td>\n",
       "      <td>0</td>\n",
       "      <td>0</td>\n",
       "      <td>0</td>\n",
       "      <td>0</td>\n",
       "      <td>0</td>\n",
       "      <td>1</td>\n",
       "    </tr>\n",
       "    <tr>\n",
       "      <th>1</th>\n",
       "      <td>0z5Dmrd</td>\n",
       "      <td>1112418961</td>\n",
       "      <td>1</td>\n",
       "      <td>0.0</td>\n",
       "      <td>0.55</td>\n",
       "      <td>True</td>\n",
       "      <td>0.401869</td>\n",
       "      <td>0</td>\n",
       "      <td>0</td>\n",
       "      <td>0</td>\n",
       "      <td>...</td>\n",
       "      <td>0</td>\n",
       "      <td>0</td>\n",
       "      <td>0</td>\n",
       "      <td>0</td>\n",
       "      <td>0</td>\n",
       "      <td>0</td>\n",
       "      <td>1</td>\n",
       "      <td>0</td>\n",
       "      <td>0</td>\n",
       "      <td>0</td>\n",
       "    </tr>\n",
       "    <tr>\n",
       "      <th>2</th>\n",
       "      <td>0z5Dmrd</td>\n",
       "      <td>1112420060</td>\n",
       "      <td>1</td>\n",
       "      <td>1.0</td>\n",
       "      <td>0.55</td>\n",
       "      <td>True</td>\n",
       "      <td>0.401869</td>\n",
       "      <td>0</td>\n",
       "      <td>0</td>\n",
       "      <td>0</td>\n",
       "      <td>...</td>\n",
       "      <td>0</td>\n",
       "      <td>0</td>\n",
       "      <td>0</td>\n",
       "      <td>0</td>\n",
       "      <td>0</td>\n",
       "      <td>0</td>\n",
       "      <td>0</td>\n",
       "      <td>0</td>\n",
       "      <td>0</td>\n",
       "      <td>1</td>\n",
       "    </tr>\n",
       "    <tr>\n",
       "      <th>3</th>\n",
       "      <td>0z5Dmrd</td>\n",
       "      <td>1112426253</td>\n",
       "      <td>2</td>\n",
       "      <td>0.0</td>\n",
       "      <td>0.55</td>\n",
       "      <td>True</td>\n",
       "      <td>0.401869</td>\n",
       "      <td>0</td>\n",
       "      <td>0</td>\n",
       "      <td>0</td>\n",
       "      <td>...</td>\n",
       "      <td>0</td>\n",
       "      <td>0</td>\n",
       "      <td>0</td>\n",
       "      <td>0</td>\n",
       "      <td>0</td>\n",
       "      <td>0</td>\n",
       "      <td>1</td>\n",
       "      <td>0</td>\n",
       "      <td>0</td>\n",
       "      <td>0</td>\n",
       "    </tr>\n",
       "    <tr>\n",
       "      <th>4</th>\n",
       "      <td>0z5JW1r</td>\n",
       "      <td>1112165954</td>\n",
       "      <td>2</td>\n",
       "      <td>0.0</td>\n",
       "      <td>0.45</td>\n",
       "      <td>True</td>\n",
       "      <td>0.355140</td>\n",
       "      <td>0</td>\n",
       "      <td>0</td>\n",
       "      <td>0</td>\n",
       "      <td>...</td>\n",
       "      <td>0</td>\n",
       "      <td>0</td>\n",
       "      <td>0</td>\n",
       "      <td>0</td>\n",
       "      <td>0</td>\n",
       "      <td>0</td>\n",
       "      <td>1</td>\n",
       "      <td>0</td>\n",
       "      <td>0</td>\n",
       "      <td>0</td>\n",
       "    </tr>\n",
       "    <tr>\n",
       "      <th>5</th>\n",
       "      <td>0z5JW1r</td>\n",
       "      <td>1112394797</td>\n",
       "      <td>1</td>\n",
       "      <td>1.0</td>\n",
       "      <td>0.45</td>\n",
       "      <td>True</td>\n",
       "      <td>0.355140</td>\n",
       "      <td>0</td>\n",
       "      <td>0</td>\n",
       "      <td>0</td>\n",
       "      <td>...</td>\n",
       "      <td>0</td>\n",
       "      <td>0</td>\n",
       "      <td>0</td>\n",
       "      <td>0</td>\n",
       "      <td>0</td>\n",
       "      <td>0</td>\n",
       "      <td>0</td>\n",
       "      <td>0</td>\n",
       "      <td>0</td>\n",
       "      <td>1</td>\n",
       "    </tr>\n",
       "    <tr>\n",
       "      <th>6</th>\n",
       "      <td>0z5JW1r</td>\n",
       "      <td>1112417455</td>\n",
       "      <td>3</td>\n",
       "      <td>1.0</td>\n",
       "      <td>0.45</td>\n",
       "      <td>True</td>\n",
       "      <td>0.355140</td>\n",
       "      <td>0</td>\n",
       "      <td>0</td>\n",
       "      <td>0</td>\n",
       "      <td>...</td>\n",
       "      <td>0</td>\n",
       "      <td>0</td>\n",
       "      <td>0</td>\n",
       "      <td>0</td>\n",
       "      <td>0</td>\n",
       "      <td>0</td>\n",
       "      <td>0</td>\n",
       "      <td>0</td>\n",
       "      <td>0</td>\n",
       "      <td>1</td>\n",
       "    </tr>\n",
       "    <tr>\n",
       "      <th>7</th>\n",
       "      <td>0z5JW1r</td>\n",
       "      <td>1112428361</td>\n",
       "      <td>2</td>\n",
       "      <td>1.0</td>\n",
       "      <td>0.45</td>\n",
       "      <td>True</td>\n",
       "      <td>0.355140</td>\n",
       "      <td>0</td>\n",
       "      <td>0</td>\n",
       "      <td>0</td>\n",
       "      <td>...</td>\n",
       "      <td>0</td>\n",
       "      <td>0</td>\n",
       "      <td>0</td>\n",
       "      <td>0</td>\n",
       "      <td>0</td>\n",
       "      <td>1</td>\n",
       "      <td>0</td>\n",
       "      <td>0</td>\n",
       "      <td>0</td>\n",
       "      <td>0</td>\n",
       "    </tr>\n",
       "    <tr>\n",
       "      <th>8</th>\n",
       "      <td>0z5JW1r</td>\n",
       "      <td>1112450843</td>\n",
       "      <td>2</td>\n",
       "      <td>0.0</td>\n",
       "      <td>0.45</td>\n",
       "      <td>True</td>\n",
       "      <td>0.355140</td>\n",
       "      <td>0</td>\n",
       "      <td>0</td>\n",
       "      <td>0</td>\n",
       "      <td>...</td>\n",
       "      <td>0</td>\n",
       "      <td>0</td>\n",
       "      <td>0</td>\n",
       "      <td>0</td>\n",
       "      <td>0</td>\n",
       "      <td>0</td>\n",
       "      <td>0</td>\n",
       "      <td>0</td>\n",
       "      <td>0</td>\n",
       "      <td>1</td>\n",
       "    </tr>\n",
       "    <tr>\n",
       "      <th>9</th>\n",
       "      <td>0z5VvGv</td>\n",
       "      <td>1111413600</td>\n",
       "      <td>1</td>\n",
       "      <td>0.0</td>\n",
       "      <td>0.10</td>\n",
       "      <td>True</td>\n",
       "      <td>0.196262</td>\n",
       "      <td>0</td>\n",
       "      <td>1</td>\n",
       "      <td>0</td>\n",
       "      <td>...</td>\n",
       "      <td>0</td>\n",
       "      <td>0</td>\n",
       "      <td>0</td>\n",
       "      <td>0</td>\n",
       "      <td>0</td>\n",
       "      <td>0</td>\n",
       "      <td>0</td>\n",
       "      <td>0</td>\n",
       "      <td>1</td>\n",
       "      <td>0</td>\n",
       "    </tr>\n",
       "  </tbody>\n",
       "</table>\n",
       "<p>10 rows × 26 columns</p>\n",
       "</div>"
      ],
      "text/plain": [
       "  idpostulante     idaviso  vistas  postulo  educacion  sexo      edad  \\\n",
       "0      0z5Dmrd  1112384041       1      1.0       0.55  True  0.401869   \n",
       "1      0z5Dmrd  1112418961       1      0.0       0.55  True  0.401869   \n",
       "2      0z5Dmrd  1112420060       1      1.0       0.55  True  0.401869   \n",
       "3      0z5Dmrd  1112426253       2      0.0       0.55  True  0.401869   \n",
       "4      0z5JW1r  1112165954       2      0.0       0.45  True  0.355140   \n",
       "5      0z5JW1r  1112394797       1      1.0       0.45  True  0.355140   \n",
       "6      0z5JW1r  1112417455       3      1.0       0.45  True  0.355140   \n",
       "7      0z5JW1r  1112428361       2      1.0       0.45  True  0.355140   \n",
       "8      0z5JW1r  1112450843       2      0.0       0.45  True  0.355140   \n",
       "9      0z5VvGv  1111413600       1      0.0       0.10  True  0.196262   \n",
       "\n",
       "   Buenos Aires (fuera de GBA)  Capital Federal  GBA Oeste  \\\n",
       "0                            0                0          0   \n",
       "1                            0                0          0   \n",
       "2                            0                0          0   \n",
       "3                            0                0          0   \n",
       "4                            0                0          0   \n",
       "5                            0                0          0   \n",
       "6                            0                0          0   \n",
       "7                            0                0          0   \n",
       "8                            0                0          0   \n",
       "9                            0                1          0   \n",
       "\n",
       "           ...           Por Horas  Primer empleo  Teletrabajo  Temporario  \\\n",
       "0          ...                   0              0            0           0   \n",
       "1          ...                   0              0            0           0   \n",
       "2          ...                   0              0            0           0   \n",
       "3          ...                   0              0            0           0   \n",
       "4          ...                   0              0            0           0   \n",
       "5          ...                   0              0            0           0   \n",
       "6          ...                   0              0            0           0   \n",
       "7          ...                   0              0            0           0   \n",
       "8          ...                   0              0            0           0   \n",
       "9          ...                   0              0            0           0   \n",
       "\n",
       "   Voluntario  Gerencia / Alta Gerencia / Dirección  \\\n",
       "0           0                                     0   \n",
       "1           0                                     0   \n",
       "2           0                                     0   \n",
       "3           0                                     0   \n",
       "4           0                                     0   \n",
       "5           0                                     0   \n",
       "6           0                                     0   \n",
       "7           0                                     1   \n",
       "8           0                                     0   \n",
       "9           0                                     0   \n",
       "\n",
       "   Jefe / Supervisor / Responsable  Junior  Otro  Senior / Semi-Senior  \n",
       "0                                0       0     0                     1  \n",
       "1                                1       0     0                     0  \n",
       "2                                0       0     0                     1  \n",
       "3                                1       0     0                     0  \n",
       "4                                1       0     0                     0  \n",
       "5                                0       0     0                     1  \n",
       "6                                0       0     0                     1  \n",
       "7                                0       0     0                     0  \n",
       "8                                0       0     0                     1  \n",
       "9                                0       0     1                     0  \n",
       "\n",
       "[10 rows x 26 columns]"
      ]
     },
     "execution_count": 146,
     "metadata": {},
     "output_type": "execute_result"
    }
   ],
   "source": [
    "trainingset.head(10)"
   ]
  },
  {
   "cell_type": "markdown",
   "metadata": {},
   "source": [
    "### Se guarda el DATASET completo y final"
   ]
  },
  {
   "cell_type": "code",
   "execution_count": 147,
   "metadata": {},
   "outputs": [],
   "source": [
    "trainingset.to_pickle('final_trainingset')"
   ]
  },
  {
   "cell_type": "code",
   "execution_count": null,
   "metadata": {},
   "outputs": [],
   "source": []
  }
 ],
 "metadata": {
  "kernelspec": {
   "display_name": "Python 3",
   "language": "python",
   "name": "python3"
  },
  "language_info": {
   "codemirror_mode": {
    "name": "ipython",
    "version": 3
   },
   "file_extension": ".py",
   "mimetype": "text/x-python",
   "name": "python",
   "nbconvert_exporter": "python",
   "pygments_lexer": "ipython3",
   "version": "3.6.4"
  }
 },
 "nbformat": 4,
 "nbformat_minor": 2
}
